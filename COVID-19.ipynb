{
 "cells": [
  {
   "cell_type": "markdown",
   "metadata": {},
   "source": [
    "# Sentiment analysis COVID-19 scholar's articles"
   ]
  },
  {
   "cell_type": "markdown",
   "metadata": {},
   "source": [
    "# Imports"
   ]
  },
  {
   "cell_type": "code",
   "execution_count": 23,
   "metadata": {},
   "outputs": [],
   "source": [
    "import os\n",
    "import json\n",
    "import pandas as pd\n",
    "import numpy as np\n",
    "from mpl_toolkits.mplot3d import Axes3D\n",
    "import matplotlib.pyplot as plt\n",
    "from matplotlib import style\n",
    "style.use('ggplot')\n",
    "%matplotlib inline\n",
    "import nltk\n",
    "from nltk.tokenize import word_tokenize\n",
    "from nltk.corpus import stopwords\n",
    "from  nltk import FreqDist\n",
    "from nltk.stem.wordnet import WordNetLemmatizer\n",
    "from nltk.collocations import *\n",
    "import re\n",
    "import string\n",
    "from sklearn.feature_extraction.text import CountVectorizer\n",
    "from sklearn.feature_extraction.text import TfidfVectorizer\n",
    "from nltk.sentiment.vader import SentimentIntensityAnalyzer\n",
    "from wordcloud import WordCloud\n",
    "np.random.seed(0)"
   ]
  },
  {
   "cell_type": "code",
   "execution_count": 24,
   "metadata": {
    "scrolled": true
   },
   "outputs": [
    {
     "name": "stdout",
     "output_type": "stream",
     "text": [
      " Volume in drive C is OS\n",
      " Volume Serial Number is D816-28B0\n",
      "\n",
      " Directory of C:\\Users\\luigi\\FlatironSchool\\personal_project\n",
      "\n",
      "14/04/2020  10:00    <DIR>          .\n",
      "14/04/2020  10:00    <DIR>          ..\n",
      "23/03/2020  14:33    <DIR>          .ipynb_checkpoints\n",
      "23/03/2020  14:30    <DIR>          biorxiv_medrxiv\n",
      "23/03/2020  14:13    <DIR>          comm_use_subset\n",
      "21/03/2020  00:32            26,690 COVID.DATA.LIC.AGMT.pdf\n",
      "14/04/2020  10:00            60,042 COVID-19.ipynb\n",
      "23/03/2020  14:13    <DIR>          custom_license\n",
      "21/03/2020  00:37             2,906 json_schema.txt\n",
      "21/03/2020  00:37             1,574 metadata.readme\n",
      "23/03/2020  14:14    <DIR>          noncomm_use_subset\n",
      "               4 File(s)         91,212 bytes\n",
      "               7 Dir(s)   9,439,969,280 bytes free\n"
     ]
    }
   ],
   "source": [
    "ls"
   ]
  },
  {
   "cell_type": "markdown",
   "metadata": {},
   "source": [
    "# See documents README"
   ]
  },
  {
   "cell_type": "code",
   "execution_count": 25,
   "metadata": {},
   "outputs": [
    {
     "name": "stdout",
     "output_type": "stream",
     "text": [
      "(1) Metadata for papers from these sources are combined: CZI, PMC, BioRxiv/MedRxiv. (total records 29500)\n",
      "\t- CZI 1236 records\n",
      "\t- PMC 27337\n",
      "\t- bioRxiv 566\n",
      "\t- medRxiv 361\n",
      "(2) 17K of the paper records have PDFs and the hash of the PDFs are in 'sha'\n",
      "(3) For PMC sourced papers, one paper's metadata can be associated with one or more PDFs/shas under that paper - a PDF/sha correponding to the main article, and possibly additional PDF/shas corresponding to supporting materials for the article.\n",
      "(4)\t13K of the PDFs were processed with fulltext ('has_full_text'=True)\n",
      "(5) Various 'keys' are populated with the metadata:\n",
      "\t- 'pmcid': populated for all PMC paper records (27337 non null)\n",
      "\t- 'doi': populated for all BioRxiv/MedRxiv paper records and most of the other records (26357 non null)\n",
      "\t- 'WHO #Covidence': populated for all CZI records and none of the other records (1236 non null)\n",
      "\t- 'pubmed_id': populated for some of the records\n",
      "\t- 'Microsoft Academic Paper ID': populated for some of the records\n",
      "\n",
      "2020-03-20\n",
      "---CHANGES---\n",
      "* normalized doi, authors, title, abstract strings\n",
      "* merged redundant rows in metadata file on doi, pmcid, and pubmed_id\n",
      "* metadata sha column can now include multiple files (some PMC files have multiple associated PDFs)\n",
      "* added column in metadata file \"full_text_file\" to signal the tar.gz file in which the full text json resides\n",
      "---SUMMARY---\n",
      "total metadata rows: 44220\n",
      "custom_license: 16959 full text (new: 15533)\n",
      "noncomm_use_subset: 2353 full text (new: 385)\n",
      "comm_use_subset: 9118 full text (new: 128)\n",
      "biorxiv_medrxiv: 885 full text (new: 110)\n"
     ]
    }
   ],
   "source": [
    "with open('metadata.readme', 'r') as f:\n",
    "    data = f.read()\n",
    "    print(data)"
   ]
  },
  {
   "cell_type": "markdown",
   "metadata": {},
   "source": [
    "# Create df for commercial articles"
   ]
  },
  {
   "cell_type": "code",
   "execution_count": 44,
   "metadata": {},
   "outputs": [],
   "source": [
    "directory = ['comm_use_subset']"
   ]
  },
  {
   "cell_type": "code",
   "execution_count": 50,
   "metadata": {
    "scrolled": true
   },
   "outputs": [],
   "source": [
    "def create_df_text(directory): \n",
    "    \n",
    "    ''' Create df with title, abstract and full text as columns\n",
    "    \n",
    "        Argument: directory: choose the directory needed\n",
    "        \n",
    "        Return: dataframe\n",
    "    \n",
    "    '''\n",
    "    docs = []\n",
    "    for d in directory:\n",
    "        for index, file in enumerate(os.listdir(f\"{d}/{d}\")):\n",
    "            file_path = f\"{d}/{d}/{file}\"\n",
    "            j = json.load(open(file_path, 'rb'))\n",
    "\n",
    "            title = j['metadata']['title']\n",
    "\n",
    "            try:\n",
    "                abstract = j['abstract'][0]['text']\n",
    "            except:\n",
    "                abstract = \"\"\n",
    "\n",
    "            full_text = \"\"   \n",
    "            for text in j['body_text']:\n",
    "                full_text += text['text'] + \"\\n\\n\"\n",
    "\n",
    "\n",
    "            docs.append([title, abstract, full_text])\n",
    "\n",
    "            if index % 10 == 0:\n",
    "                print(index, end=\" \")\n",
    "                \n",
    "    df = pd.DataFrame(docs, columns = ['title', 'abstract', 'full_text'])\n",
    "            \n",
    "    return df"
   ]
  },
  {
   "cell_type": "code",
   "execution_count": 52,
   "metadata": {},
   "outputs": [
    {
     "name": "stdout",
     "output_type": "stream",
     "text": [
      "0 10 20 30 40 50 60 70 80 90 100 110 120 130 140 150 160 170 180 190 200 210 220 230 240 250 260 270 280 290 300 310 320 330 340 350 360 370 380 390 400 410 420 430 440 450 460 470 480 490 500 510 520 530 540 550 560 570 580 590 600 610 620 630 640 650 660 670 680 690 700 710 720 730 740 750 760 770 780 790 800 810 820 830 840 850 860 870 880 890 900 910 920 930 940 950 960 970 980 990 1000 1010 1020 1030 1040 1050 1060 1070 1080 1090 1100 1110 1120 1130 1140 1150 1160 1170 1180 1190 1200 1210 1220 1230 1240 1250 1260 1270 1280 1290 1300 1310 1320 1330 1340 1350 1360 1370 1380 1390 1400 1410 1420 1430 1440 1450 1460 1470 1480 1490 1500 1510 1520 1530 1540 1550 1560 1570 1580 1590 1600 1610 1620 1630 1640 1650 1660 1670 1680 1690 1700 1710 1720 1730 1740 1750 1760 1770 1780 1790 1800 1810 1820 1830 1840 1850 1860 1870 1880 1890 1900 1910 1920 1930 1940 1950 1960 1970 1980 1990 2000 2010 2020 2030 2040 2050 2060 2070 2080 2090 2100 2110 2120 2130 2140 2150 2160 2170 2180 2190 2200 2210 2220 2230 2240 2250 2260 2270 2280 2290 2300 2310 2320 2330 2340 2350 2360 2370 2380 2390 2400 2410 2420 2430 2440 2450 2460 2470 2480 2490 2500 2510 2520 2530 2540 2550 2560 2570 2580 2590 2600 2610 2620 2630 2640 2650 2660 2670 2680 2690 2700 2710 2720 2730 2740 2750 2760 2770 2780 2790 2800 2810 2820 2830 2840 2850 2860 2870 2880 2890 2900 2910 2920 2930 2940 2950 2960 2970 2980 2990 3000 3010 3020 3030 3040 3050 3060 3070 3080 3090 3100 3110 3120 3130 3140 3150 3160 3170 3180 3190 3200 3210 3220 3230 3240 3250 3260 3270 3280 3290 3300 3310 3320 3330 3340 3350 3360 3370 3380 3390 3400 3410 3420 3430 3440 3450 3460 3470 3480 3490 3500 3510 3520 3530 3540 3550 3560 3570 3580 3590 3600 3610 3620 3630 3640 3650 3660 3670 3680 3690 3700 3710 3720 3730 3740 3750 3760 3770 3780 3790 3800 3810 3820 3830 3840 3850 3860 3870 3880 3890 3900 3910 3920 3930 3940 3950 3960 3970 3980 3990 4000 4010 4020 4030 4040 4050 4060 4070 4080 4090 4100 4110 4120 4130 4140 4150 4160 4170 4180 4190 4200 4210 4220 4230 4240 4250 4260 4270 4280 4290 4300 4310 4320 4330 4340 4350 4360 4370 4380 4390 4400 4410 4420 4430 4440 4450 4460 4470 4480 4490 4500 4510 4520 4530 4540 4550 4560 4570 4580 4590 4600 4610 4620 4630 4640 4650 4660 4670 4680 4690 4700 4710 4720 4730 4740 4750 4760 4770 4780 4790 4800 4810 4820 4830 4840 4850 4860 4870 4880 4890 4900 4910 4920 4930 4940 4950 4960 4970 4980 4990 5000 5010 5020 5030 5040 5050 5060 5070 5080 5090 5100 5110 5120 5130 5140 5150 5160 5170 5180 5190 5200 5210 5220 5230 5240 5250 5260 5270 5280 5290 5300 5310 5320 5330 5340 5350 5360 5370 5380 5390 5400 5410 5420 5430 5440 5450 5460 5470 5480 5490 5500 5510 5520 5530 5540 5550 5560 5570 5580 5590 5600 5610 5620 5630 5640 5650 5660 5670 5680 5690 5700 5710 5720 5730 5740 5750 5760 5770 5780 5790 5800 5810 5820 5830 5840 5850 5860 5870 5880 5890 5900 5910 5920 5930 5940 5950 5960 5970 5980 5990 6000 6010 6020 6030 6040 6050 6060 6070 6080 6090 6100 6110 6120 6130 6140 6150 6160 6170 6180 6190 6200 6210 6220 6230 6240 6250 6260 6270 6280 6290 6300 6310 6320 6330 6340 6350 6360 6370 6380 6390 6400 6410 6420 6430 6440 6450 6460 6470 6480 6490 6500 6510 6520 6530 6540 6550 6560 6570 6580 6590 6600 6610 6620 6630 6640 6650 6660 6670 6680 6690 6700 6710 6720 6730 6740 6750 6760 6770 6780 6790 6800 6810 6820 6830 6840 6850 6860 6870 6880 6890 6900 6910 6920 6930 6940 6950 6960 6970 6980 6990 7000 7010 7020 7030 7040 7050 7060 7070 7080 7090 7100 7110 7120 7130 7140 7150 7160 7170 7180 7190 7200 7210 7220 7230 7240 7250 7260 7270 7280 7290 7300 7310 7320 7330 7340 7350 7360 7370 7380 7390 7400 7410 7420 7430 7440 7450 7460 7470 7480 7490 7500 7510 7520 7530 7540 7550 7560 7570 7580 7590 7600 7610 7620 7630 7640 7650 7660 7670 7680 7690 7700 7710 7720 7730 7740 7750 7760 7770 7780 7790 7800 7810 7820 7830 7840 7850 7860 7870 7880 7890 7900 7910 7920 7930 7940 7950 7960 7970 7980 7990 8000 8010 8020 8030 8040 8050 8060 8070 8080 8090 8100 8110 8120 8130 8140 8150 8160 8170 8180 8190 8200 8210 8220 8230 8240 8250 8260 8270 8280 8290 8300 8310 8320 8330 8340 8350 8360 8370 8380 8390 8400 8410 8420 8430 8440 8450 8460 8470 8480 8490 8500 8510 8520 8530 8540 8550 8560 8570 8580 8590 8600 8610 8620 8630 8640 8650 8660 8670 8680 8690 8700 8710 8720 8730 8740 8750 8760 8770 8780 8790 8800 8810 8820 8830 8840 8850 8860 8870 8880 8890 8900 8910 8920 8930 8940 8950 8960 8970 8980 8990 9000 9010 9020 9030 9040 9050 9060 9070 9080 9090 9100 9110 "
     ]
    }
   ],
   "source": [
    "df_comm = create_df_text(directory)"
   ]
  },
  {
   "cell_type": "code",
   "execution_count": 49,
   "metadata": {},
   "outputs": [
    {
     "data": {
      "text/html": [
       "<div>\n",
       "<style scoped>\n",
       "    .dataframe tbody tr th:only-of-type {\n",
       "        vertical-align: middle;\n",
       "    }\n",
       "\n",
       "    .dataframe tbody tr th {\n",
       "        vertical-align: top;\n",
       "    }\n",
       "\n",
       "    .dataframe thead th {\n",
       "        text-align: right;\n",
       "    }\n",
       "</style>\n",
       "<table border=\"1\" class=\"dataframe\">\n",
       "  <thead>\n",
       "    <tr style=\"text-align: right;\">\n",
       "      <th></th>\n",
       "      <th>title</th>\n",
       "      <th>abstract</th>\n",
       "      <th>full_text</th>\n",
       "    </tr>\n",
       "  </thead>\n",
       "  <tbody>\n",
       "    <tr>\n",
       "      <th>0</th>\n",
       "      <td>Supplementary Information An eco-epidemiologic...</td>\n",
       "      <td></td>\n",
       "      <td>- Figure S1 : Phylogeny of all sequences belon...</td>\n",
       "    </tr>\n",
       "    <tr>\n",
       "      <th>1</th>\n",
       "      <td>immunity to pathogens taught by specialized hu...</td>\n",
       "      <td>Dendritic cells (DCs) are specialized antigen-...</td>\n",
       "      <td>iNTRODUCTiON Human beings are constantly expos...</td>\n",
       "    </tr>\n",
       "    <tr>\n",
       "      <th>2</th>\n",
       "      <td>Public Health Responses to and Challenges for ...</td>\n",
       "      <td>Dengue has a negative impact in low-and lower ...</td>\n",
       "      <td>Pathogens and vectors can now be transported r...</td>\n",
       "    </tr>\n",
       "    <tr>\n",
       "      <th>3</th>\n",
       "      <td>a section of the journal Frontiers in Pediatri...</td>\n",
       "      <td>Fifteen years ago, United Nations world leader...</td>\n",
       "      <td>In addition to preventative care and nutrition...</td>\n",
       "    </tr>\n",
       "    <tr>\n",
       "      <th>4</th>\n",
       "      <td>MINI REVIEW Function of the Deubiquitinating E...</td>\n",
       "      <td>Posttranslational modification of proteins by ...</td>\n",
       "      <td>Ubiquitination is a widely used posttranslatio...</td>\n",
       "    </tr>\n",
       "  </tbody>\n",
       "</table>\n",
       "</div>"
      ],
      "text/plain": [
       "                                               title  \\\n",
       "0  Supplementary Information An eco-epidemiologic...   \n",
       "1  immunity to pathogens taught by specialized hu...   \n",
       "2  Public Health Responses to and Challenges for ...   \n",
       "3  a section of the journal Frontiers in Pediatri...   \n",
       "4  MINI REVIEW Function of the Deubiquitinating E...   \n",
       "\n",
       "                                            abstract  \\\n",
       "0                                                      \n",
       "1  Dendritic cells (DCs) are specialized antigen-...   \n",
       "2  Dengue has a negative impact in low-and lower ...   \n",
       "3  Fifteen years ago, United Nations world leader...   \n",
       "4  Posttranslational modification of proteins by ...   \n",
       "\n",
       "                                           full_text  \n",
       "0  - Figure S1 : Phylogeny of all sequences belon...  \n",
       "1  iNTRODUCTiON Human beings are constantly expos...  \n",
       "2  Pathogens and vectors can now be transported r...  \n",
       "3  In addition to preventative care and nutrition...  \n",
       "4  Ubiquitination is a widely used posttranslatio...  "
      ]
     },
     "execution_count": 49,
     "metadata": {},
     "output_type": "execute_result"
    }
   ],
   "source": [
    "df_comm.head()"
   ]
  },
  {
   "cell_type": "code",
   "execution_count": 9,
   "metadata": {},
   "outputs": [
    {
     "data": {
      "text/plain": [
       "title        False\n",
       "abstract     False\n",
       "full_text    False\n",
       "dtype: bool"
      ]
     },
     "execution_count": 9,
     "metadata": {},
     "output_type": "execute_result"
    }
   ],
   "source": [
    "df_comm.isnull().any()"
   ]
  },
  {
   "cell_type": "markdown",
   "metadata": {},
   "source": [
    "# Check articles that contain the word incubation"
   ]
  },
  {
   "cell_type": "code",
   "execution_count": 10,
   "metadata": {},
   "outputs": [
    {
     "data": {
      "text/html": [
       "<div>\n",
       "<style scoped>\n",
       "    .dataframe tbody tr th:only-of-type {\n",
       "        vertical-align: middle;\n",
       "    }\n",
       "\n",
       "    .dataframe tbody tr th {\n",
       "        vertical-align: top;\n",
       "    }\n",
       "\n",
       "    .dataframe thead th {\n",
       "        text-align: right;\n",
       "    }\n",
       "</style>\n",
       "<table border=\"1\" class=\"dataframe\">\n",
       "  <thead>\n",
       "    <tr style=\"text-align: right;\">\n",
       "      <th></th>\n",
       "      <th>title</th>\n",
       "      <th>abstract</th>\n",
       "      <th>full_text</th>\n",
       "    </tr>\n",
       "  </thead>\n",
       "  <tbody>\n",
       "    <tr>\n",
       "      <th>3</th>\n",
       "      <td>a section of the journal Frontiers in Pediatri...</td>\n",
       "      <td>Fifteen years ago, United Nations world leader...</td>\n",
       "      <td>In addition to preventative care and nutrition...</td>\n",
       "    </tr>\n",
       "    <tr>\n",
       "      <th>6</th>\n",
       "      <td>GPI-anchored single chain Fv -an effective way...</td>\n",
       "      <td>Background: Identification of broad neutraliza...</td>\n",
       "      <td>Human Immunodeficiency Virus type 1 (HIV-1) en...</td>\n",
       "    </tr>\n",
       "    <tr>\n",
       "      <th>8</th>\n",
       "      <td>Chaperone-Mediated Autophagy Protein BAG3 Nega...</td>\n",
       "      <td>Ebola (EBOV) and Marburg (MARV) viruses are me...</td>\n",
       "      <td>Introduction Ebola (EBOV) and Marburg (MARV) v...</td>\n",
       "    </tr>\n",
       "    <tr>\n",
       "      <th>11</th>\n",
       "      <td>Rational Design of a Live Attenuated Dengue Va...</td>\n",
       "      <td>Dengue virus is transmitted by Aedes mosquitoe...</td>\n",
       "      <td>Dengue virus (DENV) is a member of the Flavivi...</td>\n",
       "    </tr>\n",
       "    <tr>\n",
       "      <th>12</th>\n",
       "      <td>The Domain-Specific and Temperature-Dependent ...</td>\n",
       "      <td>The implementation of expanded newborn screeni...</td>\n",
       "      <td>Medium-chain acyl-CoA dehydrogenase deficiency...</td>\n",
       "    </tr>\n",
       "  </tbody>\n",
       "</table>\n",
       "</div>"
      ],
      "text/plain": [
       "                                                title  \\\n",
       "3   a section of the journal Frontiers in Pediatri...   \n",
       "6   GPI-anchored single chain Fv -an effective way...   \n",
       "8   Chaperone-Mediated Autophagy Protein BAG3 Nega...   \n",
       "11  Rational Design of a Live Attenuated Dengue Va...   \n",
       "12  The Domain-Specific and Temperature-Dependent ...   \n",
       "\n",
       "                                             abstract  \\\n",
       "3   Fifteen years ago, United Nations world leader...   \n",
       "6   Background: Identification of broad neutraliza...   \n",
       "8   Ebola (EBOV) and Marburg (MARV) viruses are me...   \n",
       "11  Dengue virus is transmitted by Aedes mosquitoe...   \n",
       "12  The implementation of expanded newborn screeni...   \n",
       "\n",
       "                                            full_text  \n",
       "3   In addition to preventative care and nutrition...  \n",
       "6   Human Immunodeficiency Virus type 1 (HIV-1) en...  \n",
       "8   Introduction Ebola (EBOV) and Marburg (MARV) v...  \n",
       "11  Dengue virus (DENV) is a member of the Flavivi...  \n",
       "12  Medium-chain acyl-CoA dehydrogenase deficiency...  "
      ]
     },
     "execution_count": 10,
     "metadata": {},
     "output_type": "execute_result"
    }
   ],
   "source": [
    "incubation = df_comm[df_comm['full_text'].str.contains('incubation')]\n",
    "incubation.head()"
   ]
  },
  {
   "cell_type": "markdown",
   "metadata": {},
   "source": [
    "Let's write a regex for capture digits followed by the word day and save in a list."
   ]
  },
  {
   "cell_type": "code",
   "execution_count": 59,
   "metadata": {},
   "outputs": [],
   "source": [
    "incubation_time = []\n",
    "texts = incubation['full_text'].values\n",
    "\n",
    "for text in texts:\n",
    "    for sentence in text.split(\". \"):\n",
    "        if \"incubation\" in sentence:\n",
    "            single_day = re.findall(r'( \\d{1,2}(\\.\\d{1,2})? day[s]?)', sentence)\n",
    "            \n",
    "            if len(single_day) == 1:\n",
    "                num = single_day[0][0].split(\" \")\n",
    "                incubation_time.append(float(num[1]))"
   ]
  },
  {
   "cell_type": "code",
   "execution_count": 60,
   "metadata": {
    "scrolled": true
   },
   "outputs": [
    {
     "name": "stdout",
     "output_type": "stream",
     "text": [
      "405\n",
      "[2.5, 5.0, 5.0, 5.0, 3.0, 3.0, 3.0, 10.0, 5.2, 7.0, 2.0, 2.0, 2.0, 7.0, 4.0, 11.0, 11.0, 21.0, 2.0, 2.0, 5.0, 3.0, 5.2, 4.0, 4.0, 7.0, 5.2, 3.0, 5.0, 4.0, 14.0, 7.0, 4.0, 3.0, 28.0, 3.0, 2.0, 6.0, 2.0, 4.0, 3.0, 1.0, 3.0, 42.0, 42.0, 12.0, 14.0, 6.0, 3.0, 3.0, 4.0, 5.0, 7.0, 14.0, 5.6, 5.0, 5.0, 5.0, 14.0, 15.0, 56.0, 56.0, 3.0, 10.0, 6.0, 4.0, 2.0, 9.0, 16.0, 6.0, 3.0, 3.0, 3.0, 15.0, 21.3, 31.1, 28.0, 3.0, 3.0, 5.0, 4.0, 5.0, 16.0, 14.0, 6.0, 4.0, 5.0, 3.0, 7.0, 1.0, 8.0, 14.0, 10.0, 7.0, 7.0, 3.0, 2.0, 13.0, 14.0, 2.0, 14.0, 5.0, 7.0, 4.0, 5.0, 6.0, 4.0, 1.0, 4.0, 3.0, 2.0, 3.0, 21.0, 21.0, 3.0, 3.0, 6.0, 5.0, 3.4, 3.5, 1.9, 15.0, 4.0, 6.7, 2.0, 10.0, 3.0, 6.4, 11.1, 11.1, 14.0, 5.0, 3.0, 28.0, 15.0, 3.0, 5.2, 5.0, 7.0, 14.0, 10.0, 7.0, 13.0, 15.0, 10.0, 18.0, 7.0, 4.0, 5.0, 4.5, 2.0, 5.0, 1.2, 2.0, 5.0, 4.0, 3.0, 90.0, 90.0, 5.0, 21.0, 11.4, 6.0, 3.0, 4.0, 14.0, 14.0, 7.0, 3.0, 5.2, 3.67, 5.0, 6.0, 6.0, 3.0, 14.0, 3.0, 2.0, 3.0, 21.0, 5.0, 3.0, 4.0, 4.0, 5.0, 5.0, 2.0, 5.0, 3.0, 3.0, 3.0, 3.0, 3.0, 10.0, 3.0, 5.0, 7.0, 6.0, 4.0, 4.0, 12.0, 13.0, 3.0, 5.0, 42.0, 2.0, 22.0, 5.0, 3.0, 3.0, 10.0, 25.0, 5.0, 14.0, 14.0, 14.0, 21.0, 1.0, 5.0, 10.0, 6.0, 5.0, 3.0, 3.0, 3.0, 3.0, 21.0, 5.0, 4.0, 14.0, 5.0, 2.0, 5.0, 5.0, 15.0, 12.0, 4.0, 16.0, 4.0, 24.0, 5.0, 5.0, 5.2, 8.0, 9.0, 6.0, 5.0, 1.0, 14.0, 3.0, 12.0, 1.5, 3.0, 3.0, 3.0, 5.0, 5.0, 6.0, 14.0, 16.0, 15.2, 14.0, 10.0, 7.0, 6.0, 6.0, 3.0, 4.0, 3.0, 7.0, 21.0, 3.0, 15.0, 5.0, 5.5, 6.5, 6.5, 10.0, 5.0, 7.0, 3.0, 16.0, 10.0, 11.4, 3.3, 11.4, 21.0, 3.0, 5.0, 5.0, 6.0, 6.0, 10.0, 9.0, 21.0, 12.0, 20.0, 10.0, 15.0, 1.0, 5.8, 6.3, 2.0, 20.0, 5.0, 4.0, 4.0, 2.0, 5.0, 2.8, 6.0, 4.0, 3.0, 6.0, 5.0, 14.0, 40.0, 10.0, 3.0, 5.0, 8.0, 4.0, 15.0, 3.0, 2.0, 14.0, 10.0, 9.0, 2.0, 2.0, 4.0, 2.6, 3.2, 1.9, 10.0, 3.0, 3.0, 7.0, 25.0, 5.0, 3.0, 3.0, 6.0, 3.0, 9.5, 7.0, 2.0, 42.0, 2.0, 14.0, 5.0, 7.0, 6.4, 11.1, 11.1, 14.0, 5.0, 5.0, 5.0, 5.0, 13.8, 7.0, 10.0, 2.0, 5.0, 3.0, 18.0, 21.0, 5.2, 6.0, 6.0, 2.0, 2.0, 2.0, 3.0, 7.0, 5.0, 10.0, 5.0, 3.0, 5.0, 5.0, 15.0, 3.0, 8.0, 8.0, 12.0, 6.0, 16.0, 6.0, 6.0, 56.0, 10.0, 10.0, 5.2, 5.2, 2.0, 2.0, 21.0, 6.0, 3.0, 10.0, 14.0, 3.0, 4.0] "
     ]
    }
   ],
   "source": [
    "print(len(incubation_time))\n",
    "print(incubation_time, end=' ')"
   ]
  },
  {
   "cell_type": "markdown",
   "metadata": {},
   "source": [
    "I'm assuming that values over 30 are outliers so I'm gonna remove them."
   ]
  },
  {
   "cell_type": "code",
   "execution_count": 73,
   "metadata": {},
   "outputs": [],
   "source": [
    "inc_time = [i for i in incubation_time if i < 30]"
   ]
  },
  {
   "cell_type": "code",
   "execution_count": 74,
   "metadata": {},
   "outputs": [
    {
     "data": {
      "text/html": [
       "<div>\n",
       "<style scoped>\n",
       "    .dataframe tbody tr th:only-of-type {\n",
       "        vertical-align: middle;\n",
       "    }\n",
       "\n",
       "    .dataframe tbody tr th {\n",
       "        vertical-align: top;\n",
       "    }\n",
       "\n",
       "    .dataframe thead th {\n",
       "        text-align: right;\n",
       "    }\n",
       "</style>\n",
       "<table border=\"1\" class=\"dataframe\">\n",
       "  <thead>\n",
       "    <tr style=\"text-align: right;\">\n",
       "      <th></th>\n",
       "      <th>Incubation days</th>\n",
       "    </tr>\n",
       "  </thead>\n",
       "  <tbody>\n",
       "    <tr>\n",
       "      <th>0</th>\n",
       "      <td>2.5</td>\n",
       "    </tr>\n",
       "    <tr>\n",
       "      <th>1</th>\n",
       "      <td>5.0</td>\n",
       "    </tr>\n",
       "    <tr>\n",
       "      <th>2</th>\n",
       "      <td>5.0</td>\n",
       "    </tr>\n",
       "    <tr>\n",
       "      <th>3</th>\n",
       "      <td>5.0</td>\n",
       "    </tr>\n",
       "    <tr>\n",
       "      <th>4</th>\n",
       "      <td>3.0</td>\n",
       "    </tr>\n",
       "  </tbody>\n",
       "</table>\n",
       "</div>"
      ],
      "text/plain": [
       "   Incubation days\n",
       "0              2.5\n",
       "1              5.0\n",
       "2              5.0\n",
       "3              5.0\n",
       "4              3.0"
      ]
     },
     "execution_count": 74,
     "metadata": {},
     "output_type": "execute_result"
    }
   ],
   "source": [
    "df_inc = pd.DataFrame(inc_time, columns=['Incubation days'])\n",
    "df_inc.head()"
   ]
  },
  {
   "cell_type": "code",
   "execution_count": 75,
   "metadata": {},
   "outputs": [
    {
     "data": {
      "text/html": [
       "<div>\n",
       "<style scoped>\n",
       "    .dataframe tbody tr th:only-of-type {\n",
       "        vertical-align: middle;\n",
       "    }\n",
       "\n",
       "    .dataframe tbody tr th {\n",
       "        vertical-align: top;\n",
       "    }\n",
       "\n",
       "    .dataframe thead th {\n",
       "        text-align: right;\n",
       "    }\n",
       "</style>\n",
       "<table border=\"1\" class=\"dataframe\">\n",
       "  <thead>\n",
       "    <tr style=\"text-align: right;\">\n",
       "      <th></th>\n",
       "      <th>Incubation days</th>\n",
       "    </tr>\n",
       "  </thead>\n",
       "  <tbody>\n",
       "    <tr>\n",
       "      <th>count</th>\n",
       "      <td>394.000000</td>\n",
       "    </tr>\n",
       "    <tr>\n",
       "      <th>mean</th>\n",
       "      <td>7.169721</td>\n",
       "    </tr>\n",
       "    <tr>\n",
       "      <th>std</th>\n",
       "      <td>5.441486</td>\n",
       "    </tr>\n",
       "    <tr>\n",
       "      <th>min</th>\n",
       "      <td>1.000000</td>\n",
       "    </tr>\n",
       "    <tr>\n",
       "      <th>25%</th>\n",
       "      <td>3.000000</td>\n",
       "    </tr>\n",
       "    <tr>\n",
       "      <th>50%</th>\n",
       "      <td>5.000000</td>\n",
       "    </tr>\n",
       "    <tr>\n",
       "      <th>75%</th>\n",
       "      <td>10.000000</td>\n",
       "    </tr>\n",
       "    <tr>\n",
       "      <th>max</th>\n",
       "      <td>28.000000</td>\n",
       "    </tr>\n",
       "  </tbody>\n",
       "</table>\n",
       "</div>"
      ],
      "text/plain": [
       "       Incubation days\n",
       "count       394.000000\n",
       "mean          7.169721\n",
       "std           5.441486\n",
       "min           1.000000\n",
       "25%           3.000000\n",
       "50%           5.000000\n",
       "75%          10.000000\n",
       "max          28.000000"
      ]
     },
     "execution_count": 75,
     "metadata": {},
     "output_type": "execute_result"
    }
   ],
   "source": [
    "df_inc.describe()"
   ]
  },
  {
   "cell_type": "markdown",
   "metadata": {},
   "source": [
    "### The mean of the commercial articles for the incubation days is 7 days."
   ]
  },
  {
   "cell_type": "code",
   "execution_count": 76,
   "metadata": {
    "scrolled": false
   },
   "outputs": [
    {
     "data": {
      "image/png": "[encoded data removed]",
      "text/plain": [
       "<Figure size 1440x720 with 1 Axes>"
      ]
     },
     "metadata": {
      "needs_background": "light"
     },
     "output_type": "display_data"
    }
   ],
   "source": [
    "plt.figure(figsize=(20,10))\n",
    "plt.hist(inc_time)\n",
    "plt.title('Incubatione time', fontsize=24)\n",
    "plt.ylabel('Bin counts', fontsize=20)\n",
    "plt.xlabel('Days', fontsize=20);"
   ]
  },
  {
   "cell_type": "markdown",
   "metadata": {},
   "source": [
    "# Create df for non commercial articles"
   ]
  },
  {
   "cell_type": "code",
   "execution_count": 78,
   "metadata": {},
   "outputs": [],
   "source": [
    "directory = ['noncomm_use_subset']"
   ]
  },
  {
   "cell_type": "code",
   "execution_count": 79,
   "metadata": {},
   "outputs": [
    {
     "name": "stdout",
     "output_type": "stream",
     "text": [
      "0 10 20 30 40 50 60 70 80 90 100 110 120 130 140 150 160 170 180 190 200 210 220 230 240 250 260 270 280 290 300 310 320 330 340 350 360 370 380 390 400 410 420 430 440 450 460 470 480 490 500 510 520 530 540 550 560 570 580 590 600 610 620 630 640 650 660 670 680 690 700 710 720 730 740 750 760 770 780 790 800 810 820 830 840 850 860 870 880 890 900 910 920 930 940 950 960 970 980 990 1000 1010 1020 1030 1040 1050 1060 1070 1080 1090 1100 1110 1120 1130 1140 1150 1160 1170 1180 1190 1200 1210 1220 1230 1240 1250 1260 1270 1280 1290 1300 1310 1320 1330 1340 1350 1360 1370 1380 1390 1400 1410 1420 1430 1440 1450 1460 1470 1480 1490 1500 1510 1520 1530 1540 1550 1560 1570 1580 1590 1600 1610 1620 1630 1640 1650 1660 1670 1680 1690 1700 1710 1720 1730 1740 1750 1760 1770 1780 1790 1800 1810 1820 1830 1840 1850 1860 1870 1880 1890 1900 1910 1920 1930 1940 1950 1960 1970 1980 1990 2000 2010 2020 2030 2040 2050 2060 2070 2080 2090 2100 2110 2120 2130 2140 2150 2160 2170 2180 2190 2200 2210 2220 2230 2240 2250 2260 2270 2280 2290 2300 2310 2320 2330 2340 2350 "
     ]
    }
   ],
   "source": [
    "df_non_comm = create_df_text(directory)"
   ]
  },
  {
   "cell_type": "code",
   "execution_count": 80,
   "metadata": {},
   "outputs": [
    {
     "data": {
      "text/html": [
       "<div>\n",
       "<style scoped>\n",
       "    .dataframe tbody tr th:only-of-type {\n",
       "        vertical-align: middle;\n",
       "    }\n",
       "\n",
       "    .dataframe tbody tr th {\n",
       "        vertical-align: top;\n",
       "    }\n",
       "\n",
       "    .dataframe thead th {\n",
       "        text-align: right;\n",
       "    }\n",
       "</style>\n",
       "<table border=\"1\" class=\"dataframe\">\n",
       "  <thead>\n",
       "    <tr style=\"text-align: right;\">\n",
       "      <th></th>\n",
       "      <th>title</th>\n",
       "      <th>abstract</th>\n",
       "      <th>full_text</th>\n",
       "    </tr>\n",
       "  </thead>\n",
       "  <tbody>\n",
       "    <tr>\n",
       "      <th>0</th>\n",
       "      <td>The fecal microbiota and unconjugated fecal bi...</td>\n",
       "      <td>and Blautia (P = 0.008) significantly decrease...</td>\n",
       "      <td>human type 1 DM. The aim of this study was to ...</td>\n",
       "    </tr>\n",
       "    <tr>\n",
       "      <th>1</th>\n",
       "      <td>Development of a smartphone-based rapid dual f...</td>\n",
       "      <td>Accurate and rapid diagnosis of highly pathoge...</td>\n",
       "      <td>Avian influenza (AI) viruses are distinct from...</td>\n",
       "    </tr>\n",
       "    <tr>\n",
       "      <th>2</th>\n",
       "      <td>Dromedary camels in northern Mali have high se...</td>\n",
       "      <td>A high percentage (up to 90%) of dromedary cam...</td>\n",
       "      <td>Dromedary camels (Camelus dromedarius) appear ...</td>\n",
       "    </tr>\n",
       "    <tr>\n",
       "      <th>3</th>\n",
       "      <td>Regulated Export of a Secretory Protein from t...</td>\n",
       "      <td>253 protein, C-reactive protein (CRPt), varies...</td>\n",
       "      <td>Abstract. The half-time for secretion of the p...</td>\n",
       "    </tr>\n",
       "    <tr>\n",
       "      <th>4</th>\n",
       "      <td></td>\n",
       "      <td></td>\n",
       "      <td>This is an Open Access article distributed und...</td>\n",
       "    </tr>\n",
       "  </tbody>\n",
       "</table>\n",
       "</div>"
      ],
      "text/plain": [
       "                                               title  \\\n",
       "0  The fecal microbiota and unconjugated fecal bi...   \n",
       "1  Development of a smartphone-based rapid dual f...   \n",
       "2  Dromedary camels in northern Mali have high se...   \n",
       "3  Regulated Export of a Secretory Protein from t...   \n",
       "4                                                      \n",
       "\n",
       "                                            abstract  \\\n",
       "0  and Blautia (P = 0.008) significantly decrease...   \n",
       "1  Accurate and rapid diagnosis of highly pathoge...   \n",
       "2  A high percentage (up to 90%) of dromedary cam...   \n",
       "3  253 protein, C-reactive protein (CRPt), varies...   \n",
       "4                                                      \n",
       "\n",
       "                                           full_text  \n",
       "0  human type 1 DM. The aim of this study was to ...  \n",
       "1  Avian influenza (AI) viruses are distinct from...  \n",
       "2  Dromedary camels (Camelus dromedarius) appear ...  \n",
       "3  Abstract. The half-time for secretion of the p...  \n",
       "4  This is an Open Access article distributed und...  "
      ]
     },
     "execution_count": 80,
     "metadata": {},
     "output_type": "execute_result"
    }
   ],
   "source": [
    "df_non_comm.head()"
   ]
  },
  {
   "cell_type": "code",
   "execution_count": 81,
   "metadata": {},
   "outputs": [
    {
     "data": {
      "text/plain": [
       "title        False\n",
       "abstract     False\n",
       "full_text    False\n",
       "dtype: bool"
      ]
     },
     "execution_count": 81,
     "metadata": {},
     "output_type": "execute_result"
    }
   ],
   "source": [
    "df_non_comm.isnull().any()"
   ]
  },
  {
   "cell_type": "markdown",
   "metadata": {},
   "source": [
    "# Check articles that contain the word incubation"
   ]
  },
  {
   "cell_type": "code",
   "execution_count": 82,
   "metadata": {},
   "outputs": [
    {
     "data": {
      "text/html": [
       "<div>\n",
       "<style scoped>\n",
       "    .dataframe tbody tr th:only-of-type {\n",
       "        vertical-align: middle;\n",
       "    }\n",
       "\n",
       "    .dataframe tbody tr th {\n",
       "        vertical-align: top;\n",
       "    }\n",
       "\n",
       "    .dataframe thead th {\n",
       "        text-align: right;\n",
       "    }\n",
       "</style>\n",
       "<table border=\"1\" class=\"dataframe\">\n",
       "  <thead>\n",
       "    <tr style=\"text-align: right;\">\n",
       "      <th></th>\n",
       "      <th>title</th>\n",
       "      <th>abstract</th>\n",
       "      <th>full_text</th>\n",
       "    </tr>\n",
       "  </thead>\n",
       "  <tbody>\n",
       "    <tr>\n",
       "      <th>0</th>\n",
       "      <td>The fecal microbiota and unconjugated fecal bi...</td>\n",
       "      <td>and Blautia (P = 0.008) significantly decrease...</td>\n",
       "      <td>human type 1 DM. The aim of this study was to ...</td>\n",
       "    </tr>\n",
       "    <tr>\n",
       "      <th>3</th>\n",
       "      <td>Regulated Export of a Secretory Protein from t...</td>\n",
       "      <td>253 protein, C-reactive protein (CRPt), varies...</td>\n",
       "      <td>Abstract. The half-time for secretion of the p...</td>\n",
       "    </tr>\n",
       "    <tr>\n",
       "      <th>5</th>\n",
       "      <td>ULK1/2 Restricts the Formation of Inducible SI...</td>\n",
       "      <td></td>\n",
       "      <td>Spatial and temporal organization of cellular ...</td>\n",
       "    </tr>\n",
       "    <tr>\n",
       "      <th>13</th>\n",
       "      <td>Structure-based identification of functional r...</td>\n",
       "      <td>Bluetongue virus (BTV) encodes a single cappin...</td>\n",
       "      <td>Eukaryotic cellular and most viral messenger R...</td>\n",
       "    </tr>\n",
       "    <tr>\n",
       "      <th>14</th>\n",
       "      <td>Comparative Evaluation of Three Homogenization...</td>\n",
       "      <td>Background: Real-time reverse transcription PC...</td>\n",
       "      <td>irrespective of the length of time between sym...</td>\n",
       "    </tr>\n",
       "  </tbody>\n",
       "</table>\n",
       "</div>"
      ],
      "text/plain": [
       "                                                title  \\\n",
       "0   The fecal microbiota and unconjugated fecal bi...   \n",
       "3   Regulated Export of a Secretory Protein from t...   \n",
       "5   ULK1/2 Restricts the Formation of Inducible SI...   \n",
       "13  Structure-based identification of functional r...   \n",
       "14  Comparative Evaluation of Three Homogenization...   \n",
       "\n",
       "                                             abstract  \\\n",
       "0   and Blautia (P = 0.008) significantly decrease...   \n",
       "3   253 protein, C-reactive protein (CRPt), varies...   \n",
       "5                                                       \n",
       "13  Bluetongue virus (BTV) encodes a single cappin...   \n",
       "14  Background: Real-time reverse transcription PC...   \n",
       "\n",
       "                                            full_text  \n",
       "0   human type 1 DM. The aim of this study was to ...  \n",
       "3   Abstract. The half-time for secretion of the p...  \n",
       "5   Spatial and temporal organization of cellular ...  \n",
       "13  Eukaryotic cellular and most viral messenger R...  \n",
       "14  irrespective of the length of time between sym...  "
      ]
     },
     "execution_count": 82,
     "metadata": {},
     "output_type": "execute_result"
    }
   ],
   "source": [
    "incubation = df_non_comm[df_non_comm['full_text'].str.contains('incubation')]\n",
    "incubation.head()"
   ]
  },
  {
   "cell_type": "markdown",
   "metadata": {},
   "source": [
    "Let's write a regex for capture digits followed by the word day and save in a list."
   ]
  },
  {
   "cell_type": "code",
   "execution_count": 83,
   "metadata": {},
   "outputs": [],
   "source": [
    "incubation_time = []\n",
    "texts = incubation['full_text'].values\n",
    "\n",
    "for text in texts:\n",
    "    for sentence in text.split(\". \"):\n",
    "        if \"incubation\" in sentence:\n",
    "            single_day = re.findall(r'( \\d{1,2}(\\.\\d{1,2})? day[s]?)', sentence)\n",
    "            \n",
    "            if len(single_day) == 1:\n",
    "                num = single_day[0][0].split(\" \")\n",
    "                incubation_time.append(float(num[1]))"
   ]
  },
  {
   "cell_type": "code",
   "execution_count": 84,
   "metadata": {
    "scrolled": true
   },
   "outputs": [
    {
     "name": "stdout",
     "output_type": "stream",
     "text": [
      "84\n",
      "[14.0, 7.0, 5.0, 3.6, 14.0, 14.0, 5.2, 2.0, 28.0, 7.0, 14.0, 14.0, 5.0, 18.0, 28.0, 2.0, 8.0, 49.0, 4.0, 6.0, 13.0, 5.0, 5.0, 14.0, 2.0, 4.0, 6.0, 5.0, 5.0, 2.0, 5.0, 3.0, 6.0, 5.0, 7.0, 10.0, 7.0, 21.0, 12.0, 3.0, 14.0, 5.0, 14.0, 7.0, 4.0, 21.0, 14.0, 2.0, 4.0, 5.2, 5.0, 5.0, 4.0, 14.0, 1.0, 1.0, 7.0, 21.0, 5.0, 6.83, 14.0, 20.0, 2.0, 4.0, 5.2, 2.0, 17.0, 3.0, 6.0, 5.0, 4.0, 21.0, 14.0, 6.0, 28.0, 10.0, 17.0, 3.0, 5.0, 4.0, 15.0, 5.2, 5.2, 4.0] "
     ]
    }
   ],
   "source": [
    "print(len(incubation_time))\n",
    "print(incubation_time, end=' ')"
   ]
  },
  {
   "cell_type": "markdown",
   "metadata": {},
   "source": [
    "I'm assuming that values over 30 are outliers so I'm gonna remove them."
   ]
  },
  {
   "cell_type": "code",
   "execution_count": 85,
   "metadata": {},
   "outputs": [],
   "source": [
    "inc_time = [i for i in incubation_time if i < 30]"
   ]
  },
  {
   "cell_type": "code",
   "execution_count": 86,
   "metadata": {},
   "outputs": [
    {
     "data": {
      "text/html": [
       "<div>\n",
       "<style scoped>\n",
       "    .dataframe tbody tr th:only-of-type {\n",
       "        vertical-align: middle;\n",
       "    }\n",
       "\n",
       "    .dataframe tbody tr th {\n",
       "        vertical-align: top;\n",
       "    }\n",
       "\n",
       "    .dataframe thead th {\n",
       "        text-align: right;\n",
       "    }\n",
       "</style>\n",
       "<table border=\"1\" class=\"dataframe\">\n",
       "  <thead>\n",
       "    <tr style=\"text-align: right;\">\n",
       "      <th></th>\n",
       "      <th>Incubation days</th>\n",
       "    </tr>\n",
       "  </thead>\n",
       "  <tbody>\n",
       "    <tr>\n",
       "      <th>0</th>\n",
       "      <td>14.0</td>\n",
       "    </tr>\n",
       "    <tr>\n",
       "      <th>1</th>\n",
       "      <td>7.0</td>\n",
       "    </tr>\n",
       "    <tr>\n",
       "      <th>2</th>\n",
       "      <td>5.0</td>\n",
       "    </tr>\n",
       "    <tr>\n",
       "      <th>3</th>\n",
       "      <td>3.6</td>\n",
       "    </tr>\n",
       "    <tr>\n",
       "      <th>4</th>\n",
       "      <td>14.0</td>\n",
       "    </tr>\n",
       "  </tbody>\n",
       "</table>\n",
       "</div>"
      ],
      "text/plain": [
       "   Incubation days\n",
       "0             14.0\n",
       "1              7.0\n",
       "2              5.0\n",
       "3              3.6\n",
       "4             14.0"
      ]
     },
     "execution_count": 86,
     "metadata": {},
     "output_type": "execute_result"
    }
   ],
   "source": [
    "df_inc = pd.DataFrame(inc_time, columns=['Incubation days'])\n",
    "df_inc.head()"
   ]
  },
  {
   "cell_type": "code",
   "execution_count": 87,
   "metadata": {},
   "outputs": [
    {
     "data": {
      "text/html": [
       "<div>\n",
       "<style scoped>\n",
       "    .dataframe tbody tr th:only-of-type {\n",
       "        vertical-align: middle;\n",
       "    }\n",
       "\n",
       "    .dataframe tbody tr th {\n",
       "        vertical-align: top;\n",
       "    }\n",
       "\n",
       "    .dataframe thead th {\n",
       "        text-align: right;\n",
       "    }\n",
       "</style>\n",
       "<table border=\"1\" class=\"dataframe\">\n",
       "  <thead>\n",
       "    <tr style=\"text-align: right;\">\n",
       "      <th></th>\n",
       "      <th>Incubation days</th>\n",
       "    </tr>\n",
       "  </thead>\n",
       "  <tbody>\n",
       "    <tr>\n",
       "      <th>count</th>\n",
       "      <td>83.000000</td>\n",
       "    </tr>\n",
       "    <tr>\n",
       "      <th>mean</th>\n",
       "      <td>8.655783</td>\n",
       "    </tr>\n",
       "    <tr>\n",
       "      <th>std</th>\n",
       "      <td>6.609523</td>\n",
       "    </tr>\n",
       "    <tr>\n",
       "      <th>min</th>\n",
       "      <td>1.000000</td>\n",
       "    </tr>\n",
       "    <tr>\n",
       "      <th>25%</th>\n",
       "      <td>4.000000</td>\n",
       "    </tr>\n",
       "    <tr>\n",
       "      <th>50%</th>\n",
       "      <td>5.200000</td>\n",
       "    </tr>\n",
       "    <tr>\n",
       "      <th>75%</th>\n",
       "      <td>14.000000</td>\n",
       "    </tr>\n",
       "    <tr>\n",
       "      <th>max</th>\n",
       "      <td>28.000000</td>\n",
       "    </tr>\n",
       "  </tbody>\n",
       "</table>\n",
       "</div>"
      ],
      "text/plain": [
       "       Incubation days\n",
       "count        83.000000\n",
       "mean          8.655783\n",
       "std           6.609523\n",
       "min           1.000000\n",
       "25%           4.000000\n",
       "50%           5.200000\n",
       "75%          14.000000\n",
       "max          28.000000"
      ]
     },
     "execution_count": 87,
     "metadata": {},
     "output_type": "execute_result"
    }
   ],
   "source": [
    "df_inc.describe()"
   ]
  },
  {
   "cell_type": "markdown",
   "metadata": {},
   "source": [
    "### The mean of the non commercial articles for the incubation days is 9 days."
   ]
  },
  {
   "cell_type": "code",
   "execution_count": 88,
   "metadata": {
    "scrolled": false
   },
   "outputs": [
    {
     "data": {
      "image/png": "[encoded data removed]",
      "text/plain": [
       "<Figure size 1440x720 with 1 Axes>"
      ]
     },
     "metadata": {
      "needs_background": "light"
     },
     "output_type": "display_data"
    }
   ],
   "source": [
    "plt.figure(figsize=(20,10))\n",
    "plt.hist(inc_time)\n",
    "plt.title('Incubatione time', fontsize=24)\n",
    "plt.ylabel('Bin counts', fontsize=20)\n",
    "plt.xlabel('Days', fontsize=20);"
   ]
  },
  {
   "cell_type": "markdown",
   "metadata": {},
   "source": [
    "# Preprocessing the Data"
   ]
  },
  {
   "cell_type": "markdown",
   "metadata": {},
   "source": [
    "# Stopword and punctualization"
   ]
  },
  {
   "cell_type": "code",
   "execution_count": 16,
   "metadata": {},
   "outputs": [],
   "source": [
    "# Get all the stop words in the English language\n",
    "stopwords_list = stopwords.words('english')"
   ]
  },
  {
   "cell_type": "code",
   "execution_count": 17,
   "metadata": {},
   "outputs": [],
   "source": [
    "# Now we have a list that includes all english stopwords, as well as all punctuation\n",
    "stopwords_list += list(string.punctuation)"
   ]
  },
  {
   "cell_type": "markdown",
   "metadata": {},
   "source": [
    "# Tokenizing our Data"
   ]
  },
  {
   "cell_type": "code",
   "execution_count": 18,
   "metadata": {},
   "outputs": [],
   "source": [
    "def tokenize(title):\n",
    "    joined_title = ' '.join(title)\n",
    "    tokenized_title = word_tokenize(joined_title)\n",
    "    pattern = \"([a-zA-Z]+(?:'[a-z]+)?)\"\n",
    "    title_tokens_raw = nltk.regexp_tokenize(str(tokenized_title), pattern)\n",
    "    stopped_tokens = [w.lower() for w in title_tokens_raw if w not in stopwords_list]\n",
    "    \n",
    "    return stopped_tokens"
   ]
  },
  {
   "cell_type": "code",
   "execution_count": 19,
   "metadata": {
    "scrolled": true
   },
   "outputs": [
    {
     "ename": "NameError",
     "evalue": "name 'title_list' is not defined",
     "output_type": "error",
     "traceback": [
      "\u001b[1;31m---------------------------------------------------------------------------\u001b[0m",
      "\u001b[1;31mNameError\u001b[0m                                 Traceback (most recent call last)",
      "\u001b[1;32m<ipython-input-19-6cec64383f96>\u001b[0m in \u001b[0;36m<module>\u001b[1;34m()\u001b[0m\n\u001b[1;32m----> 1\u001b[1;33m \u001b[0mtokenized_test_title\u001b[0m \u001b[1;33m=\u001b[0m \u001b[0mtokenize\u001b[0m\u001b[1;33m(\u001b[0m\u001b[0mtitle_list\u001b[0m\u001b[1;33m)\u001b[0m\u001b[1;33m\u001b[0m\u001b[0m\n\u001b[0m\u001b[0;32m      2\u001b[0m \u001b[0mtokenized_test_title\u001b[0m\u001b[1;33m[\u001b[0m\u001b[1;33m:\u001b[0m\u001b[1;36m10\u001b[0m\u001b[1;33m]\u001b[0m\u001b[1;33m\u001b[0m\u001b[0m\n",
      "\u001b[1;31mNameError\u001b[0m: name 'title_list' is not defined"
     ]
    }
   ],
   "source": [
    "tokenized_test_title = tokenize(title_list)\n",
    "tokenized_test_title[:10]"
   ]
  },
  {
   "cell_type": "markdown",
   "metadata": {},
   "source": [
    "# Count Vectorization."
   ]
  },
  {
   "cell_type": "code",
   "execution_count": null,
   "metadata": {},
   "outputs": [],
   "source": [
    "def count_vectorize(title, vocab=None):\n",
    "    if vocab:\n",
    "        unique_words = vocab\n",
    "    else:\n",
    "        unique_words = list(set(title))\n",
    "    \n",
    "    title_dict = {i:0 for i in unique_words}\n",
    "    \n",
    "    for word in title:\n",
    "        title_dict[word] += 1\n",
    "    \n",
    "    return title_dict"
   ]
  },
  {
   "cell_type": "code",
   "execution_count": null,
   "metadata": {},
   "outputs": [],
   "source": [
    "test_vectorized = count_vectorize(tokenized_test_title)\n",
    "print(test_vectorized)"
   ]
  },
  {
   "cell_type": "markdown",
   "metadata": {},
   "source": [
    "# Get the 50 most common words "
   ]
  },
  {
   "cell_type": "code",
   "execution_count": null,
   "metadata": {
    "scrolled": false
   },
   "outputs": [],
   "source": [
    "freqdist = FreqDist(tokenized_test_title)\n",
    "\n",
    "# get the 50 most common words \n",
    "most_common = freqdist.most_common(50)\n",
    "most_common"
   ]
  },
  {
   "cell_type": "markdown",
   "metadata": {},
   "source": [
    "# Normalized Word Frequency"
   ]
  },
  {
   "cell_type": "code",
   "execution_count": null,
   "metadata": {},
   "outputs": [],
   "source": [
    "total_word_count = sum(freqdist.values())\n",
    "titles_top_200 = freqdist.most_common(200)\n",
    "print('Word\\t\\t\\tNormalized Frequency')\n",
    "for word in titles_top_200:\n",
    "    normalized_frequency = word[1] / total_word_count\n",
    "    print('{} \\t\\t\\t {:.4}'.format(word[0], normalized_frequency))"
   ]
  },
  {
   "cell_type": "markdown",
   "metadata": {},
   "source": [
    "# Stemming and Lemmatization"
   ]
  },
  {
   "cell_type": "code",
   "execution_count": null,
   "metadata": {},
   "outputs": [],
   "source": [
    "#lemmatizer = WordNetLemmatizer()\n",
    "#\n",
    "#lemmatizer.lemmatize('feet') # foot\n",
    "#lemmatizer.lemmatize('running') # run"
   ]
  },
  {
   "cell_type": "markdown",
   "metadata": {},
   "source": [
    "# Bigrams"
   ]
  },
  {
   "cell_type": "code",
   "execution_count": null,
   "metadata": {},
   "outputs": [],
   "source": [
    "bigram_measures = nltk.collocations.BigramAssocMeasures()\n",
    "title_finder = BigramCollocationFinder.from_words(tokenized_test_title)\n",
    "title_scored = title_finder.score_ngrams(bigram_measures.raw_freq)\n",
    "title_scored[:50]"
   ]
  },
  {
   "cell_type": "markdown",
   "metadata": {},
   "source": [
    "# Pointwise Mutual Information"
   ]
  },
  {
   "cell_type": "code",
   "execution_count": null,
   "metadata": {
    "scrolled": true
   },
   "outputs": [],
   "source": [
    "title_finder.apply_freq_filter(5)\n",
    "title_pmi_scored = title_finder.score_ngrams(bigram_measures.pmi)\n",
    "title_pmi_scored"
   ]
  },
  {
   "cell_type": "markdown",
   "metadata": {},
   "source": [
    "# TF-IDF Vectorization"
   ]
  },
  {
   "cell_type": "markdown",
   "metadata": {},
   "source": [
    "If the word is used often in many other documents, it is not unique, and therefore probably not too useful if we wanted to figure out how this document is unique in relation to other documents. Conversely, if a word is used many times in a document, but rarely in all the other documents we are considering, then it is likely a good indicator for telling us that this word is important to the document in question."
   ]
  },
  {
   "cell_type": "markdown",
   "metadata": {},
   "source": [
    "# TF"
   ]
  },
  {
   "cell_type": "code",
   "execution_count": null,
   "metadata": {},
   "outputs": [],
   "source": [
    "def term_frequency(BoW_dict):\n",
    "    total_word_count = sum(BoW_dict.values())\n",
    "    \n",
    "    for ind, val in BoW_dict.items():\n",
    "        BoW_dict[ind] = val/ total_word_count\n",
    "    \n",
    "    return BoW_dict"
   ]
  },
  {
   "cell_type": "code",
   "execution_count": null,
   "metadata": {},
   "outputs": [],
   "source": [
    "test = term_frequency(test_vectorized)\n",
    "print(list(test)[:20])"
   ]
  },
  {
   "cell_type": "markdown",
   "metadata": {},
   "source": [
    "# IDF"
   ]
  },
  {
   "cell_type": "code",
   "execution_count": null,
   "metadata": {},
   "outputs": [],
   "source": [
    "def inverse_document_frequency(list_of_dicts):\n",
    "    vocab_set = set()\n",
    "    \n",
    "    # Iterate through list of dfs and add index to vocab_set\n",
    "    for d in list_of_dicts:\n",
    "        for word in d.keys():\n",
    "            vocab_set.add(word)\n",
    "    \n",
    "    # Once vocab set is complete, create an empty dictionary with a key for each word and value of 0.\n",
    "    full_vocab_dict = {i:0 for i in vocab_set}\n",
    "    \n",
    "    # Loop through each word in full_vocab_dict\n",
    "    for word, val in full_vocab_dict.items():\n",
    "        docs = 0\n",
    "        \n",
    "        # Loop through list of dicts.  Each time a dictionary contains the word, increment docs by 1\n",
    "        for d in list_of_dicts:\n",
    "            if word in d:\n",
    "                docs += 1\n",
    "        \n",
    "        # Now that we know denominator for equation, compute and set IDF value for word\n",
    "        \n",
    "        full_vocab_dict[word] = np.log((len(list_of_dicts)/ float(docs)))\n",
    "    \n",
    "    return full_vocab_dict"
   ]
  },
  {
   "cell_type": "markdown",
   "metadata": {},
   "source": [
    "# Computing TF-IDF"
   ]
  },
  {
   "cell_type": "code",
   "execution_count": null,
   "metadata": {},
   "outputs": [],
   "source": [
    "def tf_idf(list_of_dicts):\n",
    "    # Create empty dictionary containing full vocabulary of entire corpus\n",
    "    doc_tf_idf = {}\n",
    "    idf = inverse_document_frequency(list_of_dicts)\n",
    "    full_vocab_list = {i:0 for i in list(idf.keys())}\n",
    "    \n",
    "    # Create tf-idf list of dictionaries, containing a dictionary that will be updated for each document\n",
    "    tf_idf_list_of_dicts = []\n",
    "    \n",
    "    # Now, compute tf and then use this to compute and set tf-idf values for each document\n",
    "    for doc in list_of_dicts:\n",
    "        doc_tf = term_frequency(doc)\n",
    "        for word in doc_tf:\n",
    "            doc_tf_idf[word] = doc_tf[word] * idf[word]\n",
    "        tf_idf_list_of_dicts.append(doc_tf_idf)\n",
    "    \n",
    "    return tf_idf_list_of_dicts"
   ]
  },
  {
   "cell_type": "markdown",
   "metadata": {},
   "source": [
    "# Vectorizing All Documents"
   ]
  },
  {
   "cell_type": "code",
   "execution_count": null,
   "metadata": {},
   "outputs": [],
   "source": [
    "count_vectorized_all_documents = []\n",
    "count_vectorized_all_documents.append(test_vectorized)"
   ]
  },
  {
   "cell_type": "code",
   "execution_count": null,
   "metadata": {},
   "outputs": [],
   "source": [
    "tf_idf_all_docs = tf_idf(count_vectorized_all_documents)\n",
    "print(list(tf_idf_all_docs[0])[:20])"
   ]
  },
  {
   "cell_type": "code",
   "execution_count": null,
   "metadata": {},
   "outputs": [],
   "source": [
    "num_dims = len(tf_idf_all_docs[0])\n",
    "print(\"Number of Dimensions: {}\".format(num_dims))"
   ]
  },
  {
   "cell_type": "markdown",
   "metadata": {},
   "source": [
    "# Reducing Dimensionality???"
   ]
  },
  {
   "cell_type": "code",
   "execution_count": null,
   "metadata": {},
   "outputs": [],
   "source": []
  },
  {
   "cell_type": "markdown",
   "metadata": {},
   "source": [
    "# Sentiment analysis title sentences"
   ]
  },
  {
   "cell_type": "code",
   "execution_count": null,
   "metadata": {},
   "outputs": [],
   "source": [
    "nltk.download('vader_lexicon')"
   ]
  },
  {
   "cell_type": "code",
   "execution_count": null,
   "metadata": {},
   "outputs": [],
   "source": [
    "sid = SentimentIntensityAnalyzer()"
   ]
  },
  {
   "cell_type": "code",
   "execution_count": null,
   "metadata": {
    "scrolled": true
   },
   "outputs": [],
   "source": [
    "compound_list = []\n",
    "for x in title_list:\n",
    "    ss = sid.polarity_scores(x)\n",
    "    compound_list.append(ss['compound'])"
   ]
  },
  {
   "cell_type": "code",
   "execution_count": null,
   "metadata": {},
   "outputs": [],
   "source": [
    "compound_list"
   ]
  },
  {
   "cell_type": "code",
   "execution_count": null,
   "metadata": {},
   "outputs": [],
   "source": [
    "df_title_compound = pd.DataFrame(title_list,columns=['title'])\n",
    "df_title_compound.head()"
   ]
  },
  {
   "cell_type": "code",
   "execution_count": null,
   "metadata": {},
   "outputs": [],
   "source": [
    "df_title_compound['compound'] = compound_list\n",
    "df_title_compound.head()"
   ]
  },
  {
   "cell_type": "code",
   "execution_count": null,
   "metadata": {},
   "outputs": [],
   "source": [
    "df_title_compound['compound'].describe()"
   ]
  },
  {
   "cell_type": "code",
   "execution_count": null,
   "metadata": {},
   "outputs": [],
   "source": [
    "df_title_compound.isnull().any()"
   ]
  },
  {
   "cell_type": "code",
   "execution_count": null,
   "metadata": {},
   "outputs": [],
   "source": [
    "target_list = []\n",
    "for x in df_title_compound['compound']:\n",
    "    if x < -.25:\n",
    "        target_list.append(-1)\n",
    "    elif x > .25:\n",
    "        target_list.append(1)\n",
    "    else: \n",
    "        target_list.append(0)"
   ]
  },
  {
   "cell_type": "code",
   "execution_count": null,
   "metadata": {},
   "outputs": [],
   "source": [
    "df_title_compound['target'] = target_list\n",
    "df_title_compound.head(20)"
   ]
  },
  {
   "cell_type": "code",
   "execution_count": null,
   "metadata": {},
   "outputs": [],
   "source": [
    "import seaborn as sns"
   ]
  },
  {
   "cell_type": "code",
   "execution_count": null,
   "metadata": {},
   "outputs": [],
   "source": [
    "sns.distplot(compound_list);"
   ]
  },
  {
   "cell_type": "markdown",
   "metadata": {},
   "source": [
    "# word_cloud"
   ]
  },
  {
   "cell_type": "code",
   "execution_count": null,
   "metadata": {},
   "outputs": [],
   "source": [
    "neg_title = df_title_compound[df_title_compound['target'] == -1]\n",
    "neg_title.head()"
   ]
  },
  {
   "cell_type": "code",
   "execution_count": null,
   "metadata": {},
   "outputs": [],
   "source": [
    "neg_string = []\n",
    "for t in neg_title['title']:\n",
    "    neg_string.append(t)\n",
    "neg_string"
   ]
  },
  {
   "cell_type": "markdown",
   "metadata": {},
   "source": [
    "# Negative sentiment"
   ]
  },
  {
   "cell_type": "code",
   "execution_count": null,
   "metadata": {},
   "outputs": [],
   "source": [
    "neg_title = df_title_compound[df_title_compound['target'] == -1]\n",
    "neg_string = []\n",
    "for t in neg_title['title']:\n",
    "    neg_string.append(t)\n",
    "neg_string = pd.Series(neg_string).str.cat(sep=' ')\n",
    "\n",
    "wordcloud = WordCloud(width=1600, height=800,max_font_size=200,colormap='magma').generate(neg_string)\n",
    "plt.figure(figsize=(12,10))\n",
    "plt.imshow(wordcloud, interpolation=\"bilinear\")\n",
    "plt.axis(\"off\")\n",
    "plt.show()"
   ]
  },
  {
   "cell_type": "markdown",
   "metadata": {},
   "source": [
    "# Positive sentiment"
   ]
  },
  {
   "cell_type": "code",
   "execution_count": null,
   "metadata": {},
   "outputs": [],
   "source": [
    "pos_title = df_title_compound[df_title_compound['target'] == 1]\n",
    "pos_string = []\n",
    "for t in pos_title['title']:\n",
    "    pos_string.append(t)\n",
    "pos_string = pd.Series(pos_string).str.cat(sep=' ')\n",
    "\n",
    "wordcloud = WordCloud(width=1600, height=800,max_font_size=200).generate(pos_string)\n",
    "plt.figure(figsize=(12,10))\n",
    "plt.imshow(wordcloud, interpolation=\"bilinear\")\n",
    "plt.axis(\"off\")\n",
    "plt.show()"
   ]
  },
  {
   "cell_type": "markdown",
   "metadata": {},
   "source": [
    "# Neutral sentiment"
   ]
  },
  {
   "cell_type": "code",
   "execution_count": null,
   "metadata": {},
   "outputs": [],
   "source": [
    "neut_title = df_title_compound[df_title_compound['target'] == 0]\n",
    "neut_string = []\n",
    "for t in neut_title['title']:\n",
    "    neut_string.append(t)\n",
    "neut_string = pd.Series(neut_string).str.cat(sep=' ')\n",
    "\n",
    "wordcloud = WordCloud(width=1600, height=800,max_font_size=200).generate(neut_string)\n",
    "plt.figure(figsize=(12,10))\n",
    "plt.imshow(wordcloud, interpolation=\"bilinear\")\n",
    "plt.axis(\"off\")\n",
    "plt.show()"
   ]
  },
  {
   "cell_type": "markdown",
   "metadata": {},
   "source": [
    "# Sentiment analysis words"
   ]
  },
  {
   "cell_type": "code",
   "execution_count": null,
   "metadata": {},
   "outputs": [],
   "source": [
    "sid = SentimentIntensityAnalyzer()"
   ]
  },
  {
   "cell_type": "code",
   "execution_count": null,
   "metadata": {},
   "outputs": [],
   "source": [
    "list_x = []\n",
    "for x in most_common:\n",
    "    print(x[0])"
   ]
  },
  {
   "cell_type": "code",
   "execution_count": null,
   "metadata": {},
   "outputs": [],
   "source": [
    "comp_word_list = []\n",
    "for x in most_common:\n",
    "    ss = sid.polarity_scores(x[0])\n",
    "    comp_word_list.append(ss['compound'])"
   ]
  },
  {
   "cell_type": "code",
   "execution_count": null,
   "metadata": {},
   "outputs": [],
   "source": [
    "comp_word_list"
   ]
  },
  {
   "cell_type": "markdown",
   "metadata": {},
   "source": [
    "# What is known about transmission?"
   ]
  },
  {
   "cell_type": "code",
   "execution_count": null,
   "metadata": {},
   "outputs": [],
   "source": [
    "title_list"
   ]
  },
  {
   "cell_type": "code",
   "execution_count": null,
   "metadata": {},
   "outputs": [],
   "source": [
    "df = pd.DataFrame(title_list, columns=['title'])\n",
    "df.head(20)"
   ]
  },
  {
   "cell_type": "code",
   "execution_count": null,
   "metadata": {},
   "outputs": [],
   "source": [
    "transmission = df[df['title'].str.contains('transmission')]\n",
    "len(transmission)"
   ]
  },
  {
   "cell_type": "code",
   "execution_count": null,
   "metadata": {},
   "outputs": [],
   "source": [
    "transm_title = transmission.title.values"
   ]
  },
  {
   "cell_type": "code",
   "execution_count": null,
   "metadata": {},
   "outputs": [],
   "source": [
    "for t in transm_title:\n",
    "    print(t)"
   ]
  },
  {
   "cell_type": "code",
   "execution_count": null,
   "metadata": {},
   "outputs": [],
   "source": [
    "for t in transm_title:\n",
    "    if 'contact'  or 'human' in t:\n",
    "        print(t)"
   ]
  },
  {
   "cell_type": "code",
   "execution_count": null,
   "metadata": {},
   "outputs": [],
   "source": []
  },
  {
   "cell_type": "markdown",
   "metadata": {},
   "source": [
    "# NLP-architect"
   ]
  },
  {
   "cell_type": "code",
   "execution_count": null,
   "metadata": {},
   "outputs": [],
   "source": [
    "if __name__ == '__main__':\n",
    "\n",
    "    n = int(input())\n",
    "    arr = map(int, input().split())\n",
    "\n",
    "    larg_number = -101 \n",
    "    next_larg_nr = -101\n",
    "    for x in set(arr):\n",
    "        if x > larg_number:\n",
    "            next_larg_nr = larg_number\n",
    "            larg_number = x  \n",
    "        elif x > next_larg_nr:\n",
    "            next_larg_nr = x\n",
    "\n",
    "    print(next_larg_nr)"
   ]
  },
  {
   "cell_type": "code",
   "execution_count": null,
   "metadata": {},
   "outputs": [],
   "source": [
    "\n",
    "matrix = [] \n",
    "  \n",
    "for i in range(5): \n",
    "      \n",
    "    # Append an empty sublist inside the list \n",
    "    matrix.append([]) \n",
    "      \n",
    "    for j in range(5): \n",
    "        matrix[i].append(j) \n",
    "          \n",
    "print(matrix) "
   ]
  },
  {
   "cell_type": "code",
   "execution_count": null,
   "metadata": {},
   "outputs": [],
   "source": []
  }
 ],
 "metadata": {
  "kernelspec": {
   "display_name": "Python [conda env:learn-env] *",
   "language": "python",
   "name": "conda-env-learn-env-py"
  },
  "language_info": {
   "codemirror_mode": {
    "name": "ipython",
    "version": 3
   },
   "file_extension": ".py",
   "mimetype": "text/x-python",
   "name": "python",
   "nbconvert_exporter": "python",
   "pygments_lexer": "ipython3",
   "version": "3.6.6"
  }
 },
 "nbformat": 4,
 "nbformat_minor": 2
}
