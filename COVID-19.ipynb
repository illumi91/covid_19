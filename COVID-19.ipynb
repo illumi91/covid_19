{
 "cells": [
  {
   "cell_type": "markdown",
   "metadata": {},
   "source": [
    "# Sentiment analysis COVID-19 scholar's articles"
   ]
  },
  {
   "cell_type": "markdown",
   "metadata": {},
   "source": [
    "# Imports"
   ]
  },
  {
   "cell_type": "code",
   "execution_count": 46,
   "metadata": {},
   "outputs": [],
   "source": [
    "import os\n",
    "import json\n",
    "import pandas as pd\n",
    "import numpy as np\n",
    "from mpl_toolkits.mplot3d import Axes3D\n",
    "import matplotlib.pyplot as plt\n",
    "from matplotlib import style\n",
    "style.use('ggplot')\n",
    "%matplotlib inline\n",
    "import nltk\n",
    "from nltk.tokenize import word_tokenize\n",
    "from nltk.corpus import stopwords\n",
    "from  nltk import FreqDist\n",
    "from nltk.stem.wordnet import WordNetLemmatizer\n",
    "from nltk.collocations import *\n",
    "import re\n",
    "import string\n",
    "from sklearn.feature_extraction.text import CountVectorizer\n",
    "from sklearn.feature_extraction.text import TfidfVectorizer\n",
    "from nltk.sentiment.vader import SentimentIntensityAnalyzer\n",
    "from wordcloud import WordCloud\n",
    "from statsmodels.tsa.arima_model import ARIMA\n",
    "import pmdarima as pm\n",
    "import warnings\n",
    "warnings.filterwarnings('ignore')\n",
    "style.use('ggplot')\n",
    "np.random.seed(0)"
   ]
  },
  {
   "cell_type": "markdown",
   "metadata": {},
   "source": [
    "# Keras imports"
   ]
  },
  {
   "cell_type": "code",
   "execution_count": 65,
   "metadata": {},
   "outputs": [],
   "source": [
    "import numpy\n",
    "from keras.models import Sequential\n",
    "from keras.layers import Dense\n",
    "from keras.layers import Dropout\n",
    "from keras.layers import LSTM\n",
    "from keras.callbacks import ModelCheckpoint\n",
    "from keras.utils import np_utils\n",
    "import sys"
   ]
  },
  {
   "cell_type": "code",
   "execution_count": 48,
   "metadata": {
    "scrolled": true
   },
   "outputs": [
    {
     "name": "stdout",
     "output_type": "stream",
     "text": [
      " Volume in drive C is OS\n",
      " Volume Serial Number is D816-28B0\n",
      "\n",
      " Directory of C:\\Users\\luigi\\FlatironSchool\\personal_project\n",
      "\n",
      "17/04/2020  12:11    <DIR>          .\n",
      "17/04/2020  12:11    <DIR>          ..\n",
      "23/03/2020  14:33    <DIR>          .ipynb_checkpoints\n",
      "23/03/2020  14:30    <DIR>          biorxiv_medrxiv\n",
      "23/03/2020  14:13    <DIR>          comm_use_subset\n",
      "21/03/2020  00:32            26,690 COVID.DATA.LIC.AGMT.pdf\n",
      "17/04/2020  12:11            56,726 COVID-19.ipynb\n",
      "23/03/2020  14:13    <DIR>          custom_license\n",
      "21/03/2020  00:37             2,906 json_schema.txt\n",
      "21/03/2020  00:37             1,574 metadata.readme\n",
      "23/03/2020  14:14    <DIR>          noncomm_use_subset\n",
      "17/04/2020  12:10        29,968,612 weights-improvement-01-8.8992.hdf5\n",
      "17/04/2020  12:01        29,968,612 weights-improvement-01-9.0828.hdf5\n",
      "17/04/2020  12:11        29,968,612 weights-improvement-02-8.8946.hdf5\n",
      "17/04/2020  12:02        29,968,612 weights-improvement-02-9.0778.hdf5\n",
      "17/04/2020  12:03        29,968,612 weights-improvement-04-9.0466.hdf5\n",
      "17/04/2020  12:03        29,968,612 weights-improvement-05-8.9841.hdf5\n",
      "17/04/2020  12:04        29,968,612 weights-improvement-06-8.9521.hdf5\n",
      "17/04/2020  12:04        29,968,612 weights-improvement-07-8.9375.hdf5\n",
      "17/04/2020  12:05        29,968,612 weights-improvement-08-8.9299.hdf5\n",
      "17/04/2020  12:05        29,968,612 weights-improvement-09-8.9248.hdf5\n",
      "17/04/2020  12:05        29,968,612 weights-improvement-10-8.9238.hdf5\n",
      "17/04/2020  12:06        29,968,612 weights-improvement-11-8.9233.hdf5\n",
      "17/04/2020  12:06        29,968,612 weights-improvement-12-8.9176.hdf5\n",
      "17/04/2020  12:07        29,968,612 weights-improvement-13-8.9149.hdf5\n",
      "17/04/2020  12:07        29,968,612 weights-improvement-14-8.9115.hdf5\n",
      "17/04/2020  12:08        29,968,612 weights-improvement-15-8.9102.hdf5\n",
      "17/04/2020  12:08        29,968,612 weights-improvement-16-8.9071.hdf5\n",
      "17/04/2020  12:09        29,968,612 weights-improvement-17-8.9069.hdf5\n",
      "17/04/2020  12:09        29,968,612 weights-improvement-18-8.9047.hdf5\n",
      "17/04/2020  12:10        29,968,612 weights-improvement-20-8.9035.hdf5\n",
      "              24 File(s)    599,460,136 bytes\n",
      "               7 Dir(s)  13,122,756,608 bytes free\n"
     ]
    }
   ],
   "source": [
    "ls"
   ]
  },
  {
   "cell_type": "markdown",
   "metadata": {},
   "source": [
    "# See documents README"
   ]
  },
  {
   "cell_type": "code",
   "execution_count": 49,
   "metadata": {},
   "outputs": [
    {
     "name": "stdout",
     "output_type": "stream",
     "text": [
      "(1) Metadata for papers from these sources are combined: CZI, PMC, BioRxiv/MedRxiv. (total records 29500)\n",
      "\t- CZI 1236 records\n",
      "\t- PMC 27337\n",
      "\t- bioRxiv 566\n",
      "\t- medRxiv 361\n",
      "(2) 17K of the paper records have PDFs and the hash of the PDFs are in 'sha'\n",
      "(3) For PMC sourced papers, one paper's metadata can be associated with one or more PDFs/shas under that paper - a PDF/sha correponding to the main article, and possibly additional PDF/shas corresponding to supporting materials for the article.\n",
      "(4)\t13K of the PDFs were processed with fulltext ('has_full_text'=True)\n",
      "(5) Various 'keys' are populated with the metadata:\n",
      "\t- 'pmcid': populated for all PMC paper records (27337 non null)\n",
      "\t- 'doi': populated for all BioRxiv/MedRxiv paper records and most of the other records (26357 non null)\n",
      "\t- 'WHO #Covidence': populated for all CZI records and none of the other records (1236 non null)\n",
      "\t- 'pubmed_id': populated for some of the records\n",
      "\t- 'Microsoft Academic Paper ID': populated for some of the records\n",
      "\n",
      "2020-03-20\n",
      "---CHANGES---\n",
      "* normalized doi, authors, title, abstract strings\n",
      "* merged redundant rows in metadata file on doi, pmcid, and pubmed_id\n",
      "* metadata sha column can now include multiple files (some PMC files have multiple associated PDFs)\n",
      "* added column in metadata file \"full_text_file\" to signal the tar.gz file in which the full text json resides\n",
      "---SUMMARY---\n",
      "total metadata rows: 44220\n",
      "custom_license: 16959 full text (new: 15533)\n",
      "noncomm_use_subset: 2353 full text (new: 385)\n",
      "comm_use_subset: 9118 full text (new: 128)\n",
      "biorxiv_medrxiv: 885 full text (new: 110)\n"
     ]
    }
   ],
   "source": [
    "with open('metadata.readme', 'r') as f:\n",
    "    data = f.read()\n",
    "    print(data)"
   ]
  },
  {
   "cell_type": "markdown",
   "metadata": {},
   "source": [
    "# Text generation with LSTM Recurrent Neural Network"
   ]
  },
  {
   "cell_type": "code",
   "execution_count": 50,
   "metadata": {},
   "outputs": [],
   "source": [
    "directory = ['comm_use_subset']"
   ]
  },
  {
   "cell_type": "code",
   "execution_count": 51,
   "metadata": {},
   "outputs": [],
   "source": [
    "#documents= []\n",
    "#for d in directory:\n",
    "#        for index, file in enumerate(os.listdir(f\"{d}/{d}\")):\n",
    "#            file_path = f\"{d}/{d}/{file}\"\n",
    "#            j = json.load(open(file_path, 'rb'))\n",
    "#            for x, y in j['bib_entries'].items():\n",
    "#                title = y['title']\n",
    "#                \n",
    "#                documents.append(title.lower())"
   ]
  },
  {
   "cell_type": "code",
   "execution_count": 52,
   "metadata": {},
   "outputs": [],
   "source": [
    "documents = []\n",
    "for d in directory:\n",
    "    for index, file in enumerate(os.listdir(f\"{d}/{d}\")):\n",
    "        file_path = f\"{d}/{d}/{file}\"\n",
    "        j = json.load(open(file_path, 'rb'))\n",
    "\n",
    "        title = j['metadata']['title']\n",
    "\n",
    "        documents.append(title)"
   ]
  },
  {
   "cell_type": "markdown",
   "metadata": {},
   "source": [
    "### Create a set of all of the distinct characters in the book, then create a map of each character to a unique integer"
   ]
  },
  {
   "cell_type": "code",
   "execution_count": 53,
   "metadata": {},
   "outputs": [],
   "source": [
    "# create mapping of unique chars to integers\n",
    "chars = sorted(list(set(documents)))\n",
    "char_to_int = dict((c, i) for i, c in enumerate(chars))"
   ]
  },
  {
   "cell_type": "code",
   "execution_count": 54,
   "metadata": {},
   "outputs": [
    {
     "name": "stdout",
     "output_type": "stream",
     "text": [
      "Total Characters:  9118\n",
      "Total Vocab:  8681\n"
     ]
    }
   ],
   "source": [
    "n_chars = len(documents)\n",
    "n_vocab = len(chars)\n",
    "print(\"Total Characters: \", n_chars)\n",
    "print(\"Total Vocab: \", n_vocab)"
   ]
  },
  {
   "cell_type": "code",
   "execution_count": 55,
   "metadata": {},
   "outputs": [
    {
     "name": "stdout",
     "output_type": "stream",
     "text": [
      "Total Patterns:  9018\n"
     ]
    }
   ],
   "source": [
    "# prepare the dataset of input to output pairs encoded as integers\n",
    "seq_length = 100\n",
    "dataX = []\n",
    "dataY = []\n",
    "for i in range(0, n_chars - seq_length, 1):\n",
    "    seq_in = documents[i:i + seq_length]\n",
    "    seq_out = documents[i + seq_length]\n",
    "    dataX.append([char_to_int[char] for char in seq_in])\n",
    "    dataY.append(char_to_int[seq_out])\n",
    "n_patterns = len(dataX)\n",
    "print(\"Total Patterns: \", n_patterns)"
   ]
  },
  {
   "cell_type": "code",
   "execution_count": 56,
   "metadata": {},
   "outputs": [],
   "source": [
    "# reshape X to be [samples, time steps, features]\n",
    "X = numpy.reshape(dataX, (n_patterns, seq_length, 1))\n",
    "# normalize\n",
    "X = X / float(n_vocab)\n",
    "# one hot encode the output variable\n",
    "y = np_utils.to_categorical(dataY)"
   ]
  },
  {
   "cell_type": "code",
   "execution_count": 57,
   "metadata": {},
   "outputs": [],
   "source": [
    "# define the LSTM model\n",
    "model = Sequential()\n",
    "model.add(LSTM(256, input_shape=(X.shape[1], X.shape[2])))\n",
    "model.add(Dropout(0.2))\n",
    "model.add(Dense(y.shape[1], activation='softmax'))\n",
    "model.compile(loss='categorical_crossentropy', optimizer='adam')"
   ]
  },
  {
   "cell_type": "code",
   "execution_count": 58,
   "metadata": {},
   "outputs": [],
   "source": [
    "# define the checkpoint\n",
    "filepath=\"weights-improvement-{epoch:02d}-{loss:.4f}.hdf5\"\n",
    "checkpoint = ModelCheckpoint(filepath, monitor='loss', verbose=1, save_best_only=True, mode='min')\n",
    "callbacks_list = [checkpoint]"
   ]
  },
  {
   "cell_type": "code",
   "execution_count": 60,
   "metadata": {},
   "outputs": [
    {
     "name": "stdout",
     "output_type": "stream",
     "text": [
      "Epoch 1/20\n",
      "9018/9018 [==============================] - 24s 3ms/step - loss: 9.0770\n",
      "\n",
      "Epoch 00001: loss improved from inf to 9.07704, saving model to weights-improvement-01-9.0770.hdf5\n",
      "Epoch 2/20\n",
      "9018/9018 [==============================] - 28s 3ms/step - loss: 9.0651\n",
      "\n",
      "Epoch 00002: loss improved from 9.07704 to 9.06511, saving model to weights-improvement-02-9.0651.hdf5\n",
      "Epoch 3/20\n",
      "9018/9018 [==============================] - 27s 3ms/step - loss: 9.0637\n",
      "\n",
      "Epoch 00003: loss improved from 9.06511 to 9.06375, saving model to weights-improvement-03-9.0637.hdf5\n",
      "Epoch 4/20\n",
      "9018/9018 [==============================] - 27s 3ms/step - loss: 9.0534\n",
      "\n",
      "Epoch 00004: loss improved from 9.06375 to 9.05339, saving model to weights-improvement-04-9.0534.hdf5\n",
      "Epoch 5/20\n",
      "9018/9018 [==============================] - 27s 3ms/step - loss: 9.0216\n",
      "\n",
      "Epoch 00005: loss improved from 9.05339 to 9.02157, saving model to weights-improvement-05-9.0216.hdf5\n",
      "Epoch 6/20\n",
      "9018/9018 [==============================] - 27s 3ms/step - loss: 8.9704\n",
      "\n",
      "Epoch 00006: loss improved from 9.02157 to 8.97043, saving model to weights-improvement-06-8.9704.hdf5\n",
      "Epoch 7/20\n",
      "9018/9018 [==============================] - 27s 3ms/step - loss: 8.9460\n",
      "\n",
      "Epoch 00007: loss improved from 8.97043 to 8.94604, saving model to weights-improvement-07-8.9460.hdf5\n",
      "Epoch 8/20\n",
      "9018/9018 [==============================] - 27s 3ms/step - loss: 8.9270\n",
      "\n",
      "Epoch 00008: loss improved from 8.94604 to 8.92695, saving model to weights-improvement-08-8.9270.hdf5\n",
      "Epoch 9/20\n",
      "9018/9018 [==============================] - 27s 3ms/step - loss: 8.9208\n",
      "\n",
      "Epoch 00009: loss improved from 8.92695 to 8.92078, saving model to weights-improvement-09-8.9208.hdf5\n",
      "Epoch 10/20\n",
      "9018/9018 [==============================] - 27s 3ms/step - loss: 8.9074\n",
      "\n",
      "Epoch 00010: loss improved from 8.92078 to 8.90737, saving model to weights-improvement-10-8.9074.hdf5\n",
      "Epoch 11/20\n",
      "9018/9018 [==============================] - 27s 3ms/step - loss: 8.8679\n",
      "\n",
      "Epoch 00011: loss improved from 8.90737 to 8.86785, saving model to weights-improvement-11-8.8679.hdf5\n",
      "Epoch 12/20\n",
      "9018/9018 [==============================] - 27s 3ms/step - loss: 8.8790\n",
      "\n",
      "Epoch 00012: loss did not improve from 8.86785\n",
      "Epoch 13/20\n",
      "9018/9018 [==============================] - 27s 3ms/step - loss: 8.8746\n",
      "\n",
      "Epoch 00013: loss did not improve from 8.86785\n",
      "Epoch 14/20\n",
      "9018/9018 [==============================] - 28s 3ms/step - loss: 8.7305\n",
      "\n",
      "Epoch 00014: loss improved from 8.86785 to 8.73053, saving model to weights-improvement-14-8.7305.hdf5\n",
      "Epoch 15/20\n",
      "9018/9018 [==============================] - 27s 3ms/step - loss: 8.4549\n",
      "\n",
      "Epoch 00015: loss improved from 8.73053 to 8.45490, saving model to weights-improvement-15-8.4549.hdf5\n",
      "Epoch 16/20\n",
      "9018/9018 [==============================] - 27s 3ms/step - loss: 8.0160\n",
      "\n",
      "Epoch 00016: loss improved from 8.45490 to 8.01600, saving model to weights-improvement-16-8.0160.hdf5\n",
      "Epoch 17/20\n",
      "9018/9018 [==============================] - 27s 3ms/step - loss: 7.3998\n",
      "\n",
      "Epoch 00017: loss improved from 8.01600 to 7.39980, saving model to weights-improvement-17-7.3998.hdf5\n",
      "Epoch 18/20\n",
      "9018/9018 [==============================] - 27s 3ms/step - loss: 6.6888\n",
      "\n",
      "Epoch 00018: loss improved from 7.39980 to 6.68884, saving model to weights-improvement-18-6.6888.hdf5\n",
      "Epoch 19/20\n",
      "9018/9018 [==============================] - 27s 3ms/step - loss: 5.9464\n",
      "\n",
      "Epoch 00019: loss improved from 6.68884 to 5.94636, saving model to weights-improvement-19-5.9464.hdf5\n",
      "Epoch 20/20\n",
      "9018/9018 [==============================] - 26s 3ms/step - loss: 5.2272\n",
      "\n",
      "Epoch 00020: loss improved from 5.94636 to 5.22719, saving model to weights-improvement-20-5.2272.hdf5\n"
     ]
    },
    {
     "data": {
      "text/plain": [
       "<keras.callbacks.History at 0x26325772c18>"
      ]
     },
     "execution_count": 60,
     "metadata": {},
     "output_type": "execute_result"
    }
   ],
   "source": [
    "model.fit(X, y, epochs=20, batch_size=128, callbacks=callbacks_list)"
   ]
  },
  {
   "cell_type": "code",
   "execution_count": 61,
   "metadata": {},
   "outputs": [],
   "source": [
    "# load the network weights\n",
    "filename = \"weights-improvement-20-5.2272.hdf5\"\n",
    "model.load_weights(filename)\n",
    "model.compile(loss='categorical_crossentropy', optimizer='adam')"
   ]
  },
  {
   "cell_type": "code",
   "execution_count": 62,
   "metadata": {},
   "outputs": [],
   "source": [
    "int_to_char = dict((i, c) for i, c in enumerate(chars))"
   ]
  },
  {
   "cell_type": "code",
   "execution_count": 66,
   "metadata": {},
   "outputs": [
    {
     "name": "stdout",
     "output_type": "stream",
     "text": [
      "Seed:\n",
      "\" Characteristics and trends of traumatic injuries in children visiting emergency departments in South Korea: A retrospective serial cross-sectional study using both nationwide-sample and single-institutional dataSurvey of Traveler's Diarrhea: Epidemiology and Testing Reveal the SourceA Novel Bacterium-Like Particle-Based Vaccine Displaying the SUDV Glycoprotein Induces Potent Humoral and Cellular Immune Responses in MiceAntibody-Dependent Cellular Phagocytosis in Antiviral Immune ResponsesFULL PAPER 1600489 (1 of 7) The Process of Wrapping Virus Revealed by a Force Tracing Technique and SimulationsHepatitis C Virus Replication and Golgi Function in Brefeldin A-Resistant Hepatoma-Derived CellsReal-time characterization of risks of death associated with the Middle East respiratory syndrome (MERS) in the Republic of Korea, 2015Humanized Mouse Models of Epstein-Barr Virus Infection and Associated DiseasesNetwork Analysis of Global Influenza SpreadBMC Musculoskeletal Disorders Modeling early recovery of physical function following hip and knee arthroplastyJournal of Cardiovascular Disease Research OPEN ACCESS JCDR: Invited Review The Dual Role of TNF in Pulmonary EdemaN-Desmethylclozapine, Fluoxetine, and Salmeterol Inhibit Postentry Stages of the Dengue Virus Life CycleA Fusion Peptide in the Spike Protein of MERS CoronavirusMINI REVIEW A Mini-Review of Adverse Lung Transplant Outcomes Associated With Respiratory VirusesProgrammed cell removal by calreticulin in tissue homeostasis and cancerA Dimerization-Dependent Mechanism Drives the Endoribonuclease Function of Porcine Reproductive and Respiratory Syndrome Virus nsp11Surveillance for respiratory infectious diseases caused by 6 common viruses in a recruit training site in the Northern region of ChinaOverlooked in Fallon?Molecular characterization of US-like and Asian non-S INDEL strains of porcine epidemic diarrhea virus (PEDV) that circulated in Japan during 2013-2016 and PEDVs collected from recurrent outbreaksTLR3 Regulated Poly I:C-Induced Neutrophil Extracellular Traps and Acute Lung Injury Partly Through p38 MAP Kinasemolecules Comparative Anti-Infectious Bronchitis Virus (IBV) Activity of (-)-Pinene: Effect on Nucleocapsid (N) ProteinDecreased expression of eukaryotic initiation factor 3f is an adverse prognostic factor for stage I-III gastric cancerA confirmed severe case of human infection with avian-origin influenza H7N9: A case reportNon-Invasive Microstructure and Morphology Investigation of the Mouse Lung: Qualitative Description and Quantitative MeasurementDetection of Cytomegalovirus Antibodies Using a Biosensor Based on Imaging EllipsometrySupplementary Information Domain swapping oligomerization of thermostable c-type cytochrome in E. coli cellsHuman-specific Evolution and Adaptation led to Major Qualitative Differences in the Variable Receptors of Human and Chimpanzee Natural Killer CellsSometimes Sperm Whales (Physeter macrocephalus) Cannot Find Their Way Back to the High Seas: A Multidisciplinary Study on a Mass StrandingNeuropathogenesis of a highly pathogenic avian influenza virus (H7N1) in experimentally infected chickens Neuropathogenesis of a highly pathogenic avian influenza virus (H7N1) in experimentally infected chickensExperimental infection of dogs with a feline endogenous retrovirus RD-114Risk factors for MERS coronavirus infection in dromedary camels in Burkina Faso, Ethiopia, and Morocco, 2015Evolutionary Insights into IL17A in LagomorphsFeline calicivirus-and murine norovirus- induced COX-2/PGE 2 signaling pathway has proviral effectsExpression and regulation of the neutral amino acid transporter B 0 AT1 in rat small intestineEffectively Communicating the Uncertainties Surrounding Ebola Virus TransmissionHepatitis C Virus Non-Structural Protein 3 Interacts with Cytosolic 59(39)-Deoxyribonucleotidase and Partially Inhibits Its ActivityChinese social media reaction to the MERS-CoV and avian influenza A(H7N9) outbreaksModel-Based Design of Growth-Attenuated VirusesEpidemiology characteristics of human coronaviruses in patients with respiratory infection symptoms and phylogenetic analysis of HCoV-OC43 during 2010-2015 in GuangzhouGenomic Profiling of Collaborative Cross Founder Mice Infected with Respiratory Viruses Reveals Novel Transcripts and Infection-Related Strain-Specific Gene and Isoform ExpressionStructural insights into the Middle East respiratory syndrome coronavirus 4a protein and its dsRNA binding mechanism OPENExpert Commentary A New Approach to Monitoring Dengue ActivityStrategies to develop antivirals against enterovirus 71Origin, Genetic Diversity, and Evolutionary Dynamics of Novel Porcine Circovirus 3Epidemiology of Pathogen-Specific Respiratory Infections among Three US PopulationsSerological Screening for Coronavirus Infections in CatsEffects of the Toll-like receptor 7 (TLR7) agonist, AZD8848, on allergen-induced responses in patients with mild asthma: a double-blind, randomised, parallel-group studyIdentification of NCAM that interacts with the PHE-CoV spike proteinHijacking the Supplies: Metabolism as a Novel Facet of Virus-Host InteractionDectin-1 and DC-SIGN Polymorphisms Associated with Invasive Pulmonary Aspergillosis InfectionReverse Transcription Cross- Priming Amplification-Nucleic Acid Test Strip for Rapid Detection of Porcine Epidemic Diarrhea Virus OPENProtective Efficacy of Passive Immunization with Monoclonal Antibodies in Animal Models of H5N1 Highly Pathogenic Avian Influenza Virus InfectionPoxviruses in Bats … so What?Graphical presentation of diagnostic informationEfficiency of Airborne Sample Analysis Platform (ASAP) bioaerosol sampler for pathogen detectionVirome Profiling of Bats from Myanmar by Metagenomic Analysis of Tissue Samples Reveals More Novel Mammalian VirusesExamining the Complex Relationship Between Tuberculosis and Other Infectious Diseases in ChildrenEtiology of Severe Childhood Pneumonia in The Gambia, West Africa, Determined by Conventional and Molecular Microbiological Analyses of Lung and Pleural Aspirate SamplesInduction of Apoptosis by the Nonstructural Protein 4 and 10 of Porcine Reproductive and Respiratory Syndrome VirusRapid Identification of Known and New RNA Viruses from Animal TissuesMicroRNome Analysis Unravels the Molecular Basis of SARS Infection in Bronchoalveolar Stem CellsEvolutionary and Phylogenetic Analysis of the Hepaciviruses and PegivirusesPeripheral blood AKAP7 expression as an early marker for lymphocyte- mediated post-stroke blood brain barrier disruption OPENREVIEW Hemagglutinin-esterase-fusion (HEF) protein of influenza C virusEtiology and Clinical Characteristics of Single and Multiple Respiratory Virus Infections Diagnosed in Croatian Children in Two Respiratory SeasonsCase Report A Rare Cause of Childhood Cerebellitis-Influenza Infection: A Case Report and Systematic Review of LiteratureActivation of RNase L in Egyptian Rousette Bat-Derived RoNi/7 Cells Is Dependent Primarily on OAS3 and Independent of MAVS SignalingThe early immune response to infection of chickens with Infectious Bronchitis Virus (IBV) in susceptible and resistant birdsGiardiosis and other enteropathogenic infections: a study on diarrhoeic calves in Southern GermanyViral Mimicry to Usurp Ubiquitin and SUMO Host PathwaysEarly-Life Hepatitis E Infection in Pigs: The Importance of Maternally-Derived AntibodiesSublingual Immunization of Trivalent Human Papillomavirus DNA Vaccine in Baculovirus Nanovector for Protection against Vaginal ChallengeYersinia pestis Interacts With SIGNR1 (CD209b) for Promoting Host Dissemination and InfectionThe Placental Protein Syncytin-1 Impairs Antiviral Responses and Exaggerates Inflammatory Responses to InfluenzaDevelopment and evaluation of an immunochromatographic strip for rapid detection of porcine hemagglutinating encephalomyelitis virusZika (PRVABC59) Infection Is Associated with T cell Infiltration and Neurodegeneration in CNS of Immunocompetent Neonatal C57Bl/6 MiceFunding: The State Major Infectious Disease Research Program (China Central GovernmentAnti-Inflammatory Action of Angiotensin 1-7 in Experimental ColitisBMC Medical Genomics Identification and validation of suitable endogenous reference genes for gene expression studies in human peripheral bloodmolecules Anti-Herpetic, Anti-Dengue and Antineoplastic Activities of Simple and Heterocycle-Fused Derivatives of Terpenyl-1,4-Naphthoquinone and 1,4-Anthraquinone †A new paradigm: innate immune sensing of viruses via the unfolded protein responseTropical Medicine and Infectious Disease The Convergence of High-Consequence Livestock and Human Pathogen Research and Development: A Paradox of Zoonotic DiseaseBMC Genomics Differentially profiling the low-expression transcriptomes of human hepatoma using a novel SSH/microarray approachGo go gadget glycoprotein!: HSV-1 draws on its sizeable glycoprotein tool kit to customize its diverse entry routes Introduction: Viruses deploy diverse entry strategiesmolecules 3 ,8\"-Dimerization Enhances the Antioxidant Capacity of Flavonoids: Evidence from Acacetin and IsoginkgetinMolecular Sciences Review Advances in Zika Virus-Host Cell Interaction: Current Knowledge and Future PerspectivesInhibition effects of patchouli alcohol against influenza a virus through targeting cellular PI3K/Akt and ERK/MAPK signaling pathwaysA viral metagenomic survey identifies known and novel mammalian viruses in bats from Saudi ArabiaHost-protective effect of circulating pentraxin 3 (PTX3) and complex formation with neutrophil extracellular trapsIncorporating indel information into phylogeny estimation for rapidly emerging pathogensSystems-Biology Approaches to Discover Anti-Viral Effectors of the Human Innate Immune ResponseChanges in cecal microbiota community of suckling piglets infected with porcine epidemic diarrhea virusBMC Pulmonary Medicine A new paradigm in respiratory hygiene: increasing the cohesivity of airway secretions to improve cough interaction and reduce aerosol dispersionA Fluorometric Method of Measuring Carboxypeptidase Activities for Angiotensin II and Apelin-13Low to medium-low risk perception for dengue, chikungunya and Zika outbreaks by infectious diseases physicians in France, Western EuropeTransmission Electron Microscopy Studies of Cellular Responses to Entry of Virions: One Kind of Natural NanobiomaterialRespiratory microbes present in the nasopharynx of children hospitalised with suspected pulmonary tuberculosis in Cape Town, South AfricaInteraction of Influenza A Viruses with Oviduct Explants of Different Avian Species \"\n"
     ]
    },
    {
     "name": "stdout",
     "output_type": "stream",
     "text": [
      "Pseudorabies virus infection (Aujeszky's disease) in an Iberian lynx (Lynx pardinus) in Spain: a case reportVirology Journal Analysis of virion associated host proteins in vesicular stomatitis virus using a proteomics approachmolecules Synthesis and Evaluation of Non-peptidic Cysteine Protease Inhibitors of P. falciparum Derived from Etacrynic AcidAntiviral Lead Compounds from Marine SpongesAcquisition of Cell-Cell Fusion Activity by Amino Acid Substitutions in Spike Protein Determines the Infectivity of a Coronavirus in Cultured CellsCitation: Peste des Petits Ruminants Virus Enters Caprine Endometrial Epithelial Cells via the Caveolae-Mediated Endocytosis PathwayPredicting Interactions between Virus and Host Proteins Using Repeat Patterns and Composition of Amino AcidsLack of serological evidence of Middle East respiratory syndrome coronavirus infection in virus exposed camel abattoir workers in Nigeria, 2016Ministry of Health, Jakarta, Indonesia, 2 National Health Institute Research and Development, Ministry of HealthMinistry of Health, Jakarta, Indonesia, 2 National Health Institute Research and Development, Ministry of HealthCellular Proteins Associated with the Interior and Exterior of Vesicular Stomatitis Virus VirionsVaccination with recombinant adenovirus expressing multi-stage antigens of Toxoplasma gondii by the mucosal route induces higher systemic cellular and local mucosal immune responses than with other vaccination routesmolecules Synthesis of 2,3-Dioxo-5-(substituted)arylpyrroles and Their 2-Oxo-5-aryl-3-hydrazone Pyrrolidine DerivativesA cell-based, quantitative and isoform-specific assay for exchange proteins directly activated by cAMP OPENCharacterisation of Structural Proteins from Chronic Bee Paralysis Virus (CBPV) Using Mass SpectrometryMolecular Sciences The Role of the Lung's Microbiome in the Pathogenesis and Progression of Idiopathic Pulmonary FibrosisDifference of clinical features in childhood Mycoplasma pneumoniae pneumoniaviruses Overview of Trends in the Application of Metagenomic Techniques in the Analysis of Human Enteric Viral Diversity in Africa's Environmental RegimesThe calculation of information and organismal complexityHost Gene Expression Profiling of Dengue Virus Infection in Cell Lines and PatientsThe Conserved Coronavirus Macrodomain Promotes Virulence and Suppresses the Innate Immune Response during Severe Acute Respiratory Syndrome Coronavirus InfectionSingle-Round Infectious Particle Antiviral Screening Assays for the Japanese Encephalitis VirusFirst report of Toxoplasma gondii seroprevalence in peafowls in Yunnan Province, Southwestern ChinaRemission of Invasive, Cancer Stem-Like Glioblastoma Xenografts Using Lentiviral Vector-Mediated Suicide Gene TherapyA Two-Tube Multiplex Reverse Transcription PCR Assay for Simultaneous Detection of Sixteen Human Respiratory Virus Types/SubtypesFirst Dating of a Recombination Event in Mammalian Tick-Borne FlavivirusesReal-Time Sequence-Validated Loop- Mediated Isothermal Amplification Assays for Detection of Middle East Respiratory Syndrome Coronavirus (MERS-CoV)immunological Control of Viral infections in Bats and the emergence of Viruses Highly pathogenic to HumansGlobal Variability in Reported Mortality for Critical Illness during the 2009-10 Influenza A(H1N1) Pandemic: A Systematic Review and Meta-Regression to Guide Reporting of Outcomes during Disease Outbreaks Influenza A(H1N1) Pandemic: A Systematic Review and Meta- Regression to Guide Reporting of Outcomes during Disease OutbreaksPolicy Forum Bioethical Implications of Globalization: An International Consortium Project of the European CommissionA Network Integration Approach to Predict Conserved Regulators Related to Pathogenicity of Influenza and SARS-CoV Respiratory VirusesA Network Integration Approach to Predict Conserved Regulators Related to Pathogenicity of Influenza and SARS-CoV Respiratory VirusesA Network Integration Approach to Predict Conserved Regulators Related to Pathogenicity of Influenza and SARS-CoV Respiratory VirusesA Network Integration Approach to Predict Conserved Regulators Related to Pathogenicity of Influenza and SARS-CoV Respiratory VirusesA Network Integration Approach to Predict Conserved Regulators Related to Pathogenicity of Influenza and SARS-CoV Respiratory VirusesA Network Integration Approach to Predict Conserved Regulators Related to Pathogenicity of Influenza and SARS-CoV Respiratory VirusesA Network Integration Approach to Predict Conserved Regulators Related to Pathogenicity of Influenza and SARS-CoV Respiratory VirusesA Network Integration Approach to Predict Conserved Regulators Related to Pathogenicity of Influenza and SARS-CoV Respiratory VirusesA Network Integration Approach to Predict Conserved Regulators Related to Pathogenicity of Influenza and SARS-CoV Respiratory VirusesA Network Integration Approach to Predict Conserved Regulators Related to Pathogenicity of Influenza and SARS-CoV Respiratory VirusesA Network Integration Approach to Predict Conserved Regulators Related to Pathogenicity of Influenza and SARS-CoV Respiratory VirusesA Network Integration Approach to Predict Conserved Regulators Related to Pathogenicity of Influenza and SARS-CoV Respiratory VirusesA Network Integration Approach to Predict Conserved Regulators Related to Pathogenicity of Influenza and SARS-CoV Respiratory VirusesA Network Integration Approach to Predict Conserved Regulators Related to Pathogenicity of Influenza and SARS-CoV Respiratory VirusesA Network Integration Approach to Predict Conserved Regulators Related to Pathogenicity of Influenza and SARS-CoV Respiratory VirusesA Network Integration Approach to Predict Conserved Regulators Related to Pathogenicity of Influenza and SARS-CoV Respiratory VirusesA Network Integration Approach to Predict Conserved Regulators Related to Pathogenicity of Influenza and SARS-CoV Respiratory VirusesA Network Integration Approach to Predict Conserved Regulators Related to Pathogenicity of Influenza and SARS-CoV Respiratory VirusesA Network Integration Approach to Predict Conserved Regulators Related to Pathogenicity of Influenza and SARS-CoV Respiratory VirusesA Network Integration Approach to Predict Conserved Regulators Related to Pathogenicity of Influenza and SARS-CoV Respiratory VirusesA Network Integration Approach to Predict Conserved Regulators Related to Pathogenicity of Influenza and SARS-CoV Respiratory VirusesA Network Integration Approach to Predict Conserved Regulators Related to Pathogenicity of Influenza and SARS-CoV Respiratory VirusesA Network Integration Approach to Predict Conserved Regulators Related to Pathogenicity of Influenza and SARS-CoV Respiratory VirusesA Network Integration Approach to Predict Conserved Regulators Related to Pathogenicity of Influenza and SARS-CoV Respiratory VirusesA Network Integration Approach to Predict Conserved Regulators Related to Pathogenicity of Influenza and SARS-CoV Respiratory VirusesA Network Integration Approach to Predict Conserved Regulators Related to Pathogenicity of Influenza and SARS-CoV Respiratory VirusesA Network Integration Approach to Predict Conserved Regulators Related to Pathogenicity of Influenza and SARS-CoV Respiratory VirusesA Network Integration Approach to Predict Conserved Regulators Related to Pathogenicity of Influenza and SARS-CoV Respiratory VirusesZika virus: mapping and reprogramming the entryExperimental African Trypanosome Infection by Needle Passage or Natural Tsetse Fly Challenge Thwarts the Development of Collagen-Induced Arthritis in DBA/1 Prone Mice via an Impairment of Antigen Specific B Cell Autoantibody TitersIncreased Urinary Angiotensin-Converting Enzyme 2 in Renal Transplant Patients with DiabetesEditorial: Biological Engagement Programs: reducing threats and Strengthening Global Health Security through Scientific Collaboration The Editorial on the Research Topic Biological Engagement Programs: Reducing Threats and Strengthening Global Health Security Through Scientific CollaborationEditorial: Biological Engagement Programs: reducing threats and Strengthening Global Health Security through Scientific Collaboration The Editorial on the Research Topic Biological Engagement Programs: Reducing Threats and Strengthening Global Health Security Through Scientific Collaboration"
     ]
    },
    {
     "name": "stdout",
     "output_type": "stream",
     "text": [
      "A Metagenomic Analysis of Pandemic Influenza A (2009 H1N1) Infection in Patients from North AmericaSelf-Assembly and Release of Peste des Petits Ruminants Virus-Like Particles in an Insect Cell-Baculovirus System and Their Immunogenicity in Mice and GoatsReceptor usage and the pathogenesis in acute and chronic virus infectionsOncotarget, Vol. 6, No. 1 GCN5 inhibits XBP-1S-mediated transcription by antagonizing PCAF actionInduction of Cell-Cell Fusion by Ebola Virus Glycoprotein: Low pH Is Not a TriggerVisible Light-Responsive Platinum-Containing Titania Nanoparticle-Mediated Photocatalysis Induces Nucleotide Insertion, Deletion and Substitution MutationsNosocomial Transmission of Emerging Viruses via Aerosol-Generating Medical ProceduresAntisense suppression of donor splice site mutations in the dystrophin gene transcriptMapping and characterization of G-quadruplexes in Mycobacterium tuberculosis gene promoter regions OPENviruses Packaging of Genomic RNA in Positive-Sense Single-Stranded RNA Viruses: A Complex StoryA novel method for the capture-based purification of whole viral native RNA genomesVisible Light-Responsive Platinum-Containing Titania Nanoparticle-Mediated Photocatalysis Induces Nucleotide Insertion, Deletion and Substitution Mutationspharmaceutics Recent Advances in Nanovaccines Using Biomimetic Immunomodulatory MaterialsNo-Notice Mystery Patient Drills to Assess Emergency Preparedness for Infectious Diseases at Community Health Centers in New York City, 2015-2016Deep sequencing of primary human lung epithelial cells challenged with H5N1 influenza virus reveals a proviral role for CEACAM1 OPENDetection and full genome characterization of two beta CoV viruses related to Middle East respiratory syndrome from bats in ItalyDifference of clinical features in childhood Mycoplasma pneumoniae pneumoniaThe calculation of information and organismal complexityEvaluation and molecular characterization of human adenovirus in drinking water supplies: viral integrity and viability assaysRhinovirus Genome Variation during Chronic Upper and Lower Respiratory Tract InfectionsRhinovirus Genome Variation during Chronic Upper and Lower Respiratory Tract InfectionsMolecular Sciences Two Sides of the Coin: Ezrin/Radixin/Moesin and Merlin Control Membrane Structure and Contact InhibitionPertussis in infants: an underestimated disease감염병 관련 법률의 문제점과 개선 방안 박미정 서울대학교 의과대학 건강사회정책실 Infectious disease-related laws: prevention and control measuresVirulence of current German PEDV strains in suckling pigs and investigation of protective effects of maternally derived antibodiesGlobal trends in research related to social media in psychology: mapping and bibliometric analysisAnalysis of pig trading networks and practices in UgandaSend Orders for Reprints to reprints@benthamscience.ae The Open Virology Journal Zoonotic Viral Diseases of Equines and Their Impact on Human and Animal HealthSend Orders for Reprints to reprints@benthamscience.ae The Open Virology Journal Zoonotic Viral Diseases of Equines and Their Impact on Human and Animal HealthA Novel Questionnaire to Ergonomically Assess Respirators among Health Care Staff: Development and ValidationOutbreak of febrile illness caused by coxsackievirus A4 in a nursery school in Beijing, ChinaThe Coronavirus E Protein: Assembly and BeyondDemographic Variations of MERS-CoV Infection among Suspected and Confirmed Cases: An Epidemiological Analysis of Laboratory-Based Data from Riyadh Regional LaboratoryIdentification and characterisation of the CD40-ligand of Sigmodon hispidusSpecies-specific clinical characteristics of human coronavirus infection among otherwise healthy adolescents and adultsEmerging Themes in Epidemiology Early efforts in modeling the incubation period of infectious diseases with an acute course of illnessHypothetical Cases SARS Preparedness and ResponseObesity and risk of respiratory tract infections: results of an infection-diary based cohort studyEstimating the Asymptomatic Ratio of Norovirus Infection During Foodborne Outbreaks With Laboratory Testing in JapanEstimating Infection Attack Rates and Severity in Real Time during an Influenza Pandemic: Analysis of Serial Cross-Sectional Serologic Surveillance DataAerosol emission and superemission during human speech increase with voice loudnessEngineered Protein Model of the ATP synthase H + -Channel Shows No Salt Bridge at the Rotor-Stator Interface OPENRhinovirus Genome Variation during Chronic Upper and Lower Respiratory Tract InfectionsIsolation and Characterization of Clinical RSV Isolates in Belgium during the Winters of 2016-2018Outbreak of Novel Coronavirus (SARS-Cov-2): First Evidences From International Scientific Literature and Pending QuestionsOutbreak of Novel Coronavirus (SARS-Cov-2): First Evidences From International Scientific Literature and Pending QuestionsOriginal research Mumps Virus: Modification of the Identify-Isolate-Inform Tool for Frontline Healthcare ProvidersA HLA-A2-restricted CTL epitope induces anti-tumor effects against human lung cancer in mouse xenograft modelA HLA-A2-restricted CTL epitope induces anti-tumor effects against human lung cancer in mouse xenograft modelviruses Communication Arbidol (Umifenovir): A Broad-Spectrum Antiviral Drug That Inhibits Medically Important Arthropod-Borne FlavivirusesTransmission of Hand, Foot and Mouth Disease and Its Potential Driving Factors in Hong KongA survey of visitors on Swedish livestock farms with reference to the spread of animal diseasesSupplemental information Supplemental material and methods Experimental infection of ducks, geese and chicken with DE14-H5N8A and DE16-H5N8B 4BMC Immunology Immunogenicity of a polyvalent HIV-1 candidate vaccine based on fourteen wild type gp120 proteins in golden hamstersTransmissibility of the Influenza Virus in the 1918 PandemicMinistry of Health, Jakarta, Indonesia, 2 National Health Institute Research and Development, Ministry of HealthMolecular Sciences Communication Resiquimod-Mediated Activation of Plasmacytoid Dendritic Cells Is Amplified in Multiple SclerosisIn China, Students in Crowded Dormitories with a Low Ventilation Rate Have More Common Colds: Evidence for Airborne TransmissionBoHV-4-Based Vector Single Heterologous Antigen Delivery Protects STAT1 (-/-) Mice from Monkeypoxvirus Lethal ChallengeSpatially Adjusted time- varying Reproductive numbers: Understanding the Geographical expansion of Urban Dengue outbreaksInfluenza Vaccination in Type 2 Diabetes Patients: Coverage Status and Its Determinants in Southwestern Saudi ArabiaWhole genome characterisation of quail deltacoronavirus detected in PolandCrystal Structure of the Full-Length Japanese Encephalitis Virus NS5 Reveals a Conserved Methyltransferase-Polymerase InterfaceGenetic recombination in plant-infecting messenger-sense RNA viruses: overview and research perspectivesA Novel Host-Proteome Signature for Distinguishing between Acute Bacterial and Viral InfectionsSelf-Assembly and Release of Peste des Petits Ruminants Virus-Like Particles in an Insect Cell-Baculovirus System and Their Immunogenicity in Mice and GoatsLessons from SARS: A retrospective study of outpatient care during an infectious disease outbreakOncotarget, Vol. 6, No. 1 GCN5 inhibits XBP-1S-mediated transcription by antagonizing PCAF actionVisible Light-Responsive Platinum-Containing Titania Nanoparticle-Mediated Photocatalysis Induces Nucleotide Insertion, Deletion and Substitution MutationsVisible Light-Responsive Platinum-Containing Titania Nanoparticle-Mediated Photocatalysis Induces Nucleotide Insertion, Deletion and Substitution MutationsNovel insights into bat influenza A virusesMapping and characterization of G-quadruplexes in Mycobacterium tuberculosis gene promoter regions OPENCoinfection modulates inflammatory responses, clinical outcome and pathogen load of H1N1 swine influenza virus and Haemophilus parasuis infections in pigsRhinovirus Genome Variation during Chronic Upper and Lower Respiratory Tract InfectionsMoving pathogen genomics out of the lab and into the clinic: what will it take?Outbreak of Novel Coronavirus (SARS-Cov-2): First Evidences From International Scientific Literature and Pending QuestionsOutbreak of Novel Coronavirus (SARS-Cov-2): First Evidences From International Scientific Literature and Pending Questions"
     ]
    },
    {
     "name": "stdout",
     "output_type": "stream",
     "text": [
      "Policy & practice Evaluation of the EpiCore outbreak verification systemA HLA-A2-restricted CTL epitope induces anti-tumor effects against human lung cancer in mouse xenograft modelA HLA-A2-restricted CTL epitope induces anti-tumor effects against human lung cancer in mouse xenograft modelviruses Communication Arbidol (Umifenovir): A Broad-Spectrum Antiviral Drug That Inhibits Medically Important Arthropod-Borne FlavivirusesCRIspR-mediated activation of endogenous BST-2/tetherin expression inhibits wild-type HIV-1 production OPENIdentification of a Highly Conserved H1 Subtype-Specific Epitope with Diagnostic Potential in the Hemagglutinin Protein of Influenza A Virusmedicines The Current Status of the Pharmaceutical Potential of Juniperus L. MetabolitesPlatelets and infection -an emerging role of platelets in viral infectionVisible Light-Responsive Platinum-Containing Titania Nanoparticle-Mediated Photocatalysis Induces Nucleotide Insertion, Deletion and Substitution MutationsAlternative Polyadenylation of Human Bocavirus at Its 3= End Is Regulated by Multiple Elements and Affects Capsid ExpressionGenome Characterization of a Pathogenic Porcine Rotavirus B Strain Identified in Buryat Republic, Russia in 2015A Network Integration Approach to Predict Conserved Regulators Related to Pathogenicity of Influenza and SARS-CoV Respiratory VirusesA Network Integration Approach to Predict Conserved Regulators Related to Pathogenicity of Influenza and SARS-CoV Respiratory VirusesA Network Integration Approach to Predict Conserved Regulators Related to Pathogenicity of Influenza and SARS-CoV Respiratory VirusesA Network Integration Approach to Predict Conserved Regulators Related to Pathogenicity of Influenza and SARS-CoV Respiratory VirusesA Network Integration Approach to Predict Conserved Regulators Related to Pathogenicity of Influenza and SARS-CoV Respiratory VirusesA Network Integration Approach to Predict Conserved Regulators Related to Pathogenicity of Influenza and SARS-CoV Respiratory VirusesA Network Integration Approach to Predict Conserved Regulators Related to Pathogenicity of Influenza and SARS-CoV Respiratory VirusesA Network Integration Approach to Predict Conserved Regulators Related to Pathogenicity of Influenza and SARS-CoV Respiratory VirusesA Network Integration Approach to Predict Conserved Regulators Related to Pathogenicity of Influenza and SARS-CoV Respiratory VirusesA Network Integration Approach to Predict Conserved Regulators Related to Pathogenicity of Influenza and SARS-CoV Respiratory VirusesA Network Integration Approach to Predict Conserved Regulators Related to Pathogenicity of Influenza and SARS-CoV Respiratory VirusesA Network Integration Approach to Predict Conserved Regulators Related to Pathogenicity of Influenza and SARS-CoV Respiratory VirusesA Network Integration Approach to Predict Conserved Regulators Related to Pathogenicity of Influenza and SARS-CoV Respiratory VirusesA Network Integration Approach to Predict Conserved Regulators Related to Pathogenicity of Influenza and SARS-CoV Respiratory VirusesA Network Integration Approach to Predict Conserved Regulators Related to Pathogenicity of Influenza and SARS-CoV Respiratory VirusesA Network Integration Approach to Predict Conserved Regulators Related to Pathogenicity of Influenza and SARS-CoV Respiratory VirusesA Network Integration Approach to Predict Conserved Regulators Related to Pathogenicity of Influenza and SARS-CoV Respiratory VirusesA Network Integration Approach to Predict Conserved Regulators Related to Pathogenicity of Influenza and SARS-CoV Respiratory VirusesA Network Integration Approach to Predict Conserved Regulators Related to Pathogenicity of Influenza and SARS-CoV Respiratory VirusesA Network Integration Approach to Predict Conserved Regulators Related to Pathogenicity of Influenza and SARS-CoV Respiratory VirusesA Network Integration Approach to Predict Conserved Regulators Related to Pathogenicity of Influenza and SARS-CoV Respiratory VirusesA Network Integration Approach to Predict Conserved Regulators Related to Pathogenicity of Influenza and SARS-CoV Respiratory VirusesA Network Integration Approach to Predict Conserved Regulators Related to Pathogenicity of Influenza and SARS-CoV Respiratory VirusesA Network Integration Approach to Predict Conserved Regulators Related to Pathogenicity of Influenza and SARS-CoV Respiratory VirusesA Network Integration Approach to Predict Conserved Regulators Related to Pathogenicity of Influenza and SARS-CoV Respiratory VirusesA Network Integration Approach to Predict Conserved Regulators Related to Pathogenicity of Influenza and SARS-CoV Respiratory VirusesA Network Integration Approach to Predict Conserved Regulators Related to Pathogenicity of Influenza and SARS-CoV Respiratory VirusesA Network Integration Approach to Predict Conserved Regulators Related to Pathogenicity of Influenza and SARS-CoV Respiratory VirusesA Network Integration Approach to Predict Conserved Regulators Related to Pathogenicity of Influenza and SARS-CoV Respiratory VirusesA Network Integration Approach to Predict Conserved Regulators Related to Pathogenicity of Influenza and SARS-CoV Respiratory VirusesA Network Integration Approach to Predict Conserved Regulators Related to Pathogenicity of Influenza and SARS-CoV Respiratory VirusesA Network Integration Approach to Predict Conserved Regulators Related to Pathogenicity of Influenza and SARS-CoV Respiratory VirusesZika virus: mapping and reprogramming the entryExperimental African Trypanosome Infection by Needle Passage or Natural Tsetse Fly Challenge Thwarts the Development of Collagen-Induced Arthritis in DBA/1 Prone Mice via an Impairment of Antigen Specific B Cell Autoantibody TitersIncreased Urinary Angiotensin-Converting Enzyme 2 in Renal Transplant Patients with DiabetesEditorial: Biological Engagement Programs: reducing threats and Strengthening Global Health Security through Scientific Collaboration The Editorial on the Research Topic Biological Engagement Programs: Reducing Threats and Strengthening Global Health Security Through Scientific CollaborationEditorial: Biological Engagement Programs: reducing threats and Strengthening Global Health Security through Scientific Collaboration The Editorial on the Research Topic Biological Engagement Programs: Reducing Threats and Strengthening Global Health Security Through Scientific CollaborationA Metagenomic Analysis of Pandemic Influenza A (2009 H1N1) Infection in Patients from North AmericaSelf-Assembly and Release of Peste des Petits Ruminants Virus-Like Particles in an Insect Cell-Baculovirus System and Their Immunogenicity in Mice and GoatsReceptor usage and the pathogenesis in acute and chronic virus infectionsOncotarget, Vol. 6, No. 1 GCN5 inhibits XBP-1S-mediated transcription by antagonizing PCAF actionInduction of Cell-Cell Fusion by Ebola Virus Glycoprotein: Low pH Is Not a TriggerVisible Light-Responsive Platinum-Containing Titania Nanoparticle-Mediated Photocatalysis Induces Nucleotide Insertion, Deletion and Substitution MutationsNosocomial Transmission of Emerging Viruses via Aerosol-Generating Medical ProceduresAntisense suppression of donor splice site mutations in the dystrophin gene transcriptviruses Packaging of Genomic RNA in Positive-Sense Single-Stranded RNA Viruses: A Complex Storyviruses Packaging of Genomic RNA in Positive-Sense Single-Stranded RNA Viruses: A Complex StoryA novel method for the capture-based purification of whole viral native RNA genomesVisible Light-Responsive Platinum-Containing Titania Nanoparticle-Mediated Photocatalysis Induces Nucleotide Insertion, Deletion and Substitution MutationsChallenges in developing methods for quantifying the effects of weather and climate on water-associated diseases: A systematic reviewA Field-Deployable Reverse Transcription Recombinase Polymerase Amplification Assay for Rapid Detection of the Chikungunya VirusA Network Integration Approach to Predict Conserved Regulators Related to Pathogenicity of Influenza and SARS-CoV Respiratory VirusesTranscriptome sequencing and development of an expression microarray platform for the domestic ferretSpatially Adjusted time- varying Reproductive numbers: Understanding the Geographical expansion of Urban Dengue outbreaksInfluenza Vaccination in Type 2 Diabetes Patients: Coverage Status and Its Determinants in Southwestern Saudi ArabiaEditorial: Biological Engagement Programs: reducing threats and Strengthening Global Health Security through Scientific Collaboration The Editorial on the Research Topic Biological Engagement Programs: Reducing Threats and Strengthening Global Health Security Through Scientific CollaborationThe Nucleocapsid Protein of Human Coronavirus NL63marine drugs Characterizing Eckol as a Therapeutic Aid: A Systematic ReviewRNA disruption is associated with response to multiple classes of chemotherapy drugs in tumor cell linesEfficacy of a Carrageenan nasal spray in patients with common cold: a randomized controlled trialABSL-4 Aerobiology Biosafety and Technology at the NIH/NIAID Integrated Research Facility at Fort DetrickA Novel Host-Proteome Signature for Distinguishing between Acute Bacterial and Viral InfectionsA Novel Host-Proteome Signature for Distinguishing between Acute Bacterial and Viral InfectionsLessons from SARS: A retrospective study of outpatient care during an infectious disease outbreakThe Key Role of Genomics in Modern Vaccine and Drug Design for Emerging Infectious DiseasesEstablishment of Fruit Bat Cells (Rousettus aegyptiacus) as a Model System for the Investigation of Filoviral Infection"
     ]
    },
    {
     "name": "stdout",
     "output_type": "stream",
     "text": [
      "Visible Light-Responsive Platinum-Containing Titania Nanoparticle-Mediated Photocatalysis Induces Nucleotide Insertion, Deletion and Substitution MutationsMinistry of Health, Jakarta, Indonesia, 2 National Health Institute Research and Development, Ministry of HealthIMG/VR v.2.0: an integrated data management and analysis system for cultivated and environmental viral genomesActinobacillus pleuropneumoniae Possesses an Antiviral Activity against Porcine Reproductive and Respiratory Syndrome VirusDemographics and economic burden of un-owned cats and dogs in the UK: results of a 2010 census Stavisky et al. Demographics and economic burden of un-owned cats and dogs in the UK: results of a 2010 censusDiminished COX-2/PGE 2 -Mediated Antiviral Response Due to Impaired NOX/MAPK Signaling in G6PD-Knockdown Lung Epithelial CellsInactivation of an enterovirus by airborne disinfectantsBuilding a global atlas of zoonotic virusesBMC Infectious Diseases Association of SARS susceptibility with single nucleic acid polymorphisms of OAS1 and MxA genes: a case-control studyEvaluation and molecular characterization of human adenovirus in drinking water supplies: viral integrity and viability assaysRhinovirus Genome Variation during Chronic Upper and Lower Respiratory Tract InfectionsQ&A: The novel coronavirus outbreak causing COVID-19Molecular Sciences Two Sides of the Coin: Ezrin/Radixin/Moesin and Merlin Control Membrane Structure and Contact InhibitionPertussis in infants: an underestimated disease감염병 관련 법률의 문제점과 개선 방안 박미정 서울대학교 의과대학 건강사회정책실 Infectious disease-related laws: prevention and control measuresVirulence of current German PEDV strains in suckling pigs and investigation of protective effects of maternally derived antibodiesGlobal trends in research related to social media in psychology: mapping and bibliometric analysisAnalysis of pig trading networks and practices in UgandaSend Orders for Reprints to reprints@benthamscience.ae The Open Virology Journal Zoonotic Viral Diseases of Equines and Their Impact on Human and Animal HealthSend Orders for Reprints to reprints@benthamscience.ae The Open Virology Journal Zoonotic Viral Diseases of Equines and Their Impact on Human and Animal HealthA Novel Questionnaire to Ergonomically Assess Respirators among Health Care Staff: Development and ValidationNovel insights into bat influenza A virusesOutbreak of febrile illness caused by coxsackievirus A4 in a nursery school in Beijing, ChinaGenome Wide Identification of SARS-CoV Susceptibility Loci Using the Collaborative CrossCharacterization of Host and Bacterial Contributions to Lung Barrier Dysfunction Following Co-infection with 2009 Pandemic Influenza and Methicillin Resistant Staphylococcus aureusDemographic Variations of MERS-CoV Infection among Suspected and Confirmed Cases: An Epidemiological Analysis of Laboratory-Based Data from Riyadh Regional LaboratoryIdentification and characterisation of the CD40-ligand of Sigmodon hispidusSpecies-specific clinical characteristics of human coronavirus infection among otherwise healthy adolescents and adultsPort d'Entrée for Respiratory Infections -Does the Influenza A Virus Pave the Way for Bacteria?HBV core protein allosteric modulators differentially alter cccDNA biosynthesis from de novo infection and intracellular amplification pathways Citation: Author summaryA*02:06-p4 (LTA-J-FLIFL) A*02:07-p5 (LLDS-J-YERL) A*02:07-p6 (LLDSD-J-ERL)Citrus tristeza virus: evolution of complex and varied genotypic groupsSelection of Suitable Reference Genes for Normalization of Quantitative Real-Time Polymerase Chain Reaction in Human Cartilage Endplate of the Lumbar SpineTemporal Percolation of the Susceptible Network in an Epidemic SpreadingMammarenaviral Infection Is Dependent on Directional Exposure to and Release from Polarized Intestinal EpitheliaVisible Light-Responsive Platinum-Containing Titania Nanoparticle-Mediated Photocatalysis Induces Nucleotide Insertion, Deletion and Substitution MutationsProspective surveillance study of acute respiratory infections, influenza-like illness and seasonal influenza vaccine in a cohort of juvenile idiopathic arthritis patientsProspective surveillance study of acute respiratory infections, influenza-like illness and seasonal influenza vaccine in a cohort of juvenile idiopathic arthritis patientsOriginal research Mumps Virus: Modification of the Identify-Isolate-Inform Tool for Frontline Healthcare ProvidersAirport sentinel surveillance and entry quarantine for dengue infections following a fever screening program in TaiwanType i and iii interferon in the Gut: Tight Balance between Host Protection and immunopathologyEuropean Journal of Immunology Supporting Information for Conditional ligands for Asian HLA variants facilitate the definition of CD8 + T-cell responses in acute and chronic viral diseasesA Novel Host-Proteome Signature for Distinguishing between Acute Bacterial and Viral InfectionsExpression of Cystic Fibrosis Transmembrane Conductance Regulator in Ganglia of Human Gastrointestinal Tract OPENMammarenaviral Infection Is Dependent on Directional Exposure to and Release from Polarized Intestinal EpitheliaIn-plate recapturing of a dual-tagged recombinant Fasciola antigen (FhLAP) by a monoclonal antibody (US9) prevents non- specific binding in ELISAIn-plate recapturing of a dual-tagged recombinant Fasciola antigen (FhLAP) by a monoclonal antibody (US9) prevents non- specific binding in ELISASolvent/Detergent Virally Inactivated Serum Eye Drops Restore Healthy Ocular Epithelium in a Rabbit Model of Dry-Eye SyndromeActinobacillus pleuropneumoniae Possesses an Antiviral Activity against Porcine Reproductive and Respiratory Syndrome VirusAn emerging coronavirus causing pneumonia outbreak in Wuhan, China: calling for developing therapeutic and prophylactic strategiesRecurrent Recruitment Manoeuvres Improve Lung Mechanics and Minimize Lung Injury during Mechanical Ventilation of Healthy MiceEstimating Infection Attack Rates and Severity in Real Time during an Influenza Pandemic: Analysis of Serial Cross-Sectional Serologic Surveillance DataEvaluation and molecular characterization of human adenovirus in drinking water supplies: viral integrity and viability assaysRhinovirus Genome Variation during Chronic Upper and Lower Respiratory Tract InfectionsRhinovirus Genome Variation during Chronic Upper and Lower Respiratory Tract InfectionsMolecular Sciences Two Sides of the Coin: Ezrin/Radixin/Moesin and Merlin Control Membrane Structure and Contact InhibitionPertussis in infants: an underestimated disease감염병 관련 법률의 문제점과 개선 방안 박미정 서울대학교 의과대학 건강사회정책실 Infectious disease-related laws: prevention and control measuresVirulence of current German PEDV strains in suckling pigs and investigation of protective effects of maternally derived antibodiesGlobal trends in research related to social media in psychology: mapping and bibliometric analysisAnalysis of pig trading networks and practices in UgandaSend Orders for Reprints to reprints@benthamscience.ae The Open Virology Journal Zoonotic Viral Diseases of Equines and Their Impact on Human and Animal Healtha section of the journal Frontiers in Neurology Traumatic Spinal Cord Injury: An Overview of Pathophysiology, Models and Acute Injury MechanismsA Novel Questionnaire to Ergonomically Assess Respirators among Health Care Staff: Development and ValidationNovel insights into bat influenza A virusesOutbreak of febrile illness caused by coxsackievirus A4 in a nursery school in Beijing, ChinaThe Coronavirus E Protein: Assembly and BeyondCharacterization of Host and Bacterial Contributions to Lung Barrier Dysfunction Following Co-infection with 2009 Pandemic Influenza and Methicillin Resistant Staphylococcus aureusIdentification and characterisation of the CD40-ligand of Sigmodon hispidusSpecies-specific clinical characteristics of human coronavirus infection among otherwise healthy adolescents and adultsA*02:06-p4 (LTA-J-FLIFL) A*02:07-p5 (LLDS-J-YERL) A*02:07-p6 (LLDSD-J-ERL)Presence of Vaccine-Derived Newcastle Disease Viruses in Wild Birds a11111Send Orders for Reprints to reprints@benthamscience.ae The Open Virology Journal Zoonotic Viral Diseases of Equines and Their Impact on Human and Animal HealthSend Orders for Reprints to reprints@benthamscience.ae The Open Virology Journal Zoonotic Viral Diseases of Equines and Their Impact on Human and Animal HealthUp-Regulation of Mcl-1 and Bak by Coronavirus Infection of Human, Avian and Animal Cells Modulates Apoptosis and Viral ReplicationBMC Infectious Diseases Small islands and pandemic influenza: Potential benefits and limitations of travel volume reduction as a border control measure"
     ]
    },
    {
     "name": "stdout",
     "output_type": "stream",
     "text": [
      "Characterization of Two Monoclonal Antibodies That Recognize Linker Region and Carboxyl Terminal Domain of Coronavirus Nucleocapsid ProteinEstimating Infection Attack Rates and Severity in Real Time during an Influenza Pandemic: Analysis of Serial Cross-Sectional Serologic Surveillance DataEstimating Infection Attack Rates and Severity in Real Time during an Influenza Pandemic: Analysis of Serial Cross-Sectional Serologic Surveillance DataBMC Infectious Diseases Association of SARS susceptibility with single nucleic acid polymorphisms of OAS1 and MxA genes: a case-control studyEvaluation and molecular characterization of human adenovirus in drinking water supplies: viral integrity and viability assaysRhinovirus Genome Variation during Chronic Upper and Lower Respiratory Tract InfectionsQ&A: The novel coronavirus outbreak causing COVID-19Molecular Sciences Two Sides of the Coin: Ezrin/Radixin/Moesin and Merlin Control Membrane Structure and Contact InhibitionPertussis in infants: an underestimated disease감염병 관련 법률의 문제점과 개선 방안 박미정 서울대학교 의과대학 건강사회정책실 Infectious disease-related laws: prevention and control measuresVirulence of current German PEDV strains in suckling pigs and investigation of protective effects of maternally derived antibodiesGlobal trends in research related to social media in psychology: mapping and bibliometric analysisAnalysis of pig trading networks and practices in UgandaSend Orders for Reprints to reprints@benthamscience.ae The Open Virology Journal Zoonotic Viral Diseases of Equines and Their Impact on Human and Animal HealthSend Orders for Reprints to reprints@benthamscience.ae The Open Virology Journal Zoonotic Viral Diseases of Equines and Their Impact on Human and Animal HealthA Novel Questionnaire to Ergonomically Assess Respirators among Health Care Staff: Development and ValidationNovel insights into bat influenza A virusesOutbreak of febrile illness caused by coxsackievirus A4 in a nursery school in Beijing, ChinaGenome Wide Identification of SARS-CoV Susceptibility Loci Using the Collaborative CrossCharacterization of Host and Bacterial Contributions to Lung Barrier Dysfunction Following Co-infection with 2009 Pandemic Influenza and Methicillin Resistant Staphylococcus aureusDemographic Variations of MERS-CoV Infection among Suspected and Confirmed Cases: An Epidemiological Analysis of Laboratory-Based Data from Riyadh Regional LaboratoryIdentification and characterisation of the CD40-ligand of Sigmodon hispidusSpecies-specific clinical characteristics of human coronavirus infection among otherwise healthy adolescents and adultsPort d'Entrée for Respiratory Infections -Does the Influenza A Virus Pave the Way for Bacteria?HBV core protein allosteric modulators differentially alter cccDNA biosynthesis from de novo infection and intracellular amplification pathways Citation: Author summaryA*02:06-p4 (LTA-J-FLIFL) A*02:07-p5 (LLDS-J-YERL) A*02:07-p6 (LLDSD-J-ERL)Citrus tristeza virus: evolution of complex and varied genotypic groupsSelection of Suitable Reference Genes for Normalization of Quantitative Real-Time Polymerase Chain Reaction in Human Cartilage Endplate of the Lumbar SpineTemporal Percolation of the Susceptible Network in an Epidemic SpreadingMammarenaviral Infection Is Dependent on Directional Exposure to and Release from Polarized Intestinal EpitheliaVisible Light-Responsive Platinum-Containing Titania Nanoparticle-Mediated Photocatalysis Induces Nucleotide Insertion, Deletion and Substitution MutationsProspective surveillance study of acute respiratory infections, influenza-like illness and seasonal influenza vaccine in a cohort of juvenile idiopathic arthritis patientsProspective surveillance study of acute respiratory infections, influenza-like illness and seasonal influenza vaccine in a cohort of juvenile idiopathic arthritis patientsOriginal research Mumps Virus: Modification of the Identify-Isolate-Inform Tool for Frontline Healthcare ProvidersAirport sentinel surveillance and entry quarantine for dengue infections following a fever screening program in TaiwanType i and iii interferon in the Gut: Tight Balance between Host Protection and immunopathologyEuropean Journal of Immunology Supporting Information for Conditional ligands for Asian HLA variants facilitate the definition of CD8 + T-cell responses in acute and chronic viral diseasesA Novel Host-Proteome Signature for Distinguishing between Acute Bacterial and Viral InfectionsExpression of Cystic Fibrosis Transmembrane Conductance Regulator in Ganglia of Human Gastrointestinal Tract OPENMammarenaviral Infection Is Dependent on Directional Exposure to and Release from Polarized Intestinal EpitheliaIn-plate recapturing of a dual-tagged recombinant Fasciola antigen (FhLAP) by a monoclonal antibody (US9) prevents non- specific binding in ELISAIn-plate recapturing of a dual-tagged recombinant Fasciola antigen (FhLAP) by a monoclonal antibody (US9) prevents non- specific binding in ELISASolvent/Detergent Virally Inactivated Serum Eye Drops Restore Healthy Ocular Epithelium in a Rabbit Model of Dry-Eye SyndromeActinobacillus pleuropneumoniae Possesses an Antiviral Activity against Porcine Reproductive and Respiratory Syndrome VirusAn emerging coronavirus causing pneumonia outbreak in Wuhan, China: calling for developing therapeutic and prophylactic strategiesRecurrent Recruitment Manoeuvres Improve Lung Mechanics and Minimize Lung Injury during Mechanical Ventilation of Healthy MiceEstimating Infection Attack Rates and Severity in Real Time during an Influenza Pandemic: Analysis of Serial Cross-Sectional Serologic Surveillance DataEvaluation and molecular characterization of human adenovirus in drinking water supplies: viral integrity and viability assaysRhinovirus Genome Variation during Chronic Upper and Lower Respiratory Tract InfectionsRhinovirus Genome Variation during Chronic Upper and Lower Respiratory Tract InfectionsMolecular Sciences Two Sides of the Coin: Ezrin/Radixin/Moesin and Merlin Control Membrane Structure and Contact InhibitionPertussis in infants: an underestimated disease감염병 관련 법률의 문제점과 개선 방안 박미정 서울대학교 의과대학 건강사회정책실 Infectious disease-related laws: prevention and control measuresVirulence of current German PEDV strains in suckling pigs and investigation of protective effects of maternally derived antibodiesGlobal trends in research related to social media in psychology: mapping and bibliometric analysisAnalysis of pig trading networks and practices in UgandaSend Orders for Reprints to reprints@benthamscience.ae The Open Virology Journal Zoonotic Viral Diseases of Equines and Their Impact on Human and Animal Healtha section of the journal Frontiers in Neurology Traumatic Spinal Cord Injury: An Overview of Pathophysiology, Models and Acute Injury MechanismsA Novel Questionnaire to Ergonomically Assess Respirators among Health Care Staff: Development and ValidationNovel insights into bat influenza A virusesOutbreak of febrile illness caused by coxsackievirus A4 in a nursery school in Beijing, ChinaThe Coronavirus E Protein: Assembly and BeyondCharacterization of Host and Bacterial Contributions to Lung Barrier Dysfunction Following Co-infection with 2009 Pandemic Influenza and Methicillin Resistant Staphylococcus aureusIdentification and characterisation of the CD40-ligand of Sigmodon hispidusSpecies-specific clinical characteristics of human coronavirus infection among otherwise healthy adolescents and adultsA*02:06-p4 (LTA-J-FLIFL) A*02:07-p5 (LLDS-J-YERL) A*02:07-p6 (LLDSD-J-ERL)Presence of Vaccine-Derived Newcastle Disease Viruses in Wild Birds a11111Send Orders for Reprints to reprints@benthamscience.ae The Open Virology Journal Zoonotic Viral Diseases of Equines and Their Impact on Human and Animal HealthSend Orders for Reprints to reprints@benthamscience.ae The Open Virology Journal Zoonotic Viral Diseases of Equines and Their Impact on Human and Animal HealthUp-Regulation of Mcl-1 and Bak by Coronavirus Infection of Human, Avian and Animal Cells Modulates Apoptosis and Viral ReplicationBMC Infectious Diseases Small islands and pandemic influenza: Potential benefits and limitations of travel volume reduction as a border control measureCharacterization of Two Monoclonal Antibodies That Recognize Linker Region and Carboxyl Terminal Domain of Coronavirus Nucleocapsid ProteinEstimating Infection Attack Rates and Severity in Real Time during an Influenza Pandemic: Analysis of Serial Cross-Sectional Serologic Surveillance DataEstimating Infection Attack Rates and Severity in Real Time during an Influenza Pandemic: Analysis of Serial Cross-Sectional Serologic Surveillance Data"
     ]
    },
    {
     "name": "stdout",
     "output_type": "stream",
     "text": [
      "BMC Infectious Diseases Association of SARS susceptibility with single nucleic acid polymorphisms of OAS1 and MxA genes: a case-control studyEvaluation and molecular characterization of human adenovirus in drinking water supplies: viral integrity and viability assaysRhinovirus Genome Variation during Chronic Upper and Lower Respiratory Tract InfectionsQ&A: The novel coronavirus outbreak causing COVID-19Molecular Sciences Two Sides of the Coin: Ezrin/Radixin/Moesin and Merlin Control Membrane Structure and Contact InhibitionPertussis in infants: an underestimated disease감염병 관련 법률의 문제점과 개선 방안 박미정 서울대학교 의과대학 건강사회정책실 Infectious disease-related laws: prevention and control measuresVirulence of current German PEDV strains in suckling pigs and investigation of protective effects of maternally derived antibodiesGlobal trends in research related to social media in psychology: mapping and bibliometric analysisAnalysis of pig trading networks and practices in UgandaSend Orders for Reprints to reprints@benthamscience.ae The Open Virology Journal Zoonotic Viral Diseases of Equines and Their Impact on Human and Animal HealthSend Orders for Reprints to reprints@benthamscience.ae The Open Virology Journal Zoonotic Viral Diseases of Equines and Their Impact on Human and Animal HealthA Novel Questionnaire to Ergonomically Assess Respirators among Health Care Staff: Development and ValidationNovel insights into bat influenza A virusesOutbreak of febrile illness caused by coxsackievirus A4 in a nursery school in Beijing, ChinaGenome Wide Identification of SARS-CoV Susceptibility Loci Using the Collaborative CrossCharacterization of Host and Bacterial Contributions to Lung Barrier Dysfunction Following Co-infection with 2009 Pandemic Influenza and Methicillin Resistant Staphylococcus aureusDemographic Variations of MERS-CoV Infection among Suspected and Confirmed Cases: An Epidemiological Analysis of Laboratory-Based Data from Riyadh Regional LaboratoryIdentification and characterisation of the CD40-ligand of Sigmodon hispidusSpecies-specific clinical characteristics of human coronavirus infection among otherwise healthy adolescents and adultsPort d'Entrée for Respiratory Infections -Does the Influenza A Virus Pave the Way for Bacteria?HBV core protein allosteric modulators differentially alter cccDNA biosynthesis from de novo infection and intracellular amplification pathways Citation: Author summaryA*02:06-p4 (LTA-J-FLIFL) A*02:07-p5 (LLDS-J-YERL) A*02:07-p6 (LLDSD-J-ERL)Citrus tristeza virus: evolution of complex and varied genotypic groupsSelection of Suitable Reference Genes for Normalization of Quantitative Real-Time Polymerase Chain Reaction in Human Cartilage Endplate of the Lumbar SpineTemporal Percolation of the Susceptible Network in an Epidemic SpreadingMammarenaviral Infection Is Dependent on Directional Exposure to and Release from Polarized Intestinal EpitheliaVisible Light-Responsive Platinum-Containing Titania Nanoparticle-Mediated Photocatalysis Induces Nucleotide Insertion, Deletion and Substitution MutationsProspective surveillance study of acute respiratory infections, influenza-like illness and seasonal influenza vaccine in a cohort of juvenile idiopathic arthritis patientsProspective surveillance study of acute respiratory infections, influenza-like illness and seasonal influenza vaccine in a cohort of juvenile idiopathic arthritis patientsOriginal research Mumps Virus: Modification of the Identify-Isolate-Inform Tool for Frontline Healthcare ProvidersAirport sentinel surveillance and entry quarantine for dengue infections following a fever screening program in TaiwanType i and iii interferon in the Gut: Tight Balance between Host Protection and immunopathologyEuropean Journal of Immunology Supporting Information for Conditional ligands for Asian HLA variants facilitate the definition of CD8 + T-cell responses in acute and chronic viral diseasesA Novel Host-Proteome Signature for Distinguishing between Acute Bacterial and Viral InfectionsExpression of Cystic Fibrosis Transmembrane Conductance Regulator in Ganglia of Human Gastrointestinal Tract OPENMammarenaviral Infection Is Dependent on Directional Exposure to and Release from Polarized Intestinal EpitheliaIn-plate recapturing of a dual-tagged recombinant Fasciola antigen (FhLAP) by a monoclonal antibody (US9) prevents non- specific binding in ELISAIn-plate recapturing of a dual-tagged recombinant Fasciola antigen (FhLAP) by a monoclonal antibody (US9) prevents non- specific binding in ELISASolvent/Detergent Virally Inactivated Serum Eye Drops Restore Healthy Ocular Epithelium in a Rabbit Model of Dry-Eye SyndromeActinobacillus pleuropneumoniae Possesses an Antiviral Activity against Porcine Reproductive and Respiratory Syndrome VirusAn emerging coronavirus causing pneumonia outbreak in Wuhan, China: calling for developing therapeutic and prophylactic strategiesRecurrent Recruitment Manoeuvres Improve Lung Mechanics and Minimize Lung Injury during Mechanical Ventilation of Healthy MiceEstimating Infection Attack Rates and Severity in Real Time during an Influenza Pandemic: Analysis of Serial Cross-Sectional Serologic Surveillance DataEvaluation and molecular characterization of human adenovirus in drinking water supplies: viral integrity and viability assaysRhinovirus Genome Variation during Chronic Upper and Lower Respiratory Tract InfectionsRhinovirus Genome Variation during Chronic Upper and Lower Respiratory Tract InfectionsMolecular Sciences Two Sides of the Coin: Ezrin/Radixin/Moesin and Merlin Control Membrane Structure and Contact InhibitionPertussis in infants: an underestimated disease감염병 관련 법률의 문제점과 개선 방안 박미정 서울대학교 의과대학 건강사회정책실 Infectious disease-related laws: prevention and control measuresVirulence of current German PEDV strains in suckling pigs and investigation of protective effects of maternally derived antibodiesGlobal trends in research related to social media in psychology: mapping and bibliometric analysisAnalysis of pig trading networks and practices in UgandaSend Orders for Reprints to reprints@benthamscience.ae The Open Virology Journal Zoonotic Viral Diseases of Equines and Their Impact on Human and Animal Healtha section of the journal Frontiers in Neurology Traumatic Spinal Cord Injury: An Overview of Pathophysiology, Models and Acute Injury MechanismsA Novel Questionnaire to Ergonomically Assess Respirators among Health Care Staff: Development and ValidationNovel insights into bat influenza A virusesOutbreak of febrile illness caused by coxsackievirus A4 in a nursery school in Beijing, ChinaThe Coronavirus E Protein: Assembly and BeyondCharacterization of Host and Bacterial Contributions to Lung Barrier Dysfunction Following Co-infection with 2009 Pandemic Influenza and Methicillin Resistant Staphylococcus aureusIdentification and characterisation of the CD40-ligand of Sigmodon hispidusSpecies-specific clinical characteristics of human coronavirus infection among otherwise healthy adolescents and adultsA*02:06-p4 (LTA-J-FLIFL) A*02:07-p5 (LLDS-J-YERL) A*02:07-p6 (LLDSD-J-ERL)Presence of Vaccine-Derived Newcastle Disease Viruses in Wild Birds a11111Send Orders for Reprints to reprints@benthamscience.ae The Open Virology Journal Zoonotic Viral Diseases of Equines and Their Impact on Human and Animal HealthSend Orders for Reprints to reprints@benthamscience.ae The Open Virology Journal Zoonotic Viral Diseases of Equines and Their Impact on Human and Animal HealthUp-Regulation of Mcl-1 and Bak by Coronavirus Infection of Human, Avian and Animal Cells Modulates Apoptosis and Viral ReplicationBMC Infectious Diseases Small islands and pandemic influenza: Potential benefits and limitations of travel volume reduction as a border control measureCharacterization of Two Monoclonal Antibodies That Recognize Linker Region and Carboxyl Terminal Domain of Coronavirus Nucleocapsid ProteinEstimating Infection Attack Rates and Severity in Real Time during an Influenza Pandemic: Analysis of Serial Cross-Sectional Serologic Surveillance DataEstimating Infection Attack Rates and Severity in Real Time during an Influenza Pandemic: Analysis of Serial Cross-Sectional Serologic Surveillance DataBMC Infectious Diseases Association of SARS susceptibility with single nucleic acid polymorphisms of OAS1 and MxA genes: a case-control studyEvaluation and molecular characterization of human adenovirus in drinking water supplies: viral integrity and viability assays"
     ]
    },
    {
     "name": "stdout",
     "output_type": "stream",
     "text": [
      "Rhinovirus Genome Variation during Chronic Upper and Lower Respiratory Tract InfectionsQ&A: The novel coronavirus outbreak causing COVID-19Molecular Sciences Two Sides of the Coin: Ezrin/Radixin/Moesin and Merlin Control Membrane Structure and Contact InhibitionPertussis in infants: an underestimated disease감염병 관련 법률의 문제점과 개선 방안 박미정 서울대학교 의과대학 건강사회정책실 Infectious disease-related laws: prevention and control measuresVirulence of current German PEDV strains in suckling pigs and investigation of protective effects of maternally derived antibodiesGlobal trends in research related to social media in psychology: mapping and bibliometric analysisAnalysis of pig trading networks and practices in UgandaSend Orders for Reprints to reprints@benthamscience.ae The Open Virology Journal Zoonotic Viral Diseases of Equines and Their Impact on Human and Animal HealthSend Orders for Reprints to reprints@benthamscience.ae The Open Virology Journal Zoonotic Viral Diseases of Equines and Their Impact on Human and Animal HealthA Novel Questionnaire to Ergonomically Assess Respirators among Health Care Staff: Development and ValidationNovel insights into bat influenza A virusesOutbreak of febrile illness caused by coxsackievirus A4 in a nursery school in Beijing, ChinaGenome Wide Identification of SARS-CoV Susceptibility Loci Using the Collaborative CrossCharacterization of Host and Bacterial Contributions to Lung Barrier Dysfunction Following Co-infection with 2009 Pandemic Influenza and Methicillin Resistant Staphylococcus aureusDemographic Variations of MERS-CoV Infection among Suspected and Confirmed Cases: An Epidemiological Analysis of Laboratory-Based Data from Riyadh Regional LaboratoryIdentification and characterisation of the CD40-ligand of Sigmodon hispidusSpecies-specific clinical characteristics of human coronavirus infection among otherwise healthy adolescents and adultsPort d'Entrée for Respiratory Infections -Does the Influenza A Virus Pave the Way for Bacteria?HBV core protein allosteric modulators differentially alter cccDNA biosynthesis from de novo infection and intracellular amplification pathways Citation: Author summaryA*02:06-p4 (LTA-J-FLIFL) A*02:07-p5 (LLDS-J-YERL) A*02:07-p6 (LLDSD-J-ERL)Citrus tristeza virus: evolution of complex and varied genotypic groupsSelection of Suitable Reference Genes for Normalization of Quantitative Real-Time Polymerase Chain Reaction in Human Cartilage Endplate of the Lumbar SpineTemporal Percolation of the Susceptible Network in an Epidemic SpreadingMammarenaviral Infection Is Dependent on Directional Exposure to and Release from Polarized Intestinal EpitheliaVisible Light-Responsive Platinum-Containing Titania Nanoparticle-Mediated Photocatalysis Induces Nucleotide Insertion, Deletion and Substitution MutationsProspective surveillance study of acute respiratory infections, influenza-like illness and seasonal influenza vaccine in a cohort of juvenile idiopathic arthritis patientsProspective surveillance study of acute respiratory infections, influenza-like illness and seasonal influenza vaccine in a cohort of juvenile idiopathic arthritis patientsOriginal research Mumps Virus: Modification of the Identify-Isolate-Inform Tool for Frontline Healthcare ProvidersAirport sentinel surveillance and entry quarantine for dengue infections following a fever screening program in TaiwanType i and iii interferon in the Gut: Tight Balance between Host Protection and immunopathologyEuropean Journal of Immunology Supporting Information for Conditional ligands for Asian HLA variants facilitate the definition of CD8 + T-cell responses in acute and chronic viral diseasesA Novel Host-Proteome Signature for Distinguishing between Acute Bacterial and Viral InfectionsExpression of Cystic Fibrosis Transmembrane Conductance Regulator in Ganglia of Human Gastrointestinal Tract OPENMammarenaviral Infection Is Dependent on Directional Exposure to and Release from Polarized Intestinal EpitheliaIn-plate recapturing of a dual-tagged recombinant Fasciola antigen (FhLAP) by a monoclonal antibody (US9) prevents non- specific binding in ELISAIn-plate recapturing of a dual-tagged recombinant Fasciola antigen (FhLAP) by a monoclonal antibody (US9) prevents non- specific binding in ELISASolvent/Detergent Virally Inactivated Serum Eye Drops Restore Healthy Ocular Epithelium in a Rabbit Model of Dry-Eye SyndromeActinobacillus pleuropneumoniae Possesses an Antiviral Activity against Porcine Reproductive and Respiratory Syndrome VirusAn emerging coronavirus causing pneumonia outbreak in Wuhan, China: calling for developing therapeutic and prophylactic strategiesRecurrent Recruitment Manoeuvres Improve Lung Mechanics and Minimize Lung Injury during Mechanical Ventilation of Healthy MiceEstimating Infection Attack Rates and Severity in Real Time during an Influenza Pandemic: Analysis of Serial Cross-Sectional Serologic Surveillance DataEvaluation and molecular characterization of human adenovirus in drinking water supplies: viral integrity and viability assaysRhinovirus Genome Variation during Chronic Upper and Lower Respiratory Tract InfectionsRhinovirus Genome Variation during Chronic Upper and Lower Respiratory Tract InfectionsMolecular Sciences Two Sides of the Coin: Ezrin/Radixin/Moesin and Merlin Control Membrane Structure and Contact InhibitionPertussis in infants: an underestimated disease감염병 관련 법률의 문제점과 개선 방안 박미정 서울대학교 의과대학 건강사회정책실 Infectious disease-related laws: prevention and control measuresVirulence of current German PEDV strains in suckling pigs and investigation of protective effects of maternally derived antibodiesGlobal trends in research related to social media in psychology: mapping and bibliometric analysisAnalysis of pig trading networks and practices in UgandaSend Orders for Reprints to reprints@benthamscience.ae The Open Virology Journal Zoonotic Viral Diseases of Equines and Their Impact on Human and Animal Healtha section of the journal Frontiers in Neurology Traumatic Spinal Cord Injury: An Overview of Pathophysiology, Models and Acute Injury MechanismsA Novel Questionnaire to Ergonomically Assess Respirators among Health Care Staff: Development and ValidationNovel insights into bat influenza A virusesOutbreak of febrile illness caused by coxsackievirus A4 in a nursery school in Beijing, ChinaThe Coronavirus E Protein: Assembly and BeyondCharacterization of Host and Bacterial Contributions to Lung Barrier Dysfunction Following Co-infection with 2009 Pandemic Influenza and Methicillin Resistant Staphylococcus aureusIdentification and characterisation of the CD40-ligand of Sigmodon hispidusSpecies-specific clinical characteristics of human coronavirus infection among otherwise healthy adolescents and adultsA*02:06-p4 (LTA-J-FLIFL) A*02:07-p5 (LLDS-J-YERL) A*02:07-p6 (LLDSD-J-ERL)Presence of Vaccine-Derived Newcastle Disease Viruses in Wild Birds a11111Send Orders for Reprints to reprints@benthamscience.ae The Open Virology Journal Zoonotic Viral Diseases of Equines and Their Impact on Human and Animal HealthSend Orders for Reprints to reprints@benthamscience.ae The Open Virology Journal Zoonotic Viral Diseases of Equines and Their Impact on Human and Animal HealthUp-Regulation of Mcl-1 and Bak by Coronavirus Infection of Human, Avian and Animal Cells Modulates Apoptosis and Viral ReplicationBMC Infectious Diseases Small islands and pandemic influenza: Potential benefits and limitations of travel volume reduction as a border control measureCharacterization of Two Monoclonal Antibodies That Recognize Linker Region and Carboxyl Terminal Domain of Coronavirus Nucleocapsid ProteinEstimating Infection Attack Rates and Severity in Real Time during an Influenza Pandemic: Analysis of Serial Cross-Sectional Serologic Surveillance DataEstimating Infection Attack Rates and Severity in Real Time during an Influenza Pandemic: Analysis of Serial Cross-Sectional Serologic Surveillance DataBMC Infectious Diseases Association of SARS susceptibility with single nucleic acid polymorphisms of OAS1 and MxA genes: a case-control studyEvaluation and molecular characterization of human adenovirus in drinking water supplies: viral integrity and viability assaysRhinovirus Genome Variation during Chronic Upper and Lower Respiratory Tract InfectionsQ&A: The novel coronavirus outbreak causing COVID-19Molecular Sciences Two Sides of the Coin: Ezrin/Radixin/Moesin and Merlin Control Membrane Structure and Contact InhibitionPertussis in infants: an underestimated disease감염병 관련 법률의 문제점과 개선 방안 박미정 서울대학교 의과대학 건강사회정책실 Infectious disease-related laws: prevention and control measuresVirulence of current German PEDV strains in suckling pigs and investigation of protective effects of maternally derived antibodies"
     ]
    },
    {
     "name": "stdout",
     "output_type": "stream",
     "text": [
      "Global trends in research related to social media in psychology: mapping and bibliometric analysisAnalysis of pig trading networks and practices in UgandaSend Orders for Reprints to reprints@benthamscience.ae The Open Virology Journal Zoonotic Viral Diseases of Equines and Their Impact on Human and Animal HealthSend Orders for Reprints to reprints@benthamscience.ae The Open Virology Journal Zoonotic Viral Diseases of Equines and Their Impact on Human and Animal HealthA Novel Questionnaire to Ergonomically Assess Respirators among Health Care Staff: Development and ValidationNovel insights into bat influenza A virusesOutbreak of febrile illness caused by coxsackievirus A4 in a nursery school in Beijing, ChinaGenome Wide Identification of SARS-CoV Susceptibility Loci Using the Collaborative CrossCharacterization of Host and Bacterial Contributions to Lung Barrier Dysfunction Following Co-infection with 2009 Pandemic Influenza and Methicillin Resistant Staphylococcus aureusDemographic Variations of MERS-CoV Infection among Suspected and Confirmed Cases: An Epidemiological Analysis of Laboratory-Based Data from Riyadh Regional LaboratoryIdentification and characterisation of the CD40-ligand of Sigmodon hispidusSpecies-specific clinical characteristics of human coronavirus infection among otherwise healthy adolescents and adultsPort d'Entrée for Respiratory Infections -Does the Influenza A Virus Pave the Way for Bacteria?HBV core protein allosteric modulators differentially alter cccDNA biosynthesis from de novo infection and intracellular amplification pathways Citation: Author summaryA*02:06-p4 (LTA-J-FLIFL) A*02:07-p5 (LLDS-J-YERL) A*02:07-p6 (LLDSD-J-ERL)Citrus tristeza virus: evolution of complex and varied genotypic groupsSelection of Suitable Reference Genes for Normalization of Quantitative Real-Time Polymerase Chain Reaction in Human Cartilage Endplate of the Lumbar SpineTemporal Percolation of the Susceptible Network in an Epidemic SpreadingMammarenaviral Infection Is Dependent on Directional Exposure to and Release from Polarized Intestinal EpitheliaVisible Light-Responsive Platinum-Containing Titania Nanoparticle-Mediated Photocatalysis Induces Nucleotide Insertion, Deletion and Substitution MutationsProspective surveillance study of acute respiratory infections, influenza-like illness and seasonal influenza vaccine in a cohort of juvenile idiopathic arthritis patientsProspective surveillance study of acute respiratory infections, influenza-like illness and seasonal influenza vaccine in a cohort of juvenile idiopathic arthritis patientsOriginal research Mumps Virus: Modification of the Identify-Isolate-Inform Tool for Frontline Healthcare ProvidersAirport sentinel surveillance and entry quarantine for dengue infections following a fever screening program in TaiwanType i and iii interferon in the Gut: Tight Balance between Host Protection and immunopathologyEuropean Journal of Immunology Supporting Information for Conditional ligands for Asian HLA variants facilitate the definition of CD8 + T-cell responses in acute and chronic viral diseasesA Novel Host-Proteome Signature for Distinguishing between Acute Bacterial and Viral InfectionsExpression of Cystic Fibrosis Transmembrane Conductance Regulator in Ganglia of Human Gastrointestinal Tract OPENMammarenaviral Infection Is Dependent on Directional Exposure to and Release from Polarized Intestinal EpitheliaIn-plate recapturing of a dual-tagged recombinant Fasciola antigen (FhLAP) by a monoclonal antibody (US9) prevents non- specific binding in ELISAIn-plate recapturing of a dual-tagged recombinant Fasciola antigen (FhLAP) by a monoclonal antibody (US9) prevents non- specific binding in ELISASolvent/Detergent Virally Inactivated Serum Eye Drops Restore Healthy Ocular Epithelium in a Rabbit Model of Dry-Eye SyndromeActinobacillus pleuropneumoniae Possesses an Antiviral Activity against Porcine Reproductive and Respiratory Syndrome VirusAn emerging coronavirus causing pneumonia outbreak in Wuhan, China: calling for developing therapeutic and prophylactic strategiesRecurrent Recruitment Manoeuvres Improve Lung Mechanics and Minimize Lung Injury during Mechanical Ventilation of Healthy MiceEstimating Infection Attack Rates and Severity in Real Time during an Influenza Pandemic: Analysis of Serial Cross-Sectional Serologic Surveillance DataEvaluation and molecular characterization of human adenovirus in drinking water supplies: viral integrity and viability assaysRhinovirus Genome Variation during Chronic Upper and Lower Respiratory Tract InfectionsRhinovirus Genome Variation during Chronic Upper and Lower Respiratory Tract InfectionsMolecular Sciences Two Sides of the Coin: Ezrin/Radixin/Moesin and Merlin Control Membrane Structure and Contact InhibitionPertussis in infants: an underestimated disease감염병 관련 법률의 문제점과 개선 방안 박미정 서울대학교 의과대학 건강사회정책실 Infectious disease-related laws: prevention and control measuresVirulence of current German PEDV strains in suckling pigs and investigation of protective effects of maternally derived antibodiesGlobal trends in research related to social media in psychology: mapping and bibliometric analysisAnalysis of pig trading networks and practices in UgandaSend Orders for Reprints to reprints@benthamscience.ae The Open Virology Journal Zoonotic Viral Diseases of Equines and Their Impact on Human and Animal Healtha section of the journal Frontiers in Neurology Traumatic Spinal Cord Injury: An Overview of Pathophysiology, Models and Acute Injury MechanismsA Novel Questionnaire to Ergonomically Assess Respirators among Health Care Staff: Development and ValidationNovel insights into bat influenza A virusesOutbreak of febrile illness caused by coxsackievirus A4 in a nursery school in Beijing, ChinaThe Coronavirus E Protein: Assembly and BeyondCharacterization of Host and Bacterial Contributions to Lung Barrier Dysfunction Following Co-infection with 2009 Pandemic Influenza and Methicillin Resistant Staphylococcus aureusIdentification and characterisation of the CD40-ligand of Sigmodon hispidusSpecies-specific clinical characteristics of human coronavirus infection among otherwise healthy adolescents and adultsA*02:06-p4 (LTA-J-FLIFL) A*02:07-p5 (LLDS-J-YERL) A*02:07-p6 (LLDSD-J-ERL)Presence of Vaccine-Derived Newcastle Disease Viruses in Wild Birds a11111Send Orders for Reprints to reprints@benthamscience.ae The Open Virology Journal Zoonotic Viral Diseases of Equines and Their Impact on Human and Animal HealthSend Orders for Reprints to reprints@benthamscience.ae The Open Virology Journal Zoonotic Viral Diseases of Equines and Their Impact on Human and Animal HealthUp-Regulation of Mcl-1 and Bak by Coronavirus Infection of Human, Avian and Animal Cells Modulates Apoptosis and Viral ReplicationBMC Infectious Diseases Small islands and pandemic influenza: Potential benefits and limitations of travel volume reduction as a border control measureCharacterization of Two Monoclonal Antibodies That Recognize Linker Region and Carboxyl Terminal Domain of Coronavirus Nucleocapsid ProteinEstimating Infection Attack Rates and Severity in Real Time during an Influenza Pandemic: Analysis of Serial Cross-Sectional Serologic Surveillance DataEstimating Infection Attack Rates and Severity in Real Time during an Influenza Pandemic: Analysis of Serial Cross-Sectional Serologic Surveillance DataBMC Infectious Diseases Association of SARS susceptibility with single nucleic acid polymorphisms of OAS1 and MxA genes: a case-control studyEvaluation and molecular characterization of human adenovirus in drinking water supplies: viral integrity and viability assaysRhinovirus Genome Variation during Chronic Upper and Lower Respiratory Tract InfectionsQ&A: The novel coronavirus outbreak causing COVID-19Molecular Sciences Two Sides of the Coin: Ezrin/Radixin/Moesin and Merlin Control Membrane Structure and Contact InhibitionPertussis in infants: an underestimated disease감염병 관련 법률의 문제점과 개선 방안 박미정 서울대학교 의과대학 건강사회정책실 Infectious disease-related laws: prevention and control measuresVirulence of current German PEDV strains in suckling pigs and investigation of protective effects of maternally derived antibodiesGlobal trends in research related to social media in psychology: mapping and bibliometric analysisAnalysis of pig trading networks and practices in UgandaSend Orders for Reprints to reprints@benthamscience.ae The Open Virology Journal Zoonotic Viral Diseases of Equines and Their Impact on Human and Animal HealthSend Orders for Reprints to reprints@benthamscience.ae The Open Virology Journal Zoonotic Viral Diseases of Equines and Their Impact on Human and Animal HealthA Novel Questionnaire to Ergonomically Assess Respirators among Health Care Staff: Development and Validation"
     ]
    },
    {
     "name": "stdout",
     "output_type": "stream",
     "text": [
      "Novel insights into bat influenza A virusesOutbreak of febrile illness caused by coxsackievirus A4 in a nursery school in Beijing, ChinaGenome Wide Identification of SARS-CoV Susceptibility Loci Using the Collaborative CrossCharacterization of Host and Bacterial Contributions to Lung Barrier Dysfunction Following Co-infection with 2009 Pandemic Influenza and Methicillin Resistant Staphylococcus aureusDemographic Variations of MERS-CoV Infection among Suspected and Confirmed Cases: An Epidemiological Analysis of Laboratory-Based Data from Riyadh Regional LaboratoryIdentification and characterisation of the CD40-ligand of Sigmodon hispidusSpecies-specific clinical characteristics of human coronavirus infection among otherwise healthy adolescents and adultsPort d'Entrée for Respiratory Infections -Does the Influenza A Virus Pave the Way for Bacteria?HBV core protein allosteric modulators differentially alter cccDNA biosynthesis from de novo infection and intracellular amplification pathways Citation: Author summaryA*02:06-p4 (LTA-J-FLIFL) A*02:07-p5 (LLDS-J-YERL) A*02:07-p6 (LLDSD-J-ERL)Citrus tristeza virus: evolution of complex and varied genotypic groupsSelection of Suitable Reference Genes for Normalization of Quantitative Real-Time Polymerase Chain Reaction in Human Cartilage Endplate of the Lumbar SpineTemporal Percolation of the Susceptible Network in an Epidemic SpreadingMammarenaviral Infection Is Dependent on Directional Exposure to and Release from Polarized Intestinal EpitheliaVisible Light-Responsive Platinum-Containing Titania Nanoparticle-Mediated Photocatalysis Induces Nucleotide Insertion, Deletion and Substitution MutationsProspective surveillance study of acute respiratory infections, influenza-like illness and seasonal influenza vaccine in a cohort of juvenile idiopathic arthritis patientsProspective surveillance study of acute respiratory infections, influenza-like illness and seasonal influenza vaccine in a cohort of juvenile idiopathic arthritis patientsOriginal research Mumps Virus: Modification of the Identify-Isolate-Inform Tool for Frontline Healthcare ProvidersAirport sentinel surveillance and entry quarantine for dengue infections following a fever screening program in TaiwanType i and iii interferon in the Gut: Tight Balance between Host Protection and immunopathologyEuropean Journal of Immunology Supporting Information for Conditional ligands for Asian HLA variants facilitate the definition of CD8 + T-cell responses in acute and chronic viral diseasesA Novel Host-Proteome Signature for Distinguishing between Acute Bacterial and Viral InfectionsExpression of Cystic Fibrosis Transmembrane Conductance Regulator in Ganglia of Human Gastrointestinal Tract OPENMammarenaviral Infection Is Dependent on Directional Exposure to and Release from Polarized Intestinal Epithelia\n",
      "Done.\n"
     ]
    }
   ],
   "source": [
    "# pick a random seed\n",
    "start = numpy.random.randint(0, len(dataX)-1)\n",
    "pattern = dataX[start]\n",
    "print(\"Seed:\")\n",
    "print (\"\\\"\", ''.join([int_to_char[value] for value in pattern]), \"\\\"\")\n",
    "# generate characters\n",
    "for i in range(1000):\n",
    "    x = numpy.reshape(pattern, (1, len(pattern), 1))\n",
    "    x = x / float(n_vocab)\n",
    "    prediction = model.predict(x, verbose=0)\n",
    "    index = numpy.argmax(prediction)\n",
    "    result = int_to_char[index]\n",
    "    seq_in = [int_to_char[value] for value in pattern]\n",
    "    sys.stdout.write(result)\n",
    "    pattern.append(index)\n",
    "    pattern = pattern[1:len(pattern)]\n",
    "print(\"\\nDone.\")"
   ]
  },
  {
   "cell_type": "code",
   "execution_count": null,
   "metadata": {},
   "outputs": [],
   "source": []
  },
  {
   "cell_type": "code",
   "execution_count": null,
   "metadata": {},
   "outputs": [],
   "source": []
  },
  {
   "cell_type": "code",
   "execution_count": null,
   "metadata": {},
   "outputs": [],
   "source": []
  },
  {
   "cell_type": "code",
   "execution_count": 19,
   "metadata": {},
   "outputs": [
    {
     "data": {
      "text/html": [
       "<div>\n",
       "<style scoped>\n",
       "    .dataframe tbody tr th:only-of-type {\n",
       "        vertical-align: middle;\n",
       "    }\n",
       "\n",
       "    .dataframe tbody tr th {\n",
       "        vertical-align: top;\n",
       "    }\n",
       "\n",
       "    .dataframe thead th {\n",
       "        text-align: right;\n",
       "    }\n",
       "</style>\n",
       "<table border=\"1\" class=\"dataframe\">\n",
       "  <thead>\n",
       "    <tr style=\"text-align: right;\">\n",
       "      <th></th>\n",
       "      <th>title</th>\n",
       "    </tr>\n",
       "  </thead>\n",
       "  <tbody>\n",
       "    <tr>\n",
       "      <th>14</th>\n",
       "      <td>The dendritic cell system and its role in immu...</td>\n",
       "    </tr>\n",
       "    <tr>\n",
       "      <th>15</th>\n",
       "      <td>Immunobiology of dendritic cells</td>\n",
       "    </tr>\n",
       "    <tr>\n",
       "      <th>16</th>\n",
       "      <td>The CD4-centered universe of human T cell subsets</td>\n",
       "    </tr>\n",
       "    <tr>\n",
       "      <th>17</th>\n",
       "      <td>Ligation of CD40 on dendritic cells triggers p...</td>\n",
       "    </tr>\n",
       "    <tr>\n",
       "      <th>18</th>\n",
       "      <td>High level IL-12 production by murine dendriti...</td>\n",
       "    </tr>\n",
       "  </tbody>\n",
       "</table>\n",
       "</div>"
      ],
      "text/plain": [
       "                                                title\n",
       "14  The dendritic cell system and its role in immu...\n",
       "15                   Immunobiology of dendritic cells\n",
       "16  The CD4-centered universe of human T cell subsets\n",
       "17  Ligation of CD40 on dendritic cells triggers p...\n",
       "18  High level IL-12 production by murine dendriti..."
      ]
     },
     "execution_count": 19,
     "metadata": {},
     "output_type": "execute_result"
    }
   ],
   "source": [
    "#df_bibl_titles.drop(df_bibl_titles.head(14).index,inplace=True) # drop last n rows\n",
    "#df_bibl_titles.head()"
   ]
  },
  {
   "cell_type": "markdown",
   "metadata": {},
   "source": [
    "# Sentiment analysis"
   ]
  },
  {
   "cell_type": "code",
   "execution_count": null,
   "metadata": {},
   "outputs": [],
   "source": [
    "nltk.download('vader_lexicon')"
   ]
  },
  {
   "cell_type": "code",
   "execution_count": null,
   "metadata": {},
   "outputs": [],
   "source": [
    "sid = SentimentIntensityAnalyzer()"
   ]
  },
  {
   "cell_type": "code",
   "execution_count": null,
   "metadata": {
    "scrolled": true
   },
   "outputs": [],
   "source": [
    "compound_list = []\n",
    "for x in df_for_series['title']:\n",
    "    ss = sid.polarity_scores(x)\n",
    "    compound_list.append(ss['compound'])"
   ]
  },
  {
   "cell_type": "code",
   "execution_count": null,
   "metadata": {},
   "outputs": [],
   "source": [
    "df_for_series['compound'] = compound_list\n",
    "df_for_series.head()"
   ]
  },
  {
   "cell_type": "code",
   "execution_count": null,
   "metadata": {},
   "outputs": [],
   "source": [
    "df_for_series.tail()"
   ]
  },
  {
   "cell_type": "code",
   "execution_count": null,
   "metadata": {},
   "outputs": [],
   "source": [
    "len(df_for_series)"
   ]
  },
  {
   "cell_type": "code",
   "execution_count": null,
   "metadata": {},
   "outputs": [],
   "source": [
    "#df_for_series = df_for_series[df_for_series.index <= '2020.0']"
   ]
  },
  {
   "cell_type": "code",
   "execution_count": null,
   "metadata": {},
   "outputs": [],
   "source": [
    "df_for_series['year'].describe()"
   ]
  },
  {
   "cell_type": "code",
   "execution_count": null,
   "metadata": {},
   "outputs": [],
   "source": []
  },
  {
   "cell_type": "code",
   "execution_count": null,
   "metadata": {},
   "outputs": [],
   "source": [
    "df_for_series.set_index('year', inplace=True)\n",
    "df_for_series.head()"
   ]
  },
  {
   "cell_type": "code",
   "execution_count": null,
   "metadata": {},
   "outputs": [],
   "source": [
    "df_for_series = df_for_series.sort_index()\n",
    "df_for_series.head()"
   ]
  },
  {
   "cell_type": "code",
   "execution_count": null,
   "metadata": {},
   "outputs": [],
   "source": [
    "df_for_series['compound'].describe()"
   ]
  },
  {
   "cell_type": "code",
   "execution_count": null,
   "metadata": {},
   "outputs": [],
   "source": [
    "target_list = []\n",
    "for x in df_for_series['compound']:\n",
    "    if x < -.25:\n",
    "        target_list.append(-1)\n",
    "    elif x > .25:\n",
    "        target_list.append(1)\n",
    "    else: \n",
    "        target_list.append(0)"
   ]
  },
  {
   "cell_type": "code",
   "execution_count": null,
   "metadata": {},
   "outputs": [],
   "source": [
    "df_for_series['target'] = target_list\n",
    "df_for_series.head(20)"
   ]
  },
  {
   "cell_type": "code",
   "execution_count": null,
   "metadata": {},
   "outputs": [],
   "source": [
    "import seaborn as sns"
   ]
  },
  {
   "cell_type": "code",
   "execution_count": null,
   "metadata": {},
   "outputs": [],
   "source": [
    "sns.distplot(compound_list);"
   ]
  },
  {
   "cell_type": "code",
   "execution_count": null,
   "metadata": {},
   "outputs": [],
   "source": [
    "df_time_series = df_for_series[['compound']].copy()\n",
    "df_time_series.tail()"
   ]
  },
  {
   "cell_type": "markdown",
   "metadata": {},
   "source": [
    "Drop outliers"
   ]
  },
  {
   "cell_type": "code",
   "execution_count": null,
   "metadata": {},
   "outputs": [],
   "source": []
  },
  {
   "cell_type": "code",
   "execution_count": null,
   "metadata": {},
   "outputs": [],
   "source": [
    "#df_time_series = df_time_series.loc[df_time_series.index < '2020.0']"
   ]
  },
  {
   "cell_type": "code",
   "execution_count": null,
   "metadata": {},
   "outputs": [],
   "source": [
    "df_time_series.plot(kind='line', figsize=(12,8))\n",
    "plt.title('Compound/Time', fontsize=28)\n",
    "plt.xlabel('Time', fontsize=24)\n",
    "plt.xticks(fontsize=20)\n",
    "plt.yticks(fontsize=20)\n",
    "plt.ylabel('Compound', fontsize=24)\n",
    "plt.legend(fontsize=20);"
   ]
  },
  {
   "cell_type": "code",
   "execution_count": null,
   "metadata": {},
   "outputs": [],
   "source": [
    "# rolling mean"
   ]
  },
  {
   "cell_type": "markdown",
   "metadata": {},
   "source": [
    "# ARIMA"
   ]
  },
  {
   "cell_type": "code",
   "execution_count": null,
   "metadata": {},
   "outputs": [],
   "source": [
    "df_time_series['date'] = pd.to_datetime(df_time_series.index, unit='M')\n",
    "df_time_series.tail()"
   ]
  },
  {
   "cell_type": "code",
   "execution_count": null,
   "metadata": {},
   "outputs": [],
   "source": [
    "def arimamodel(timeseries):\n",
    "    '''\n",
    "     Creating the model: automatic ARIMA using ADF to test stationarity, \n",
    "     start values for p and q are set to 1, and the crypto data is not assumed to be seasonal \n",
    " \n",
    "     Args: \n",
    "         timeseries: Pandas timeseries with closing price \n",
    "         \n",
    "     Returns: \n",
    "         automodel: automatic ARIMA model\n",
    "    '''\n",
    "    automodel = pm.auto_arima(df, \n",
    "                              start_p=1, \n",
    "                              start_q=1,\n",
    "                              test=\"adf\",\n",
    "                              seasonal=False,\n",
    "                              trace=True)\n",
    "    return automodel"
   ]
  },
  {
   "cell_type": "code",
   "execution_count": null,
   "metadata": {},
   "outputs": [],
   "source": [
    "def plotarima(n_periods, timeseries, automodel):\n",
    "    ''' \n",
    "    Plot ARIMA forecast using statsmodel’s plot_predict, \n",
    "        filling the area between the upper and lower prediction bounds.\n",
    "    \n",
    "    Args: \n",
    "        n_periods: steps for the forecast\n",
    "        timeseries: Pandas timeseries with closing price \n",
    "        automodel: automatic ARIMA model\n",
    "    '''\n",
    "    # Hourly index\n",
    "    fc_ind = pd.date_range(df.index[df.shape[0]-1], \n",
    "                           periods=n_periods, freq=\"h\")\n",
    "    # Forecast series\n",
    "    fc_series = pd.Series(forecast[0], index=fc_ind)\n",
    "    # Upper and lower confidence bounds\n",
    "    lower_series = pd.Series(forecast[2][:,0], index=fc_ind)\n",
    "    upper_series = pd.Series(forecast[2][:,1], index=fc_ind)\n",
    "    # Create plot\n",
    "    plt.figure(figsize=(20,10))\n",
    "    plt.plot(df)\n",
    "    plt.plot(fc_series, color=\"blue\")\n",
    "    plt.xlabel(\"date\")\n",
    "    plt.ylabel(df.name)\n",
    "    plt.fill_between(lower_series.index, \n",
    "                     lower_series, \n",
    "                     upper_series, \n",
    "                     color=\"k\", \n",
    "                     alpha=0.25)\n",
    "    plt.legend((\"past\", \"forecast\", \"95% confidence interval\"),  \n",
    "               loc=\"upper left\")\n",
    "    plt.show();"
   ]
  },
  {
   "cell_type": "code",
   "execution_count": null,
   "metadata": {},
   "outputs": [],
   "source": [
    "automodel = arimamodel(df_time_series)"
   ]
  },
  {
   "cell_type": "code",
   "execution_count": null,
   "metadata": {},
   "outputs": [],
   "source": [
    "# Build Model\n",
    "model = ARIMA(train, order=(0, 1, 0))  \n",
    "model_fit = model.fit()  \n",
    "\n",
    "# Forecast\n",
    "fc, se, conf = model_fit.forecast(steps=72, alpha=0.05)  # 95% conf\n",
    "\n",
    "# Make as pandas series\n",
    "fc_series = pd.Series(fc, index=test.index)\n",
    "lower_series = pd.Series(conf[:, 0], index=test.index)\n",
    "upper_series = pd.Series(conf[:, 1], index=test.index)\n",
    "\n",
    "# Plot\n",
    "plt.figure(figsize=(12,5), dpi=100)\n",
    "plt.xticks(rotation=45)\n",
    "plt.plot(train, label='training')\n",
    "plt.plot(test, label='actual')\n",
    "plt.plot(fc_series, label='forecast')\n",
    "plt.fill_between(lower_series.index, lower_series, upper_series, \n",
    "                 color='k', alpha=.15)\n",
    "plt.title('Forecast vs Actuals')\n",
    "plt.legend(loc='upper left', fontsize=8)\n",
    "plt.show()"
   ]
  },
  {
   "cell_type": "code",
   "execution_count": null,
   "metadata": {},
   "outputs": [],
   "source": [
    "automodel.summary()"
   ]
  },
  {
   "cell_type": "code",
   "execution_count": null,
   "metadata": {},
   "outputs": [],
   "source": [
    "automodel.plot_diagnostics(figsize=(15, 18))\n",
    "plt.show()"
   ]
  },
  {
   "cell_type": "code",
   "execution_count": null,
   "metadata": {},
   "outputs": [],
   "source": [
    "print(model_fit.summary())"
   ]
  },
  {
   "cell_type": "code",
   "execution_count": null,
   "metadata": {},
   "outputs": [],
   "source": []
  },
  {
   "cell_type": "code",
   "execution_count": null,
   "metadata": {},
   "outputs": [],
   "source": []
  },
  {
   "cell_type": "code",
   "execution_count": null,
   "metadata": {},
   "outputs": [],
   "source": []
  },
  {
   "cell_type": "markdown",
   "metadata": {},
   "source": [
    "# Create df for commercial articles"
   ]
  },
  {
   "cell_type": "code",
   "execution_count": null,
   "metadata": {
    "scrolled": true
   },
   "outputs": [],
   "source": [
    "def create_df_text(directory): \n",
    "    \n",
    "    ''' Create df with title, abstract and full text as columns\n",
    "    \n",
    "        Argument: directory: choose the directory needed\n",
    "        \n",
    "        Return: dataframe\n",
    "    \n",
    "    '''\n",
    "    docs = []\n",
    "    for d in directory:\n",
    "        for index, file in enumerate(os.listdir(f\"{d}/{d}\")):\n",
    "            file_path = f\"{d}/{d}/{file}\"\n",
    "            j = json.load(open(file_path, 'rb'))\n",
    "\n",
    "            title = j['metadata']['title']\n",
    "\n",
    "            try:\n",
    "                abstract = j['abstract'][0]['text']\n",
    "            except:\n",
    "                abstract = \"\"\n",
    "\n",
    "            full_text = \"\"   \n",
    "            for text in j['body_text']:\n",
    "                full_text += text['text'] + \"\\n\\n\"\n",
    "\n",
    "\n",
    "            docs.append([title, abstract, full_text])\n",
    "\n",
    "            if index % 10 == 0:\n",
    "                print(index, end=\" \")\n",
    "                \n",
    "    df = pd.DataFrame(docs, columns = ['title', 'abstract', 'full_text'])\n",
    "            \n",
    "    return df"
   ]
  },
  {
   "cell_type": "code",
   "execution_count": null,
   "metadata": {},
   "outputs": [],
   "source": [
    "df_comm = create_df_text(directory)"
   ]
  },
  {
   "cell_type": "code",
   "execution_count": null,
   "metadata": {},
   "outputs": [],
   "source": [
    "df_comm.head()"
   ]
  },
  {
   "cell_type": "code",
   "execution_count": null,
   "metadata": {},
   "outputs": [],
   "source": [
    "df_comm.isnull().any()"
   ]
  },
  {
   "cell_type": "markdown",
   "metadata": {},
   "source": [
    "# Check articles that contain the word incubation"
   ]
  },
  {
   "cell_type": "code",
   "execution_count": null,
   "metadata": {},
   "outputs": [],
   "source": [
    "incubation = df_comm[df_comm['full_text'].str.contains('incubation')]\n",
    "incubation.head()"
   ]
  },
  {
   "cell_type": "markdown",
   "metadata": {},
   "source": [
    "Let's write a regex for capture digits followed by the word day and save in a list."
   ]
  },
  {
   "cell_type": "code",
   "execution_count": null,
   "metadata": {},
   "outputs": [],
   "source": [
    "incubation_time = []\n",
    "texts = incubation['full_text'].values\n",
    "\n",
    "for text in texts:\n",
    "    for sentence in text.split(\". \"):\n",
    "        if \"incubation\" in sentence:\n",
    "            single_day = re.findall(r'( \\d{1,2}(\\.\\d{1,2})? day[s]?)', sentence)\n",
    "            \n",
    "            if len(single_day) == 1:\n",
    "                num = single_day[0][0].split(\" \")\n",
    "                incubation_time.append(float(num[1]))"
   ]
  },
  {
   "cell_type": "code",
   "execution_count": null,
   "metadata": {
    "scrolled": true
   },
   "outputs": [],
   "source": [
    "print(len(incubation_time))\n",
    "print(incubation_time, end=' ')"
   ]
  },
  {
   "cell_type": "markdown",
   "metadata": {},
   "source": [
    "I'm assuming that values over 30 are outliers so I'm gonna remove them."
   ]
  },
  {
   "cell_type": "code",
   "execution_count": null,
   "metadata": {},
   "outputs": [],
   "source": [
    "inc_time = [i for i in incubation_time if i < 30]"
   ]
  },
  {
   "cell_type": "code",
   "execution_count": null,
   "metadata": {},
   "outputs": [],
   "source": [
    "df_inc = pd.DataFrame(inc_time, columns=['Incubation days'])\n",
    "df_inc.head()"
   ]
  },
  {
   "cell_type": "code",
   "execution_count": null,
   "metadata": {},
   "outputs": [],
   "source": [
    "df_inc.describe()"
   ]
  },
  {
   "cell_type": "markdown",
   "metadata": {},
   "source": [
    "### The mean of the commercial articles for the incubation days is 7 days."
   ]
  },
  {
   "cell_type": "code",
   "execution_count": null,
   "metadata": {
    "scrolled": false
   },
   "outputs": [],
   "source": [
    "plt.figure(figsize=(20,10))\n",
    "plt.hist(inc_time)\n",
    "plt.title('Incubatione time', fontsize=24)\n",
    "plt.ylabel('Bin counts', fontsize=20)\n",
    "plt.xlabel('Days', fontsize=20);"
   ]
  },
  {
   "cell_type": "markdown",
   "metadata": {},
   "source": [
    "# Create df for non commercial articles"
   ]
  },
  {
   "cell_type": "code",
   "execution_count": null,
   "metadata": {},
   "outputs": [],
   "source": [
    "directory = ['noncomm_use_subset']"
   ]
  },
  {
   "cell_type": "code",
   "execution_count": null,
   "metadata": {},
   "outputs": [],
   "source": [
    "df_non_comm = create_df_text(directory)"
   ]
  },
  {
   "cell_type": "code",
   "execution_count": null,
   "metadata": {},
   "outputs": [],
   "source": [
    "df_non_comm.head()"
   ]
  },
  {
   "cell_type": "code",
   "execution_count": null,
   "metadata": {},
   "outputs": [],
   "source": [
    "df_non_comm.isnull().any()"
   ]
  },
  {
   "cell_type": "markdown",
   "metadata": {},
   "source": [
    "# Check articles that contain the word incubation"
   ]
  },
  {
   "cell_type": "code",
   "execution_count": null,
   "metadata": {},
   "outputs": [],
   "source": [
    "incubation = df_non_comm[df_non_comm['full_text'].str.contains('incubation')]\n",
    "incubation.head()"
   ]
  },
  {
   "cell_type": "markdown",
   "metadata": {},
   "source": [
    "Let's write a regex for capture digits followed by the word day and save in a list."
   ]
  },
  {
   "cell_type": "code",
   "execution_count": null,
   "metadata": {},
   "outputs": [],
   "source": [
    "incubation_time = []\n",
    "texts = incubation['full_text'].values\n",
    "\n",
    "for text in texts:\n",
    "    for sentence in text.split(\". \"):\n",
    "        if \"incubation\" in sentence:\n",
    "            single_day = re.findall(r'( \\d{1,2}(\\.\\d{1,2})? day[s]?)', sentence)\n",
    "            \n",
    "            if len(single_day) == 1:\n",
    "                num = single_day[0][0].split(\" \")\n",
    "                incubation_time.append(float(num[1]))"
   ]
  },
  {
   "cell_type": "code",
   "execution_count": null,
   "metadata": {
    "scrolled": true
   },
   "outputs": [],
   "source": [
    "print(len(incubation_time))\n",
    "print(incubation_time, end=' ')"
   ]
  },
  {
   "cell_type": "markdown",
   "metadata": {},
   "source": [
    "I'm assuming that values over 30 are outliers so I'm gonna remove them."
   ]
  },
  {
   "cell_type": "code",
   "execution_count": null,
   "metadata": {},
   "outputs": [],
   "source": [
    "inc_time = [i for i in incubation_time if i < 30]"
   ]
  },
  {
   "cell_type": "code",
   "execution_count": null,
   "metadata": {},
   "outputs": [],
   "source": [
    "df_inc = pd.DataFrame(inc_time, columns=['Incubation days'])\n",
    "df_inc.head()"
   ]
  },
  {
   "cell_type": "code",
   "execution_count": null,
   "metadata": {},
   "outputs": [],
   "source": [
    "df_inc.describe()"
   ]
  },
  {
   "cell_type": "markdown",
   "metadata": {},
   "source": [
    "### The mean of the non commercial articles for the incubation days is 9 days."
   ]
  },
  {
   "cell_type": "code",
   "execution_count": null,
   "metadata": {
    "scrolled": false
   },
   "outputs": [],
   "source": [
    "plt.figure(figsize=(20,10))\n",
    "plt.hist(inc_time)\n",
    "plt.title('Incubatione time', fontsize=24)\n",
    "plt.ylabel('Bin counts', fontsize=20)\n",
    "plt.xlabel('Days', fontsize=20);"
   ]
  },
  {
   "cell_type": "markdown",
   "metadata": {},
   "source": [
    "# Preprocessing the Data"
   ]
  },
  {
   "cell_type": "markdown",
   "metadata": {},
   "source": [
    "# Stopword and punctualization"
   ]
  },
  {
   "cell_type": "code",
   "execution_count": null,
   "metadata": {},
   "outputs": [],
   "source": [
    "# Get all the stop words in the English language\n",
    "stopwords_list = stopwords.words('english')\n",
    "stopwords_list = stopwords_list + ['the', 'a', 'in', 'al', 'c', 'et','e', 'study', 'virus', 'b','p', \n",
    "                      'using', 'also', 'infection', 'cell', 'h', 'n', 'protein']"
   ]
  },
  {
   "cell_type": "code",
   "execution_count": null,
   "metadata": {},
   "outputs": [],
   "source": [
    "# Now we have a list that includes all english stopwords, as well as all punctuation\n",
    "stopwords_list += list(string.punctuation)"
   ]
  },
  {
   "cell_type": "markdown",
   "metadata": {},
   "source": [
    "# Tokenizing our Data"
   ]
  },
  {
   "cell_type": "code",
   "execution_count": null,
   "metadata": {},
   "outputs": [],
   "source": [
    "def tokenize(text):\n",
    "    joined_text = ' '.join(text)\n",
    "    tokenized_text = word_tokenize(joined_text)\n",
    "    pattern = \"([a-zA-Z]+(?:'[a-z]+)?)\"\n",
    "    text_tokens_raw = nltk.regexp_tokenize(str(tokenized_text), pattern)\n",
    "    stopped_tokens = [w.lower() for w in text_tokens_raw if w not in stopwords_list]\n",
    "    \n",
    "    return stopped_tokens"
   ]
  },
  {
   "cell_type": "code",
   "execution_count": null,
   "metadata": {},
   "outputs": [],
   "source": [
    "full_txt_list = []\n",
    "for x in df_non_comm['full_text']:\n",
    "    full_txt_list.append(x)"
   ]
  },
  {
   "cell_type": "code",
   "execution_count": null,
   "metadata": {},
   "outputs": [],
   "source": [
    "tokenized_full_txt = tokenize(full_txt_list)"
   ]
  },
  {
   "cell_type": "code",
   "execution_count": null,
   "metadata": {
    "scrolled": true
   },
   "outputs": [],
   "source": [
    "tokenized_full_txt[:10]"
   ]
  },
  {
   "cell_type": "markdown",
   "metadata": {},
   "source": [
    "# Count Vectorization."
   ]
  },
  {
   "cell_type": "code",
   "execution_count": null,
   "metadata": {},
   "outputs": [],
   "source": [
    "def count_vectorize(text, vocab=None):\n",
    "    if vocab:\n",
    "        unique_words = vocab\n",
    "    else:\n",
    "        unique_words = list(set(text))\n",
    "    \n",
    "    txt_dict = {i:0 for i in unique_words}\n",
    "    \n",
    "    for word in text:\n",
    "        txt_dict[word] += 1\n",
    "    \n",
    "    return txt_dict"
   ]
  },
  {
   "cell_type": "code",
   "execution_count": null,
   "metadata": {},
   "outputs": [],
   "source": [
    "test_vectorized = count_vectorize(tokenized_full_txt)\n",
    "print(test_vectorized)"
   ]
  },
  {
   "cell_type": "markdown",
   "metadata": {},
   "source": [
    "# Get the 50 most common words "
   ]
  },
  {
   "cell_type": "code",
   "execution_count": null,
   "metadata": {
    "scrolled": false
   },
   "outputs": [],
   "source": [
    "freqdist = FreqDist(tokenized_full_txt)\n",
    "\n",
    "# get the 50 most common words \n",
    "most_common = freqdist.most_common(50)\n",
    "print(most_common[:20], end = ' ')"
   ]
  },
  {
   "cell_type": "code",
   "execution_count": null,
   "metadata": {},
   "outputs": [],
   "source": [
    "num_to_show = 30\n",
    "\n",
    "labels = [\" \".join(e[0]) for e in freqdist.most_common(num_to_show)]\n",
    "values = [e[1] for e in freqdist.most_common(num_to_show)]\n",
    "\n",
    "indexes = np.arange(len(labels))\n",
    "width = 1\n",
    "plt.figure(figsize=(20,10))\n",
    "plt.barh(indexes, values, width)\n",
    "plt.yticks(indexes + width * 0.2, labels, fontsize=20)\n",
    "plt.show()"
   ]
  },
  {
   "cell_type": "markdown",
   "metadata": {},
   "source": [
    "# Normalized Word Frequency"
   ]
  },
  {
   "cell_type": "code",
   "execution_count": null,
   "metadata": {},
   "outputs": [],
   "source": [
    "total_word_count = sum(freqdist.values())\n",
    "titles_top_200 = freqdist.most_common(200)\n",
    "print('Word\\t\\t\\tNormalized Frequency')\n",
    "for word in titles_top_200:\n",
    "    normalized_frequency = word[1] / total_word_count\n",
    "    print('{} \\t\\t\\t {:.4}'.format(word[0], normalized_frequency))"
   ]
  },
  {
   "cell_type": "markdown",
   "metadata": {},
   "source": [
    "# Bigrams"
   ]
  },
  {
   "cell_type": "code",
   "execution_count": null,
   "metadata": {},
   "outputs": [],
   "source": [
    "bigram_measures = nltk.collocations.BigramAssocMeasures()\n",
    "title_finder = BigramCollocationFinder.from_words(tokenized_full_txt)\n",
    "title_scored = title_finder.score_ngrams(bigram_measures.raw_freq)\n",
    "title_scored[:50]"
   ]
  },
  {
   "cell_type": "markdown",
   "metadata": {},
   "source": [
    "# Pointwise Mutual Information"
   ]
  },
  {
   "cell_type": "code",
   "execution_count": null,
   "metadata": {
    "scrolled": true
   },
   "outputs": [],
   "source": [
    "title_finder.apply_freq_filter(5)\n",
    "title_pmi_scored = title_finder.score_ngrams(bigram_measures.pmi)\n",
    "title_pmi_scored"
   ]
  },
  {
   "cell_type": "markdown",
   "metadata": {},
   "source": [
    "# TF-IDF Vectorization"
   ]
  },
  {
   "cell_type": "markdown",
   "metadata": {},
   "source": [
    "If the word is used often in many other documents, it is not unique, and therefore probably not too useful if we wanted to figure out how this document is unique in relation to other documents. Conversely, if a word is used many times in a document, but rarely in all the other documents we are considering, then it is likely a good indicator for telling us that this word is important to the document in question."
   ]
  },
  {
   "cell_type": "markdown",
   "metadata": {},
   "source": [
    "# TF"
   ]
  },
  {
   "cell_type": "code",
   "execution_count": null,
   "metadata": {},
   "outputs": [],
   "source": [
    "def term_frequency(BoW_dict):\n",
    "    total_word_count = sum(BoW_dict.values())\n",
    "    \n",
    "    for ind, val in BoW_dict.items():\n",
    "        BoW_dict[ind] = val/ total_word_count\n",
    "    \n",
    "    return BoW_dict"
   ]
  },
  {
   "cell_type": "code",
   "execution_count": null,
   "metadata": {},
   "outputs": [],
   "source": [
    "test = term_frequency(test_vectorized)\n",
    "print(list(test)[:20])"
   ]
  },
  {
   "cell_type": "markdown",
   "metadata": {},
   "source": [
    "# IDF"
   ]
  },
  {
   "cell_type": "code",
   "execution_count": null,
   "metadata": {},
   "outputs": [],
   "source": [
    "def inverse_document_frequency(list_of_dicts):\n",
    "    vocab_set = set()\n",
    "    \n",
    "    # Iterate through list of dfs and add index to vocab_set\n",
    "    for d in list_of_dicts:\n",
    "        for word in d.keys():\n",
    "            vocab_set.add(word)\n",
    "    \n",
    "    # Once vocab set is complete, create an empty dictionary with a key for each word and value of 0.\n",
    "    full_vocab_dict = {i:0 for i in vocab_set}\n",
    "    \n",
    "    # Loop through each word in full_vocab_dict\n",
    "    for word, val in full_vocab_dict.items():\n",
    "        docs = 0\n",
    "        \n",
    "        # Loop through list of dicts.  Each time a dictionary contains the word, increment docs by 1\n",
    "        for d in list_of_dicts:\n",
    "            if word in d:\n",
    "                docs += 1\n",
    "        \n",
    "        # Now that we know denominator for equation, compute and set IDF value for word\n",
    "        \n",
    "        full_vocab_dict[word] = np.log((len(list_of_dicts)/ float(docs)))\n",
    "    \n",
    "    return full_vocab_dict"
   ]
  },
  {
   "cell_type": "markdown",
   "metadata": {},
   "source": [
    "# Computing TF-IDF"
   ]
  },
  {
   "cell_type": "code",
   "execution_count": null,
   "metadata": {},
   "outputs": [],
   "source": [
    "def tf_idf(list_of_dicts):\n",
    "    # Create empty dictionary containing full vocabulary of entire corpus\n",
    "    doc_tf_idf = {}\n",
    "    idf = inverse_document_frequency(list_of_dicts)\n",
    "    full_vocab_list = {i:0 for i in list(idf.keys())}\n",
    "    \n",
    "    # Create tf-idf list of dictionaries, containing a dictionary that will be updated for each document\n",
    "    tf_idf_list_of_dicts = []\n",
    "    \n",
    "    # Now, compute tf and then use this to compute and set tf-idf values for each document\n",
    "    for doc in list_of_dicts:\n",
    "        doc_tf = term_frequency(doc)\n",
    "        for word in doc_tf:\n",
    "            doc_tf_idf[word] = doc_tf[word] * idf[word]\n",
    "        tf_idf_list_of_dicts.append(doc_tf_idf)\n",
    "    \n",
    "    return tf_idf_list_of_dicts"
   ]
  },
  {
   "cell_type": "markdown",
   "metadata": {},
   "source": [
    "# Vectorizing All Documents"
   ]
  },
  {
   "cell_type": "code",
   "execution_count": null,
   "metadata": {},
   "outputs": [],
   "source": [
    "count_vectorized_all_documents = []\n",
    "count_vectorized_all_documents.append(test_vectorized)"
   ]
  },
  {
   "cell_type": "code",
   "execution_count": null,
   "metadata": {},
   "outputs": [],
   "source": [
    "tf_idf_all_docs = tf_idf(count_vectorized_all_documents)\n",
    "print(list(tf_idf_all_docs[0])[:20])"
   ]
  },
  {
   "cell_type": "code",
   "execution_count": null,
   "metadata": {},
   "outputs": [],
   "source": [
    "num_dims = len(tf_idf_all_docs[0])\n",
    "print(\"Number of Dimensions: {}\".format(num_dims))"
   ]
  },
  {
   "cell_type": "markdown",
   "metadata": {},
   "source": [
    "# Sentiment analysis title sentences"
   ]
  },
  {
   "cell_type": "code",
   "execution_count": null,
   "metadata": {},
   "outputs": [],
   "source": [
    "title_list = []\n",
    "for x in df_non_comm['title']:\n",
    "    title_list.append(x)"
   ]
  },
  {
   "cell_type": "code",
   "execution_count": null,
   "metadata": {},
   "outputs": [],
   "source": [
    "nltk.download('vader_lexicon')"
   ]
  },
  {
   "cell_type": "code",
   "execution_count": null,
   "metadata": {},
   "outputs": [],
   "source": [
    "sid = SentimentIntensityAnalyzer()"
   ]
  },
  {
   "cell_type": "code",
   "execution_count": null,
   "metadata": {
    "scrolled": true
   },
   "outputs": [],
   "source": [
    "compound_list = []\n",
    "for x in title_list:\n",
    "    ss = sid.polarity_scores(x)\n",
    "    compound_list.append(ss['compound'])"
   ]
  },
  {
   "cell_type": "code",
   "execution_count": null,
   "metadata": {},
   "outputs": [],
   "source": [
    "compound_list"
   ]
  },
  {
   "cell_type": "code",
   "execution_count": null,
   "metadata": {},
   "outputs": [],
   "source": [
    "df_title_compound = pd.DataFrame(title_list,columns=['title'])\n",
    "df_title_compound.head()"
   ]
  },
  {
   "cell_type": "code",
   "execution_count": null,
   "metadata": {},
   "outputs": [],
   "source": [
    "df_title_compound['compound'] = compound_list\n",
    "df_title_compound.head()"
   ]
  },
  {
   "cell_type": "code",
   "execution_count": null,
   "metadata": {},
   "outputs": [],
   "source": [
    "df_title_compound['compound'].describe()"
   ]
  },
  {
   "cell_type": "code",
   "execution_count": null,
   "metadata": {},
   "outputs": [],
   "source": [
    "df_title_compound.isnull().any()"
   ]
  },
  {
   "cell_type": "code",
   "execution_count": null,
   "metadata": {},
   "outputs": [],
   "source": [
    "target_list = []\n",
    "for x in df_title_compound['compound']:\n",
    "    if x < -.25:\n",
    "        target_list.append(-1)\n",
    "    elif x > .25:\n",
    "        target_list.append(1)\n",
    "    else: \n",
    "        target_list.append(0)"
   ]
  },
  {
   "cell_type": "code",
   "execution_count": null,
   "metadata": {},
   "outputs": [],
   "source": [
    "df_title_compound['target'] = target_list\n",
    "df_title_compound.head(20)"
   ]
  },
  {
   "cell_type": "code",
   "execution_count": null,
   "metadata": {},
   "outputs": [],
   "source": [
    "import seaborn as sns"
   ]
  },
  {
   "cell_type": "code",
   "execution_count": null,
   "metadata": {},
   "outputs": [],
   "source": [
    "sns.distplot(compound_list);"
   ]
  },
  {
   "cell_type": "markdown",
   "metadata": {},
   "source": [
    "# word_cloud"
   ]
  },
  {
   "cell_type": "code",
   "execution_count": null,
   "metadata": {},
   "outputs": [],
   "source": [
    "neg_title = df_title_compound[df_title_compound['target'] == -1]\n",
    "neg_title.head()"
   ]
  },
  {
   "cell_type": "code",
   "execution_count": null,
   "metadata": {},
   "outputs": [],
   "source": [
    "neg_string = []\n",
    "for t in neg_title['title']:\n",
    "    neg_string.append(t)\n",
    "neg_string"
   ]
  },
  {
   "cell_type": "markdown",
   "metadata": {},
   "source": [
    "# Negative sentiment"
   ]
  },
  {
   "cell_type": "code",
   "execution_count": null,
   "metadata": {},
   "outputs": [],
   "source": [
    "neg_title = df_title_compound[df_title_compound['target'] == -1]\n",
    "neg_string = []\n",
    "for t in neg_title['title']:\n",
    "    neg_string.append(t)\n",
    "neg_string = pd.Series(neg_string).str.cat(sep=' ')\n",
    "\n",
    "wordcloud = WordCloud(width=1600, height=800,max_font_size=200,colormap='magma').generate(neg_string)\n",
    "plt.figure(figsize=(12,10))\n",
    "plt.imshow(wordcloud, interpolation=\"bilinear\")\n",
    "plt.axis(\"off\")\n",
    "plt.show()"
   ]
  },
  {
   "cell_type": "markdown",
   "metadata": {},
   "source": [
    "# Positive sentiment"
   ]
  },
  {
   "cell_type": "code",
   "execution_count": null,
   "metadata": {},
   "outputs": [],
   "source": [
    "pos_title = df_title_compound[df_title_compound['target'] == 1]\n",
    "pos_string = []\n",
    "for t in pos_title['title']:\n",
    "    pos_string.append(t)\n",
    "pos_string = pd.Series(pos_string).str.cat(sep=' ')\n",
    "\n",
    "wordcloud = WordCloud(width=1600, height=800,max_font_size=200).generate(pos_string)\n",
    "plt.figure(figsize=(12,10))\n",
    "plt.imshow(wordcloud, interpolation=\"bilinear\")\n",
    "plt.axis(\"off\")\n",
    "plt.show()"
   ]
  },
  {
   "cell_type": "markdown",
   "metadata": {},
   "source": [
    "# Neutral sentiment"
   ]
  },
  {
   "cell_type": "code",
   "execution_count": null,
   "metadata": {},
   "outputs": [],
   "source": [
    "neut_title = df_title_compound[df_title_compound['target'] == 0]\n",
    "neut_string = []\n",
    "for t in neut_title['title']:\n",
    "    neut_string.append(t)\n",
    "neut_string = pd.Series(neut_string).str.cat(sep=' ')\n",
    "\n",
    "wordcloud = WordCloud(width=1600, height=800,max_font_size=200).generate(neut_string)\n",
    "plt.figure(figsize=(12,10))\n",
    "plt.imshow(wordcloud, interpolation=\"bilinear\")\n",
    "plt.axis(\"off\")\n",
    "plt.show()"
   ]
  },
  {
   "cell_type": "markdown",
   "metadata": {},
   "source": [
    "# Sentiment analysis words"
   ]
  },
  {
   "cell_type": "code",
   "execution_count": null,
   "metadata": {},
   "outputs": [],
   "source": [
    "sid = SentimentIntensityAnalyzer()"
   ]
  },
  {
   "cell_type": "code",
   "execution_count": null,
   "metadata": {},
   "outputs": [],
   "source": [
    "list_x = []\n",
    "for x in most_common:\n",
    "    print(x[0])"
   ]
  },
  {
   "cell_type": "code",
   "execution_count": null,
   "metadata": {},
   "outputs": [],
   "source": [
    "comp_word_list = []\n",
    "for x in most_common:\n",
    "    ss = sid.polarity_scores(x[0])\n",
    "    comp_word_list.append(ss['compound'])"
   ]
  },
  {
   "cell_type": "code",
   "execution_count": null,
   "metadata": {},
   "outputs": [],
   "source": [
    "comp_word_list"
   ]
  },
  {
   "cell_type": "markdown",
   "metadata": {},
   "source": [
    "# What is known about transmission?"
   ]
  },
  {
   "cell_type": "code",
   "execution_count": null,
   "metadata": {},
   "outputs": [],
   "source": [
    "df = pd.DataFrame(full_txt_list, columns=['full_text'])\n",
    "df.head(20)"
   ]
  },
  {
   "cell_type": "code",
   "execution_count": null,
   "metadata": {},
   "outputs": [],
   "source": [
    "transmission = df[df['full_text'].str.contains('transmission')]\n",
    "len(transmission)"
   ]
  },
  {
   "cell_type": "code",
   "execution_count": null,
   "metadata": {},
   "outputs": [],
   "source": [
    "transm_text = transmission.full_text.values"
   ]
  },
  {
   "cell_type": "code",
   "execution_count": null,
   "metadata": {},
   "outputs": [],
   "source": [
    "transm_list = []\n",
    "for t in transm_text:\n",
    "    if 'transmission' in t:\n",
    "        transm_list.append(t)"
   ]
  },
  {
   "cell_type": "code",
   "execution_count": null,
   "metadata": {},
   "outputs": [],
   "source": [
    "for t in transm_text:\n",
    "    if 'transmission' in t:\n",
    "        transm_list.append(t)"
   ]
  },
  {
   "cell_type": "markdown",
   "metadata": {},
   "source": [
    "# NLP-architect"
   ]
  },
  {
   "cell_type": "code",
   "execution_count": null,
   "metadata": {},
   "outputs": [],
   "source": []
  }
 ],
 "metadata": {
  "kernelspec": {
   "display_name": "Python [conda env:learn-env] *",
   "language": "python",
   "name": "conda-env-learn-env-py"
  },
  "language_info": {
   "codemirror_mode": {
    "name": "ipython",
    "version": 3
   },
   "file_extension": ".py",
   "mimetype": "text/x-python",
   "name": "python",
   "nbconvert_exporter": "python",
   "pygments_lexer": "ipython3",
   "version": "3.6.6"
  }
 },
 "nbformat": 4,
 "nbformat_minor": 2
}
