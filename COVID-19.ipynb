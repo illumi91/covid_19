{
 "cells": [
  {
   "cell_type": "markdown",
   "metadata": {},
   "source": [
    "# Sentiment analysis COVID-19 scholar's articles"
   ]
  },
  {
   "cell_type": "markdown",
   "metadata": {},
   "source": [
    "# Imports"
   ]
  },
  {
   "cell_type": "code",
   "execution_count": 15,
   "metadata": {},
   "outputs": [],
   "source": [
    "import os\n",
    "import json\n",
    "import pandas as pd\n",
    "import numpy as np\n",
    "from mpl_toolkits.mplot3d import Axes3D\n",
    "import matplotlib.pyplot as plt\n",
    "from matplotlib import style\n",
    "style.use('ggplot')\n",
    "%matplotlib inline\n",
    "import nltk\n",
    "from nltk.tokenize import word_tokenize\n",
    "from nltk.corpus import stopwords\n",
    "from  nltk import FreqDist\n",
    "from nltk.stem.wordnet import WordNetLemmatizer\n",
    "from nltk.collocations import *\n",
    "import re\n",
    "import string\n",
    "from sklearn.feature_extraction.text import CountVectorizer\n",
    "from sklearn.feature_extraction.text import TfidfVectorizer\n",
    "from nltk.sentiment.vader import SentimentIntensityAnalyzer\n",
    "from wordcloud import WordCloud\n",
    "from statsmodels.tsa.arima_model import ARIMA\n",
    "import pmdarima as pm\n",
    "import warnings\n",
    "warnings.filterwarnings('ignore')\n",
    "style.use('ggplot')\n",
    "np.random.seed(0)"
   ]
  },
  {
   "cell_type": "markdown",
   "metadata": {},
   "source": [
    "# Keras imports"
   ]
  },
  {
   "cell_type": "code",
   "execution_count": 16,
   "metadata": {},
   "outputs": [],
   "source": [
    "import numpy\n",
    "from keras.models import Sequential\n",
    "from keras.layers import Dense\n",
    "from keras.layers import Dropout\n",
    "from keras.layers import LSTM\n",
    "from keras.callbacks import ModelCheckpoint\n",
    "from keras.utils import np_utils\n",
    "import sys"
   ]
  },
  {
   "cell_type": "code",
   "execution_count": 17,
   "metadata": {
    "scrolled": true
   },
   "outputs": [
    {
     "name": "stdout",
     "output_type": "stream",
     "text": [
      " Volume in drive C is OS\n",
      " Volume Serial Number is D816-28B0\n",
      "\n",
      " Directory of C:\\Users\\luigi\\FlatironSchool\\personal_project\n",
      "\n",
      "17/04/2020  12:40    <DIR>          .\n",
      "17/04/2020  12:40    <DIR>          ..\n",
      "23/03/2020  14:33    <DIR>          .ipynb_checkpoints\n",
      "23/03/2020  14:30    <DIR>          biorxiv_medrxiv\n",
      "23/03/2020  14:13    <DIR>          comm_use_subset\n",
      "21/03/2020  00:32            26,690 COVID.DATA.LIC.AGMT.pdf\n",
      "17/04/2020  12:39            49,035 COVID-19.ipynb\n",
      "23/03/2020  14:13    <DIR>          custom_license\n",
      "21/03/2020  00:37             2,906 json_schema.txt\n",
      "21/03/2020  00:37             1,574 metadata.readme\n",
      "23/03/2020  14:14    <DIR>          noncomm_use_subset\n",
      "17/04/2020  12:01        29,968,612 weights-improvement-01-9.0828.hdf5\n",
      "17/04/2020  12:21        29,968,884 weights-improvement-20-5.2272.hdf5\n",
      "               6 File(s)     60,017,701 bytes\n",
      "               7 Dir(s)  12,534,362,112 bytes free\n"
     ]
    }
   ],
   "source": [
    "ls"
   ]
  },
  {
   "cell_type": "markdown",
   "metadata": {},
   "source": [
    "# See documents README"
   ]
  },
  {
   "cell_type": "code",
   "execution_count": 18,
   "metadata": {},
   "outputs": [
    {
     "name": "stdout",
     "output_type": "stream",
     "text": [
      "(1) Metadata for papers from these sources are combined: CZI, PMC, BioRxiv/MedRxiv. (total records 29500)\n",
      "\t- CZI 1236 records\n",
      "\t- PMC 27337\n",
      "\t- bioRxiv 566\n",
      "\t- medRxiv 361\n",
      "(2) 17K of the paper records have PDFs and the hash of the PDFs are in 'sha'\n",
      "(3) For PMC sourced papers, one paper's metadata can be associated with one or more PDFs/shas under that paper - a PDF/sha correponding to the main article, and possibly additional PDF/shas corresponding to supporting materials for the article.\n",
      "(4)\t13K of the PDFs were processed with fulltext ('has_full_text'=True)\n",
      "(5) Various 'keys' are populated with the metadata:\n",
      "\t- 'pmcid': populated for all PMC paper records (27337 non null)\n",
      "\t- 'doi': populated for all BioRxiv/MedRxiv paper records and most of the other records (26357 non null)\n",
      "\t- 'WHO #Covidence': populated for all CZI records and none of the other records (1236 non null)\n",
      "\t- 'pubmed_id': populated for some of the records\n",
      "\t- 'Microsoft Academic Paper ID': populated for some of the records\n",
      "\n",
      "2020-03-20\n",
      "---CHANGES---\n",
      "* normalized doi, authors, title, abstract strings\n",
      "* merged redundant rows in metadata file on doi, pmcid, and pubmed_id\n",
      "* metadata sha column can now include multiple files (some PMC files have multiple associated PDFs)\n",
      "* added column in metadata file \"full_text_file\" to signal the tar.gz file in which the full text json resides\n",
      "---SUMMARY---\n",
      "total metadata rows: 44220\n",
      "custom_license: 16959 full text (new: 15533)\n",
      "noncomm_use_subset: 2353 full text (new: 385)\n",
      "comm_use_subset: 9118 full text (new: 128)\n",
      "biorxiv_medrxiv: 885 full text (new: 110)\n"
     ]
    }
   ],
   "source": [
    "with open('metadata.readme', 'r') as f:\n",
    "    data = f.read()\n",
    "    print(data)"
   ]
  },
  {
   "cell_type": "markdown",
   "metadata": {},
   "source": [
    "# Text generation with LSTM Recurrent Neural Network"
   ]
  },
  {
   "cell_type": "code",
   "execution_count": 19,
   "metadata": {},
   "outputs": [],
   "source": [
    "directory = ['comm_use_subset']"
   ]
  },
  {
   "cell_type": "code",
   "execution_count": 20,
   "metadata": {},
   "outputs": [],
   "source": [
    "#documents= []\n",
    "#for d in directory:\n",
    "#        for index, file in enumerate(os.listdir(f\"{d}/{d}\")):\n",
    "#            file_path = f\"{d}/{d}/{file}\"\n",
    "#            j = json.load(open(file_path, 'rb'))\n",
    "#            for x, y in j['bib_entries'].items():\n",
    "#                title = y['title']\n",
    "#                \n",
    "#                documents.append(title.lower())"
   ]
  },
  {
   "cell_type": "code",
   "execution_count": 21,
   "metadata": {},
   "outputs": [],
   "source": [
    "documents = []\n",
    "for d in directory:\n",
    "    for index, file in enumerate(os.listdir(f\"{d}/{d}\")):\n",
    "        file_path = f\"{d}/{d}/{file}\"\n",
    "        j = json.load(open(file_path, 'rb'))\n",
    "\n",
    "        title = j['metadata']['title']\n",
    "\n",
    "        documents.append(title.lower())"
   ]
  },
  {
   "cell_type": "markdown",
   "metadata": {},
   "source": [
    "### Create a set of all of the distinct characters in the book, then create a map of each character to a unique integer"
   ]
  },
  {
   "cell_type": "code",
   "execution_count": 22,
   "metadata": {},
   "outputs": [],
   "source": [
    "# create mapping of unique chars to integers\n",
    "chars = sorted(list(set(documents)))\n",
    "char_to_int = dict((c, i) for i, c in enumerate(chars))"
   ]
  },
  {
   "cell_type": "code",
   "execution_count": 23,
   "metadata": {},
   "outputs": [
    {
     "name": "stdout",
     "output_type": "stream",
     "text": [
      "Total Characters:  9118\n",
      "Total Vocab:  8681\n"
     ]
    }
   ],
   "source": [
    "n_chars = len(documents)\n",
    "n_vocab = len(chars)\n",
    "print(\"Total Characters: \", n_chars)\n",
    "print(\"Total Vocab: \", n_vocab)"
   ]
  },
  {
   "cell_type": "code",
   "execution_count": 24,
   "metadata": {},
   "outputs": [
    {
     "name": "stdout",
     "output_type": "stream",
     "text": [
      "Total Patterns:  9018\n"
     ]
    }
   ],
   "source": [
    "# prepare the dataset of input to output pairs encoded as integers\n",
    "seq_length = 100\n",
    "dataX = []\n",
    "dataY = []\n",
    "for i in range(0, n_chars - seq_length, 1):\n",
    "    seq_in = documents[i:i + seq_length]\n",
    "    seq_out = documents[i + seq_length]\n",
    "    dataX.append([char_to_int[char] for char in seq_in])\n",
    "    dataY.append(char_to_int[seq_out])\n",
    "n_patterns = len(dataX)\n",
    "print(\"Total Patterns: \", n_patterns)"
   ]
  },
  {
   "cell_type": "code",
   "execution_count": 25,
   "metadata": {},
   "outputs": [],
   "source": [
    "# reshape X to be [samples, time steps, features]\n",
    "X = numpy.reshape(dataX, (n_patterns, seq_length, 1))\n",
    "# normalize\n",
    "X = X / float(n_vocab)\n",
    "# one hot encode the output variable\n",
    "y = np_utils.to_categorical(dataY)"
   ]
  },
  {
   "cell_type": "code",
   "execution_count": 46,
   "metadata": {},
   "outputs": [
    {
     "name": "stdout",
     "output_type": "stream",
     "text": [
      "[8352, 6067, 8278, 4713, 3113, 3408, 7750, 1527, 5023, 7345, 6213, 7241, 455, 386, 2900, 2776, 1128, 4547, 8061, 2543, 2886, 6531, 6262, 7936, 5948, 3798, 4459, 256, 8662, 324, 7646, 1709, 532, 3263, 6440, 3694, 7073, 3188, 7647, 5878, 1151, 3366, 6011, 2872, 5504, 4397, 7974, 1052, 5534, 2865, 0, 334, 5015, 2511, 7881, 344, 113, 8388, 913, 1697, 5624, 7779, 5808, 7622, 4172, 6451, 3935, 1670, 4498, 4420, 3648, 2521, 3093, 0, 6904, 3422, 6672, 5658, 1343, 5363, 6936, 3451, 4351, 8539, 1234, 1025, 75, 7822, 6168, 6028, 6758, 8151, 2055, 7486, 6200, 1426, 1971, 7648, 212, 5649]\n"
     ]
    }
   ],
   "source": [
    "print(dataX[1])"
   ]
  },
  {
   "cell_type": "code",
   "execution_count": 55,
   "metadata": {},
   "outputs": [],
   "source": [
    "# define the LSTM model\n",
    "model = Sequential()\n",
    "model.add(LSTM(256, input_shape=(X.shape[1], X.shape[2])))\n",
    "model.add(Dropout(0.2))\n",
    "model.add(Dense(y.shape[1], activation='softmax'))\n",
    "model.compile(loss='categorical_crossentropy', optimizer='adam')"
   ]
  },
  {
   "cell_type": "code",
   "execution_count": 56,
   "metadata": {},
   "outputs": [],
   "source": [
    "# define the checkpoint\n",
    "filepath=\"weights-improvement-{epoch:02d}-{loss:.4f}.hdf5\"\n",
    "checkpoint = ModelCheckpoint(\"models/{}.model\".format(filepath, monitor='loss', verbose=1, save_best_only=True, mode='min'))\n",
    "callbacks_list = [checkpoint]"
   ]
  },
  {
   "cell_type": "code",
   "execution_count": 29,
   "metadata": {},
   "outputs": [
    {
     "name": "stdout",
     "output_type": "stream",
     "text": [
      "Epoch 1/20\n",
      "9018/9018 [==============================] - 23s 3ms/step - loss: 9.0705\n",
      "Epoch 2/20\n",
      "9018/9018 [==============================] - 24s 3ms/step - loss: 9.0611\n",
      "Epoch 3/20\n",
      "9018/9018 [==============================] - 26s 3ms/step - loss: 9.0526\n",
      "Epoch 4/20\n",
      "9018/9018 [==============================] - 27s 3ms/step - loss: 9.0214\n",
      "Epoch 5/20\n",
      "9018/9018 [==============================] - 27s 3ms/step - loss: 8.9593\n",
      "Epoch 6/20\n",
      "9018/9018 [==============================] - 28s 3ms/step - loss: 8.8496\n",
      "Epoch 7/20\n",
      "9018/9018 [==============================] - 27s 3ms/step - loss: 8.7551\n",
      "Epoch 8/20\n",
      "9018/9018 [==============================] - 26s 3ms/step - loss: 8.5076\n",
      "Epoch 9/20\n",
      "9018/9018 [==============================] - 26s 3ms/step - loss: 8.1644\n",
      "Epoch 10/20\n",
      "9018/9018 [==============================] - 26s 3ms/step - loss: 7.7269\n",
      "Epoch 11/20\n",
      "9018/9018 [==============================] - 26s 3ms/step - loss: 7.1374\n",
      "Epoch 12/20\n",
      "9018/9018 [==============================] - 27s 3ms/step - loss: 6.4719\n",
      "Epoch 13/20\n",
      "9018/9018 [==============================] - 28s 3ms/step - loss: 5.7904\n",
      "Epoch 14/20\n",
      "9018/9018 [==============================] - 28s 3ms/step - loss: 5.1305\n",
      "Epoch 15/20\n",
      "9018/9018 [==============================] - 28s 3ms/step - loss: 4.4677\n",
      "Epoch 16/20\n",
      "9018/9018 [==============================] - 27s 3ms/step - loss: 3.8971\n",
      "Epoch 17/20\n",
      "9018/9018 [==============================] - 28s 3ms/step - loss: 3.3378\n",
      "Epoch 18/20\n",
      "9018/9018 [==============================] - 27s 3ms/step - loss: 2.8615\n",
      "Epoch 19/20\n",
      "9018/9018 [==============================] - 28s 3ms/step - loss: 2.4126\n",
      "Epoch 20/20\n",
      "9018/9018 [==============================] - 26s 3ms/step - loss: 2.0017\n"
     ]
    },
    {
     "data": {
      "text/plain": [
       "<keras.callbacks.History at 0x2ba6a6f5fd0>"
      ]
     },
     "execution_count": 29,
     "metadata": {},
     "output_type": "execute_result"
    }
   ],
   "source": [
    "model.fit(X, y, epochs=20, batch_size=128, callbacks=callbacks_list)"
   ]
  },
  {
   "cell_type": "code",
   "execution_count": 30,
   "metadata": {},
   "outputs": [],
   "source": [
    "# load the network weights\n",
    "filename = \"weights-improvement-20-5.2272.hdf5\"\n",
    "model.load_weights(filename)\n",
    "model.compile(loss='categorical_crossentropy', optimizer='adam')"
   ]
  },
  {
   "cell_type": "code",
   "execution_count": 31,
   "metadata": {},
   "outputs": [],
   "source": [
    "int_to_char = dict((i, c) for i, c in enumerate(chars))"
   ]
  },
  {
   "cell_type": "code",
   "execution_count": 47,
   "metadata": {},
   "outputs": [
    {
     "name": "stdout",
     "output_type": "stream",
     "text": [
      "Seed:\n",
      "\" A permanent host shift of rabies virus from Chiroptera to Carnivora associated with recombination OPENMolecular Sciences Therapeutic Applications of Rose Hips from Different Rosa SpeciesBMC Bioinformatics An effective docking strategy for virtual screening based on multi-objective optimization algorithmA mechanistic spatio-temporal framework for modelling individual-to-individual transmission-With an application to the 2014-2015 West Africa Ebola outbreakRespiratory Viral Infection-Induced Microbiome Alterations and Secondary Bacterial PneumoniaFeline Infectious Peritonitis Virus Nsp5 Inhibits Type I Interferon Production by Cleaving NEMO at Multiple SitesTargeted Collection of Plasmid DNA in Large and Growing Animal Muscles 6 Weeks after DNA Vaccination with and without ElectroporationSupporting Information: Demographic and environmental drivers of metagenomic viral diversity in vampire batsThe Role of Chemokines during Viral Infection of the CNSMethanolic Extract of Rhizoma Coptidis Inhibits the Early Viral Entry Steps of Hepatitis C Virus InfectionSocial determinants of health in Canada: Are healthy living initiatives there yet? A policy analysisPathogenicity and immunogenicity of attenuated porcine epidemic diarrhea virus PC22A strain in conventional weaned pigsThe Oakville Oil Refinery Closure and Its Influence on Local Hospitalizations: A Natural Experiment on Sulfur DioxideHealthcare workers' willingness to work during an influenza pandemic: a systematic review and meta-analysisA Novel Approach to Clustering Genome Sequences Using Inter-nucleotide CovarianceHuman virome in nasopharynx and tracheal secretion samplesEvolutionary Responses to a Constructed Niche: Ancient Mesoamericans as a Model of Gene-Culture CoevolutionEvidence of Recombination and Genetic Diversity in Human Rhinoviruses in Children with Acute Respiratory InfectionKingdom of Saudi Arabia, 2 King Abdullah International Medical Research CentreDNA Aptamers in the Diagnosis and Treatment of Human DiseasesPrediction of RNA Pseudoknots Using Heuristic Modeling with Mapping and Sequential FoldingOpen Access RESEARCH Proteomic analysis of purified coronavirus infectious bronchitis virus particlesClinical Infectious Diseases Clinical Infectious Diseases ® 2017;64(S3):S337-46 Is Higher Viral Load in the Upper Respiratory Tract Associated With Severe Pneumonia? Findings From the PERCH StudySpatial expansions and travelling waves of rabies in vampire batsUnifying Viral Genetics and Human Transportation Data to Predict the Global Transmission Dynamics of Human Influenza H3N2The costs of preventing the spread of respiratory infection in family physician offices: a threshold analysisAntiviral activity of interleukin-11 as a response to porcine epidemic diarrhea virus infectionImmuno-modulating properties of Tulathromycin in porcine monocyte-derived macrophages infected with porcine reproductive and respiratory syndrome virusEvaluation of the efficacy of a trivalent vaccine mixture against a triple challenge with Mycoplasma hyopneumoniae, PCV2, and PRRSV and the efficacy comparison of the respective monovalent vaccines against a single challengeComparison of Infectious Agents Susceptibility to Photocatalytic Effects of Nanosized Titanium and Zinc Oxides: A Practical ApproachThymus transplantation for complete DiGeorge syndrome: European experienceMolecular Sciences The Multifaceted Roles of Autophagy in Flavivirus-Host InteractionsMicrobial Cell Factories Protein secretion in Lactococcus lactis : an efficient way to increase the overall heterologous protein productionContrasting clinical outcomes in two cohorts of cats naturally infected with feline immunodeficiency virus (FIV)Identify-Isolate-Inform: A Tool for Initial Detection and Management of Measles Patients in the Emergency DepartmentComputer-assisted resilience training to prepare healthcare workers for pandemic influenza: a randomized trial of the optimal dose of trainingResponses of Human Endothelial Cells to Pathogenic and Non-Pathogenic Leptospira SpeciesComparing the yield of oropharyngeal swabs and sputum for detection of 11 common pathogens in hospitalized children with lower respiratory tract infection\"A general strategy to inhibiting viral -1 frameshifting based on upstream attenuation duplex formation\"Phylogenetic and recombination analysis of Tobacco bushy top virus in ChinaEpidemiology of respiratory viral infections in people with acute respiratory tract infections in Africa: the VARIAFRICA systematic review and meta-analysis protocolCharacterization of ACE and ACE2 Expression within Different Organs of the NOD MouseBiosynthesis of the active compounds of Isatis indigotica based on transcriptome sequencing and metabolites profilingE3 Ligase ITCH Interacts with the Z Matrix Protein of Lassa and Mopeia Viruses and Is Required for the Release of Infectious ParticlesA Highly Efficient and Simple Construction Strategy for Producing Recombinant Baculovirus Bombyx mori NucleopolyhedrovirusSupporting Material Choindroitinase ABC I-mediated enhancement of oncolytic virus spread and anti tumor efficacy: A mathematical modelAbsence of Middle East respiratory syndrome coronavirus in Bactrian camels in the West Inner Mongolia Autonomous Region of China: surveillance study results from July 2015Characterizing Influenza surveillance systems performance: application of a Bayesian hierarchical statistical model to Hong Kong surveillance dataDecline of transmissible gastroenteritis virus and its complex evolutionary relationship with porcine respiratory coronavirus in the United statesMoving pathogen genomics out of the lab and into the clinic: what will it take?Rapid Identification of Novel Immunodominant Proteins and Characterization of a Specific Linear Epitope of Campylobacter jejuniPress Accidental Chlorine Gas Intoxication: Evaluation of 39 PatientsDiagnosis and treatment of viral diseases in recipients of allogeneic hematopoietic stem cell transplantationA HLA-A2-restricted CTL epitope induces anti-tumor effects against human lung cancer in mouse xenograft modelviruses Communication Arbidol (Umifenovir): A Broad-Spectrum Antiviral Drug That Inhibits Medically Important Arthropod-Borne FlavivirusesCRIspR-mediated activation of endogenous BST-2/tetherin expression inhibits wild-type HIV-1 production OPENViral Respiratory Infections in the Neonatal Intensive Care Unit-A ReviewPerspective Piece Ebola Policies That Hinder Epidemic Response by Limiting Scientific DiscourseHigh Rates of Detection of Respiratory Viruses in Tonsillar Tissues from Children with Chronic Adenotonsillar DiseaseSyrian Hamster as an Animal Model for the Study on Infectious DiseasesAmino Terminal Region of Dengue Virus NS4A Cytosolic Domain Binds to Highly Curved LiposomesA systematic review and evaluation of Zika virus forecasting and prediction research during a public health emergency of international concernNew Tetromycin Derivatives with Anti-Trypanosomal and Protease Inhibitory Activities †Porcine parvovirus infection activates mitochondria-mediated apoptotic signaling pathway by inducing ROS accumulationCryo-EM structure of infectious bronchitis coronavirus spike protein reveals structural and functional evolution of coronavirus spike proteinsAntiviral Role of IFITM Proteins in African Swine Fever Virus InfectionRhodopsin Molecular Evolution in Mammals Inhabiting Low Light EnvironmentsWildlife Trade and Human Health in Lao PDR: An Assessment of the Zoonotic Disease Risk in Marketspathogens Epigenetic Landscape during Coronavirus InfectionWhy do I need it? I am not at risk! Public perceptions towards the pandemic (H1N1) 2009 vaccineA novel group of avian astroviruses from Neotropical passerine birds broaden the diversity and host range of AstroviridaeThe Nucleoprotein and Phosphoprotein of Peste des Petits Ruminants Virus Inhibit Interferons Signaling by Blocking the JAK-STAT PathwayDetection of a novel astrovirus from a black-naped monarch (Hypothymis azurea) in CambodiaThe Role of Human Coronaviruses in Children Hospitalized for Acute Bronchiolitis, Acute Gastroenteritis, and Febrile Seizures: A 2-Year Prospective StudyAdvances in Directly Amplifying Nucleic Acids from Complex SamplesCharacterizing the Transmission Potential of Zoonotic Infections from Minor Outbreakscomparison of respiratory pathogen yields from nasopharyngeal/oropharyngeal swabs and sputum specimens collected from hospitalized adults in rural Western KenyaAnalysis Provide Insight into Lysine Biosynthesis in Toona sinensis RoemWhen could human challenge trials be deployed to combat emerging infectious diseases? Lessons from the case of a Zika virus human challenge trialThe YXXΦ motif within the severe acute respiratory syndrome coronavirus (SARS-CoV) 3a protein is crucial for its intracellular transportA Preliminary Study of Viral Metagenomics of French Bat Species in Contact with Humans: Identification of New Mammalian VirusesCharacterization of Angiotensin-Converting Enzyme 2 Ectodomain Shedding from Mouse Proximal Tubular CellsEpidemiology of Multi-Drug Resistant Organisms in a Teaching Hospital in Oman: A One-Year Hospital-Based StudyPublic health interventions for epidemics: implications for multiple infection wavesMolecular Sciences Pneumonia, Acute Respiratory Distress Syndrome, and Early Immune-Modulator TherapyUnderstanding community perceptions, social norms and current practice related to respiratory infection in Bangladesh during 2009: a qualitative formative studySupplementary ResultsBat Distribution Size or Shape as Determinant of Viral Richness in African BatsIs dengue a threat to the blood supply?Establishment of Viral LatencyPentraxin 3 Detects Clinically Significant Fibrosis in Patients with Chronic Viral Hepatitis CAn ensemble strategy that significantly improves de novo assembly of microbial genomes from metagenomic next-generation sequencing dataCommunity -and hospital laboratory-based surveillance for respiratory virusesSOFTWARE Open Access plethy: management of whole body plethysmography data in RIdentification of M.tuberculosis-Specific Th1 Cells Expressing CD69 Generated in vivo in Pleural Fluid Cells from Patients with Tuberculous PleurisyCage size, movement in and out of housing during daily care, and other environmental and population health risk factors for feline upper respiratory disease in nine North American animal sheltersPerspective of Use of Antiviral Peptides against Influenza VirusHigh-level expression of the HIV entry inhibitor griffithsin from the plastid genome and retention of biological activity in dried tobacco leaves \"\n",
      "-----------------------------\n"
     ]
    },
    {
     "name": "stdout",
     "output_type": "stream",
     "text": [
      "Detection and characterization of respiratory viruses causing acute respiratory illness and asthma exacerbation in children during three different seasons (2011-2014) in Mexico CityARTICLE Protein nanovaccine confers robust immunity against ToxoplasmaARTICLE Protein nanovaccine confers robust immunity against ToxoplasmaARTICLE Protein nanovaccine confers robust immunity against ToxoplasmaRhinovirus Genome Variation during Chronic Upper and Lower Respiratory Tract InfectionsDevelopment of nsP2 protease based cell free high throughput screening assay for evaluation of inhibitors against emerging Chikungunya virus OPENDevelopment of nsP2 protease based cell free high throughput screening assay for evaluation of inhibitors against emerging Chikungunya virus OPENDevelopment of nsP2 protease based cell free high throughput screening assay for evaluation of inhibitors against emerging Chikungunya virus OPENInvolvement of P2X7 receptor signaling on regulating the differentiation of Th17 cells and type II collagen-induced arthritis in miceRhinovirus Genome Variation during Chronic Upper and Lower Respiratory Tract InfectionsRhinovirus Genome Variation during Chronic Upper and Lower Respiratory Tract InfectionsMolecular Sciences Two Sides of the Coin: Ezrin/Radixin/Moesin and Merlin Control Membrane Structure and Contact InhibitionTranscriptional and Translational Landscape of Equine Torovirus GENOME REPLICATION AND REGULATION OF VIRAL GENE EXPRESSION crossmNetwork Clustering Revealed the Systemic Alterations of Mitochondrial Protein ExpressionMINI REVIEW Reservoirs of Porcine Circoviruses: A Mini ReviewMating strategy is determinant of adenovirus prevalence in European batsRhinovirus Genome Variation during Chronic Upper and Lower Respiratory Tract InfectionsRhinovirus Genome Variation during Chronic Upper and Lower Respiratory Tract InfectionsMolecular Sciences Two Sides of the Coin: Ezrin/Radixin/Moesin and Merlin Control Membrane Structure and Contact InhibitionTranscriptional and Translational Landscape of Equine Torovirus GENOME REPLICATION AND REGULATION OF VIRAL GENE EXPRESSION crossmMucosal Immunogenicity of Genetically Modified Lactobacillus acidophilus Expressing an HIV-1 Epitope within the Surface Layer ProteinA global bibliometric analysis of Plesiomonas- related research (1990 -2017)Coinfections of the Respiratory Tract: Viral Competition for ResourcesArticle 120-W (2019) Porcine Torovirus (PToV)-A Brief Review of EtiologyRhinovirus Genome Variation during Chronic Upper and Lower Respiratory Tract InfectionsRhinovirus Genome Variation during Chronic Upper and Lower Respiratory Tract InfectionsMolecular Sciences Two Sides of the Coin: Ezrin/Radixin/Moesin and Merlin Control Membrane Structure and Contact InhibitionTranscriptional and Translational Landscape of Equine Torovirus GENOME REPLICATION AND REGULATION OF VIRAL GENE EXPRESSION crossmGenetic diversity of BCoV in Brazilian cattle herdsNetwork Clustering Revealed the Systemic Alterations of Mitochondrial Protein ExpressionEntrapment of H1N1 Influenza Virus Derived Conserved Peptides in PLGA Nanoparticles Enhances T Cell Response and Vaccine Efficacy in PigsAntiviral Lead Compounds from Marine SpongesAntiviral Lead Compounds from Marine SpongesArticle 120-W (2019) Porcine Torovirus (PToV)-A Brief Review of EtiologyPhylodynamic applications in 21 st century global infectious disease researchRhinovirus Genome Variation during Chronic Upper and Lower Respiratory Tract InfectionsRhinovirus Genome Variation during Chronic Upper and Lower Respiratory Tract InfectionsMolecular Sciences Two Sides of the Coin: Ezrin/Radixin/Moesin and Merlin Control Membrane Structure and Contact InhibitionTranscriptional and Translational Landscape of Equine Torovirus GENOME REPLICATION AND REGULATION OF VIRAL GENE EXPRESSION crossmGenetic diversity of BCoV in Brazilian cattle herdsNetwork Clustering Revealed the Systemic Alterations of Mitochondrial Protein ExpressionInhibition of enterovirus 71 replication and viral 3C protease by quercetinAntiviral Lead Compounds from Marine SpongesAntiviral Lead Compounds from Marine SpongesArticle 120-W (2019) Porcine Torovirus (PToV)-A Brief Review of EtiologyExpression of Cystic Fibrosis Transmembrane Conductance Regulator in Ganglia of Human Gastrointestinal Tract OPENRhinovirus Genome Variation during Chronic Upper and Lower Respiratory Tract InfectionsRhinovirus Genome Variation during Chronic Upper and Lower Respiratory Tract InfectionsMolecular Sciences Two Sides of the Coin: Ezrin/Radixin/Moesin and Merlin Control Membrane Structure and Contact InhibitionTranscriptional and Translational Landscape of Equine Torovirus GENOME REPLICATION AND REGULATION OF VIRAL GENE EXPRESSION crossmGenetic diversity of BCoV in Brazilian cattle herdsNetwork Clustering Revealed the Systemic Alterations of Mitochondrial Protein ExpressionInhibition of enterovirus 71 replication and viral 3C protease by quercetinAntiviral Lead Compounds from Marine SpongesAntiviral Lead Compounds from Marine SpongesArticle 120-W (2019) Porcine Torovirus (PToV)-A Brief Review of EtiologyExpression of Cystic Fibrosis Transmembrane Conductance Regulator in Ganglia of Human Gastrointestinal Tract OPENRhinovirus Genome Variation during Chronic Upper and Lower Respiratory Tract InfectionsRhinovirus Genome Variation during Chronic Upper and Lower Respiratory Tract InfectionsMolecular Sciences Two Sides of the Coin: Ezrin/Radixin/Moesin and Merlin Control Membrane Structure and Contact InhibitionTranscriptional and Translational Landscape of Equine Torovirus GENOME REPLICATION AND REGULATION OF VIRAL GENE EXPRESSION crossmGenetic diversity of BCoV in Brazilian cattle herdsNetwork Clustering Revealed the Systemic Alterations of Mitochondrial Protein ExpressionInhibition of enterovirus 71 replication and viral 3C protease by quercetinAntiviral Lead Compounds from Marine SpongesAntiviral Lead Compounds from Marine SpongesArticle 120-W (2019) Porcine Torovirus (PToV)-A Brief Review of EtiologyExpression of Cystic Fibrosis Transmembrane Conductance Regulator in Ganglia of Human Gastrointestinal Tract OPENRhinovirus Genome Variation during Chronic Upper and Lower Respiratory Tract InfectionsRhinovirus Genome Variation during Chronic Upper and Lower Respiratory Tract InfectionsMolecular Sciences Two Sides of the Coin: Ezrin/Radixin/Moesin and Merlin Control Membrane Structure and Contact InhibitionTranscriptional and Translational Landscape of Equine Torovirus GENOME REPLICATION AND REGULATION OF VIRAL GENE EXPRESSION crossmGenetic diversity of BCoV in Brazilian cattle herdsNetwork Clustering Revealed the Systemic Alterations of Mitochondrial Protein ExpressionEntrapment of H1N1 Influenza Virus Derived Conserved Peptides in PLGA Nanoparticles Enhances T Cell Response and Vaccine Efficacy in PigsAntiviral Lead Compounds from Marine SpongesAntiviral Lead Compounds from Marine SpongesArticle 120-W (2019) Porcine Torovirus (PToV)-A Brief Review of EtiologyPhylodynamic applications in 21 st century global infectious disease researchRhinovirus Genome Variation during Chronic Upper and Lower Respiratory Tract InfectionsRhinovirus Genome Variation during Chronic Upper and Lower Respiratory Tract InfectionsMolecular Sciences Two Sides of the Coin: Ezrin/Radixin/Moesin and Merlin Control Membrane Structure and Contact InhibitionTranscriptional and Translational Landscape of Equine Torovirus GENOME REPLICATION AND REGULATION OF VIRAL GENE EXPRESSION crossmGenetic diversity of BCoV in Brazilian cattle herdsGenetic diversity of BCoV in Brazilian cattle herdsInhibition of enterovirus 71 replication and viral 3C protease by quercetinAntiviral Lead Compounds from Marine SpongesAntiviral Lead Compounds from Marine SpongesArticle 120-W (2019) Porcine Torovirus (PToV)-A Brief Review of EtiologyPhylodynamic applications in 21 st century global infectious disease researchRhinovirus Genome Variation during Chronic Upper and Lower Respiratory Tract InfectionsRhinovirus Genome Variation during Chronic Upper and Lower Respiratory Tract InfectionsMolecular Sciences Two Sides of the Coin: Ezrin/Radixin/Moesin and Merlin Control Membrane Structure and Contact InhibitionTranscriptional and Translational Landscape of Equine Torovirus GENOME REPLICATION AND REGULATION OF VIRAL GENE EXPRESSION crossmGenetic diversity of BCoV in Brazilian cattle herdsGenetic diversity of BCoV in Brazilian cattle herdsInhibition of enterovirus 71 replication and viral 3C protease by quercetin"
     ]
    },
    {
     "name": "stdout",
     "output_type": "stream",
     "text": [
      "Antiviral Lead Compounds from Marine SpongesAntiviral Lead Compounds from Marine SpongesArticle 120-W (2019) Porcine Torovirus (PToV)-A Brief Review of EtiologyPhylodynamic applications in 21 st century global infectious disease researchRhinovirus Genome Variation during Chronic Upper and Lower Respiratory Tract InfectionsRhinovirus Genome Variation during Chronic Upper and Lower Respiratory Tract InfectionsMolecular Sciences Two Sides of the Coin: Ezrin/Radixin/Moesin and Merlin Control Membrane Structure and Contact InhibitionTranscriptional and Translational Landscape of Equine Torovirus GENOME REPLICATION AND REGULATION OF VIRAL GENE EXPRESSION crossmGenetic diversity of BCoV in Brazilian cattle herdsGenetic diversity of BCoV in Brazilian cattle herdsInhibition of enterovirus 71 replication and viral 3C protease by quercetinAntiviral Lead Compounds from Marine SpongesAntiviral Lead Compounds from Marine SpongesArticle 120-W (2019) Porcine Torovirus (PToV)-A Brief Review of EtiologyPhylodynamic applications in 21 st century global infectious disease researchRhinovirus Genome Variation during Chronic Upper and Lower Respiratory Tract InfectionsRhinovirus Genome Variation during Chronic Upper and Lower Respiratory Tract InfectionsMolecular Sciences Two Sides of the Coin: Ezrin/Radixin/Moesin and Merlin Control Membrane Structure and Contact InhibitionTranscriptional and Translational Landscape of Equine Torovirus GENOME REPLICATION AND REGULATION OF VIRAL GENE EXPRESSION crossmGenetic diversity of BCoV in Brazilian cattle herdsGenetic diversity of BCoV in Brazilian cattle herdsInhibition of enterovirus 71 replication and viral 3C protease by quercetinAntiviral Lead Compounds from Marine SpongesAntiviral Lead Compounds from Marine SpongesArticle 120-W (2019) Porcine Torovirus (PToV)-A Brief Review of EtiologyPhylodynamic applications in 21 st century global infectious disease researchRhinovirus Genome Variation during Chronic Upper and Lower Respiratory Tract InfectionsRhinovirus Genome Variation during Chronic Upper and Lower Respiratory Tract InfectionsMolecular Sciences Two Sides of the Coin: Ezrin/Radixin/Moesin and Merlin Control Membrane Structure and Contact InhibitionTranscriptional and Translational Landscape of Equine Torovirus GENOME REPLICATION AND REGULATION OF VIRAL GENE EXPRESSION crossmGenetic diversity of BCoV in Brazilian cattle herdsGenetic diversity of BCoV in Brazilian cattle herdsInhibition of enterovirus 71 replication and viral 3C protease by quercetinAntiviral Lead Compounds from Marine SpongesAntiviral Lead Compounds from Marine SpongesArticle 120-W (2019) Porcine Torovirus (PToV)-A Brief Review of EtiologyPhylodynamic applications in 21 st century global infectious disease researchRhinovirus Genome Variation during Chronic Upper and Lower Respiratory Tract InfectionsRhinovirus Genome Variation during Chronic Upper and Lower Respiratory Tract InfectionsMolecular Sciences Two Sides of the Coin: Ezrin/Radixin/Moesin and Merlin Control Membrane Structure and Contact InhibitionTranscriptional and Translational Landscape of Equine Torovirus GENOME REPLICATION AND REGULATION OF VIRAL GENE EXPRESSION crossmGenetic diversity of BCoV in Brazilian cattle herdsGenetic diversity of BCoV in Brazilian cattle herdsInhibition of enterovirus 71 replication and viral 3C protease by quercetinAntiviral Lead Compounds from Marine SpongesAntiviral Lead Compounds from Marine SpongesArticle 120-W (2019) Porcine Torovirus (PToV)-A Brief Review of EtiologyPhylodynamic applications in 21 st century global infectious disease researchRhinovirus Genome Variation during Chronic Upper and Lower Respiratory Tract InfectionsRhinovirus Genome Variation during Chronic Upper and Lower Respiratory Tract InfectionsMolecular Sciences Two Sides of the Coin: Ezrin/Radixin/Moesin and Merlin Control Membrane Structure and Contact InhibitionTranscriptional and Translational Landscape of Equine Torovirus GENOME REPLICATION AND REGULATION OF VIRAL GENE EXPRESSION crossmGenetic diversity of BCoV in Brazilian cattle herdsGenetic diversity of BCoV in Brazilian cattle herdsInhibition of enterovirus 71 replication and viral 3C protease by quercetinAntiviral Lead Compounds from Marine SpongesAntiviral Lead Compounds from Marine SpongesArticle 120-W (2019) Porcine Torovirus (PToV)-A Brief Review of EtiologyPhylodynamic applications in 21 st century global infectious disease researchRhinovirus Genome Variation during Chronic Upper and Lower Respiratory Tract InfectionsRhinovirus Genome Variation during Chronic Upper and Lower Respiratory Tract InfectionsMolecular Sciences Two Sides of the Coin: Ezrin/Radixin/Moesin and Merlin Control Membrane Structure and Contact InhibitionTranscriptional and Translational Landscape of Equine Torovirus GENOME REPLICATION AND REGULATION OF VIRAL GENE EXPRESSION crossmGenetic diversity of BCoV in Brazilian cattle herdsGenetic diversity of BCoV in Brazilian cattle herdsInhibition of enterovirus 71 replication and viral 3C protease by quercetinAntiviral Lead Compounds from Marine SpongesAntiviral Lead Compounds from Marine SpongesArticle 120-W (2019) Porcine Torovirus (PToV)-A Brief Review of EtiologyPhylodynamic applications in 21 st century global infectious disease researchRhinovirus Genome Variation during Chronic Upper and Lower Respiratory Tract InfectionsRhinovirus Genome Variation during Chronic Upper and Lower Respiratory Tract InfectionsMolecular Sciences Two Sides of the Coin: Ezrin/Radixin/Moesin and Merlin Control Membrane Structure and Contact InhibitionTranscriptional and Translational Landscape of Equine Torovirus GENOME REPLICATION AND REGULATION OF VIRAL GENE EXPRESSION crossmGenetic diversity of BCoV in Brazilian cattle herdsGenetic diversity of BCoV in Brazilian cattle herdsInhibition of enterovirus 71 replication and viral 3C protease by quercetinAntiviral Lead Compounds from Marine SpongesAntiviral Lead Compounds from Marine SpongesArticle 120-W (2019) Porcine Torovirus (PToV)-A Brief Review of EtiologyPhylodynamic applications in 21 st century global infectious disease researchRhinovirus Genome Variation during Chronic Upper and Lower Respiratory Tract InfectionsRhinovirus Genome Variation during Chronic Upper and Lower Respiratory Tract InfectionsMolecular Sciences Two Sides of the Coin: Ezrin/Radixin/Moesin and Merlin Control Membrane Structure and Contact InhibitionTranscriptional and Translational Landscape of Equine Torovirus GENOME REPLICATION AND REGULATION OF VIRAL GENE EXPRESSION crossmGenetic diversity of BCoV in Brazilian cattle herdsGenetic diversity of BCoV in Brazilian cattle herdsInhibition of enterovirus 71 replication and viral 3C protease by quercetinAntiviral Lead Compounds from Marine SpongesAntiviral Lead Compounds from Marine SpongesArticle 120-W (2019) Porcine Torovirus (PToV)-A Brief Review of EtiologyPhylodynamic applications in 21 st century global infectious disease researchRhinovirus Genome Variation during Chronic Upper and Lower Respiratory Tract InfectionsRhinovirus Genome Variation during Chronic Upper and Lower Respiratory Tract InfectionsMolecular Sciences Two Sides of the Coin: Ezrin/Radixin/Moesin and Merlin Control Membrane Structure and Contact InhibitionTranscriptional and Translational Landscape of Equine Torovirus GENOME REPLICATION AND REGULATION OF VIRAL GENE EXPRESSION crossmGenetic diversity of BCoV in Brazilian cattle herdsGenetic diversity of BCoV in Brazilian cattle herdsInhibition of enterovirus 71 replication and viral 3C protease by quercetinAntiviral Lead Compounds from Marine SpongesAntiviral Lead Compounds from Marine SpongesArticle 120-W (2019) Porcine Torovirus (PToV)-A Brief Review of EtiologyPhylodynamic applications in 21 st century global infectious disease researchRhinovirus Genome Variation during Chronic Upper and Lower Respiratory Tract InfectionsRhinovirus Genome Variation during Chronic Upper and Lower Respiratory Tract InfectionsMolecular Sciences Two Sides of the Coin: Ezrin/Radixin/Moesin and Merlin Control Membrane Structure and Contact InhibitionTranscriptional and Translational Landscape of Equine Torovirus GENOME REPLICATION AND REGULATION OF VIRAL GENE EXPRESSION crossm"
     ]
    },
    {
     "name": "stdout",
     "output_type": "stream",
     "text": [
      "Genetic diversity of BCoV in Brazilian cattle herdsGenetic diversity of BCoV in Brazilian cattle herdsInhibition of enterovirus 71 replication and viral 3C protease by quercetinAntiviral Lead Compounds from Marine SpongesAntiviral Lead Compounds from Marine SpongesArticle 120-W (2019) Porcine Torovirus (PToV)-A Brief Review of EtiologyPhylodynamic applications in 21 st century global infectious disease researchRhinovirus Genome Variation during Chronic Upper and Lower Respiratory Tract InfectionsRhinovirus Genome Variation during Chronic Upper and Lower Respiratory Tract InfectionsMolecular Sciences Two Sides of the Coin: Ezrin/Radixin/Moesin and Merlin Control Membrane Structure and Contact InhibitionTranscriptional and Translational Landscape of Equine Torovirus GENOME REPLICATION AND REGULATION OF VIRAL GENE EXPRESSION crossmGenetic diversity of BCoV in Brazilian cattle herdsGenetic diversity of BCoV in Brazilian cattle herdsInhibition of enterovirus 71 replication and viral 3C protease by quercetinAntiviral Lead Compounds from Marine SpongesAntiviral Lead Compounds from Marine SpongesArticle 120-W (2019) Porcine Torovirus (PToV)-A Brief Review of EtiologyPhylodynamic applications in 21 st century global infectious disease researchRhinovirus Genome Variation during Chronic Upper and Lower Respiratory Tract InfectionsRhinovirus Genome Variation during Chronic Upper and Lower Respiratory Tract InfectionsMolecular Sciences Two Sides of the Coin: Ezrin/Radixin/Moesin and Merlin Control Membrane Structure and Contact InhibitionTranscriptional and Translational Landscape of Equine Torovirus GENOME REPLICATION AND REGULATION OF VIRAL GENE EXPRESSION crossmGenetic diversity of BCoV in Brazilian cattle herdsGenetic diversity of BCoV in Brazilian cattle herdsInhibition of enterovirus 71 replication and viral 3C protease by quercetinAntiviral Lead Compounds from Marine SpongesAntiviral Lead Compounds from Marine SpongesArticle 120-W (2019) Porcine Torovirus (PToV)-A Brief Review of EtiologyPhylodynamic applications in 21 st century global infectious disease researchRhinovirus Genome Variation during Chronic Upper and Lower Respiratory Tract InfectionsRhinovirus Genome Variation during Chronic Upper and Lower Respiratory Tract InfectionsMolecular Sciences Two Sides of the Coin: Ezrin/Radixin/Moesin and Merlin Control Membrane Structure and Contact InhibitionTranscriptional and Translational Landscape of Equine Torovirus GENOME REPLICATION AND REGULATION OF VIRAL GENE EXPRESSION crossmGenetic diversity of BCoV in Brazilian cattle herdsGenetic diversity of BCoV in Brazilian cattle herdsInhibition of enterovirus 71 replication and viral 3C protease by quercetinAntiviral Lead Compounds from Marine SpongesAntiviral Lead Compounds from Marine SpongesArticle 120-W (2019) Porcine Torovirus (PToV)-A Brief Review of EtiologyPhylodynamic applications in 21 st century global infectious disease researchRhinovirus Genome Variation during Chronic Upper and Lower Respiratory Tract InfectionsRhinovirus Genome Variation during Chronic Upper and Lower Respiratory Tract InfectionsMolecular Sciences Two Sides of the Coin: Ezrin/Radixin/Moesin and Merlin Control Membrane Structure and Contact InhibitionTranscriptional and Translational Landscape of Equine Torovirus GENOME REPLICATION AND REGULATION OF VIRAL GENE EXPRESSION crossmGenetic diversity of BCoV in Brazilian cattle herdsGenetic diversity of BCoV in Brazilian cattle herdsInhibition of enterovirus 71 replication and viral 3C protease by quercetinAntiviral Lead Compounds from Marine SpongesAntiviral Lead Compounds from Marine SpongesArticle 120-W (2019) Porcine Torovirus (PToV)-A Brief Review of EtiologyPhylodynamic applications in 21 st century global infectious disease researchRhinovirus Genome Variation during Chronic Upper and Lower Respiratory Tract InfectionsRhinovirus Genome Variation during Chronic Upper and Lower Respiratory Tract InfectionsMolecular Sciences Two Sides of the Coin: Ezrin/Radixin/Moesin and Merlin Control Membrane Structure and Contact InhibitionTranscriptional and Translational Landscape of Equine Torovirus GENOME REPLICATION AND REGULATION OF VIRAL GENE EXPRESSION crossmGenetic diversity of BCoV in Brazilian cattle herdsGenetic diversity of BCoV in Brazilian cattle herdsInhibition of enterovirus 71 replication and viral 3C protease by quercetinAntiviral Lead Compounds from Marine SpongesAntiviral Lead Compounds from Marine SpongesArticle 120-W (2019) Porcine Torovirus (PToV)-A Brief Review of EtiologyPhylodynamic applications in 21 st century global infectious disease researchRhinovirus Genome Variation during Chronic Upper and Lower Respiratory Tract InfectionsRhinovirus Genome Variation during Chronic Upper and Lower Respiratory Tract InfectionsMolecular Sciences Two Sides of the Coin: Ezrin/Radixin/Moesin and Merlin Control Membrane Structure and Contact InhibitionTranscriptional and Translational Landscape of Equine Torovirus GENOME REPLICATION AND REGULATION OF VIRAL GENE EXPRESSION crossmGenetic diversity of BCoV in Brazilian cattle herdsGenetic diversity of BCoV in Brazilian cattle herdsInhibition of enterovirus 71 replication and viral 3C protease by quercetinAntiviral Lead Compounds from Marine SpongesAntiviral Lead Compounds from Marine SpongesArticle 120-W (2019) Porcine Torovirus (PToV)-A Brief Review of EtiologyPhylodynamic applications in 21 st century global infectious disease researchRhinovirus Genome Variation during Chronic Upper and Lower Respiratory Tract InfectionsRhinovirus Genome Variation during Chronic Upper and Lower Respiratory Tract InfectionsMolecular Sciences Two Sides of the Coin: Ezrin/Radixin/Moesin and Merlin Control Membrane Structure and Contact InhibitionTranscriptional and Translational Landscape of Equine Torovirus GENOME REPLICATION AND REGULATION OF VIRAL GENE EXPRESSION crossmGenetic diversity of BCoV in Brazilian cattle herdsGenetic diversity of BCoV in Brazilian cattle herdsInhibition of enterovirus 71 replication and viral 3C protease by quercetinAntiviral Lead Compounds from Marine SpongesAntiviral Lead Compounds from Marine SpongesArticle 120-W (2019) Porcine Torovirus (PToV)-A Brief Review of EtiologyPhylodynamic applications in 21 st century global infectious disease researchRhinovirus Genome Variation during Chronic Upper and Lower Respiratory Tract InfectionsRhinovirus Genome Variation during Chronic Upper and Lower Respiratory Tract InfectionsMolecular Sciences Two Sides of the Coin: Ezrin/Radixin/Moesin and Merlin Control Membrane Structure and Contact InhibitionTranscriptional and Translational Landscape of Equine Torovirus GENOME REPLICATION AND REGULATION OF VIRAL GENE EXPRESSION crossmGenetic diversity of BCoV in Brazilian cattle herdsGenetic diversity of BCoV in Brazilian cattle herdsInhibition of enterovirus 71 replication and viral 3C protease by quercetinAntiviral Lead Compounds from Marine SpongesAntiviral Lead Compounds from Marine SpongesArticle 120-W (2019) Porcine Torovirus (PToV)-A Brief Review of EtiologyPhylodynamic applications in 21 st century global infectious disease researchRhinovirus Genome Variation during Chronic Upper and Lower Respiratory Tract InfectionsRhinovirus Genome Variation during Chronic Upper and Lower Respiratory Tract InfectionsMolecular Sciences Two Sides of the Coin: Ezrin/Radixin/Moesin and Merlin Control Membrane Structure and Contact InhibitionTranscriptional and Translational Landscape of Equine Torovirus GENOME REPLICATION AND REGULATION OF VIRAL GENE EXPRESSION crossmGenetic diversity of BCoV in Brazilian cattle herdsGenetic diversity of BCoV in Brazilian cattle herdsInhibition of enterovirus 71 replication and viral 3C protease by quercetinAntiviral Lead Compounds from Marine SpongesAntiviral Lead Compounds from Marine SpongesArticle 120-W (2019) Porcine Torovirus (PToV)-A Brief Review of EtiologyPhylodynamic applications in 21 st century global infectious disease researchRhinovirus Genome Variation during Chronic Upper and Lower Respiratory Tract InfectionsRhinovirus Genome Variation during Chronic Upper and Lower Respiratory Tract InfectionsMolecular Sciences Two Sides of the Coin: Ezrin/Radixin/Moesin and Merlin Control Membrane Structure and Contact InhibitionTranscriptional and Translational Landscape of Equine Torovirus GENOME REPLICATION AND REGULATION OF VIRAL GENE EXPRESSION crossmGenetic diversity of BCoV in Brazilian cattle herdsGenetic diversity of BCoV in Brazilian cattle herdsInhibition of enterovirus 71 replication and viral 3C protease by quercetinAntiviral Lead Compounds from Marine SpongesAntiviral Lead Compounds from Marine SpongesArticle 120-W (2019) Porcine Torovirus (PToV)-A Brief Review of Etiology"
     ]
    },
    {
     "name": "stdout",
     "output_type": "stream",
     "text": [
      "Phylodynamic applications in 21 st century global infectious disease researchRhinovirus Genome Variation during Chronic Upper and Lower Respiratory Tract InfectionsRhinovirus Genome Variation during Chronic Upper and Lower Respiratory Tract InfectionsMolecular Sciences Two Sides of the Coin: Ezrin/Radixin/Moesin and Merlin Control Membrane Structure and Contact InhibitionTranscriptional and Translational Landscape of Equine Torovirus GENOME REPLICATION AND REGULATION OF VIRAL GENE EXPRESSION crossmGenetic diversity of BCoV in Brazilian cattle herdsGenetic diversity of BCoV in Brazilian cattle herdsInhibition of enterovirus 71 replication and viral 3C protease by quercetinAntiviral Lead Compounds from Marine SpongesAntiviral Lead Compounds from Marine SpongesArticle 120-W (2019) Porcine Torovirus (PToV)-A Brief Review of EtiologyPhylodynamic applications in 21 st century global infectious disease researchRhinovirus Genome Variation during Chronic Upper and Lower Respiratory Tract InfectionsRhinovirus Genome Variation during Chronic Upper and Lower Respiratory Tract InfectionsMolecular Sciences Two Sides of the Coin: Ezrin/Radixin/Moesin and Merlin Control Membrane Structure and Contact InhibitionTranscriptional and Translational Landscape of Equine Torovirus GENOME REPLICATION AND REGULATION OF VIRAL GENE EXPRESSION crossmGenetic diversity of BCoV in Brazilian cattle herdsGenetic diversity of BCoV in Brazilian cattle herdsInhibition of enterovirus 71 replication and viral 3C protease by quercetinAntiviral Lead Compounds from Marine SpongesAntiviral Lead Compounds from Marine SpongesArticle 120-W (2019) Porcine Torovirus (PToV)-A Brief Review of EtiologyPhylodynamic applications in 21 st century global infectious disease researchRhinovirus Genome Variation during Chronic Upper and Lower Respiratory Tract InfectionsRhinovirus Genome Variation during Chronic Upper and Lower Respiratory Tract InfectionsMolecular Sciences Two Sides of the Coin: Ezrin/Radixin/Moesin and Merlin Control Membrane Structure and Contact InhibitionTranscriptional and Translational Landscape of Equine Torovirus GENOME REPLICATION AND REGULATION OF VIRAL GENE EXPRESSION crossmGenetic diversity of BCoV in Brazilian cattle herdsGenetic diversity of BCoV in Brazilian cattle herdsInhibition of enterovirus 71 replication and viral 3C protease by quercetinAntiviral Lead Compounds from Marine SpongesAntiviral Lead Compounds from Marine SpongesArticle 120-W (2019) Porcine Torovirus (PToV)-A Brief Review of EtiologyPhylodynamic applications in 21 st century global infectious disease researchRhinovirus Genome Variation during Chronic Upper and Lower Respiratory Tract InfectionsRhinovirus Genome Variation during Chronic Upper and Lower Respiratory Tract InfectionsMolecular Sciences Two Sides of the Coin: Ezrin/Radixin/Moesin and Merlin Control Membrane Structure and Contact InhibitionTranscriptional and Translational Landscape of Equine Torovirus GENOME REPLICATION AND REGULATION OF VIRAL GENE EXPRESSION crossmGenetic diversity of BCoV in Brazilian cattle herdsGenetic diversity of BCoV in Brazilian cattle herdsInhibition of enterovirus 71 replication and viral 3C protease by quercetinAntiviral Lead Compounds from Marine SpongesAntiviral Lead Compounds from Marine SpongesArticle 120-W (2019) Porcine Torovirus (PToV)-A Brief Review of EtiologyPhylodynamic applications in 21 st century global infectious disease researchRhinovirus Genome Variation during Chronic Upper and Lower Respiratory Tract InfectionsRhinovirus Genome Variation during Chronic Upper and Lower Respiratory Tract InfectionsMolecular Sciences Two Sides of the Coin: Ezrin/Radixin/Moesin and Merlin Control Membrane Structure and Contact InhibitionTranscriptional and Translational Landscape of Equine Torovirus GENOME REPLICATION AND REGULATION OF VIRAL GENE EXPRESSION crossmGenetic diversity of BCoV in Brazilian cattle herdsGenetic diversity of BCoV in Brazilian cattle herdsInhibition of enterovirus 71 replication and viral 3C protease by quercetinAntiviral Lead Compounds from Marine SpongesAntiviral Lead Compounds from Marine SpongesArticle 120-W (2019) Porcine Torovirus (PToV)-A Brief Review of EtiologyPhylodynamic applications in 21 st century global infectious disease researchRhinovirus Genome Variation during Chronic Upper and Lower Respiratory Tract InfectionsRhinovirus Genome Variation during Chronic Upper and Lower Respiratory Tract InfectionsMolecular Sciences Two Sides of the Coin: Ezrin/Radixin/Moesin and Merlin Control Membrane Structure and Contact InhibitionTranscriptional and Translational Landscape of Equine Torovirus GENOME REPLICATION AND REGULATION OF VIRAL GENE EXPRESSION crossmGenetic diversity of BCoV in Brazilian cattle herdsGenetic diversity of BCoV in Brazilian cattle herds\n",
      "Done.\n"
     ]
    }
   ],
   "source": [
    "# pick a random seed\n",
    "start = numpy.random.randint(0, len(dataX)-1)\n",
    "pattern = dataX[start]\n",
    "print(\"Seed:\")\n",
    "print (\"\\\"\", ''.join([int_to_char[value] for value in pattern]), \"\\\"\")\n",
    "print(\"-----------------------------\")\n",
    "# generate characters\n",
    "for i in range(1000):\n",
    "    x = numpy.reshape(pattern, (1, len(pattern), 1))\n",
    "    x = x / float(n_vocab)\n",
    "    prediction = model.predict(x, verbose=0)\n",
    "    index = numpy.argmax(prediction)\n",
    "    result = int_to_char[index]\n",
    "    seq_in = [int_to_char[value] for value in pattern]\n",
    "    sys.stdout.write(result)\n",
    "    pattern.append(index)\n",
    "    pattern = pattern[1:len(pattern)]\n",
    "print(\"\\nDone.\")"
   ]
  },
  {
   "cell_type": "code",
   "execution_count": 36,
   "metadata": {},
   "outputs": [],
   "source": [
    "# define the LSTM model\n",
    "model = Sequential()\n",
    "model.add(LSTM(256, input_shape=(X.shape[1], X.shape[2]), return_sequences=True))\n",
    "model.add(Dropout(0.2))\n",
    "model.add(LSTM(256))\n",
    "model.add(Dropout(0.2))\n",
    "model.add(Dense(y.shape[1], activation='softmax'))\n",
    "model.compile(loss='categorical_crossentropy', optimizer='adam')"
   ]
  },
  {
   "cell_type": "code",
   "execution_count": 37,
   "metadata": {},
   "outputs": [
    {
     "name": "stdout",
     "output_type": "stream",
     "text": [
      "Epoch 1/20\n",
      "9018/9018 [==============================] - 74s 8ms/step - loss: 9.0702\n",
      "Epoch 2/20\n",
      "9018/9018 [==============================] - 80s 9ms/step - loss: 9.0891\n",
      "Epoch 3/20\n",
      "9018/9018 [==============================] - 81s 9ms/step - loss: 9.0637\n",
      "Epoch 4/20\n",
      "9018/9018 [==============================] - 81s 9ms/step - loss: 8.9977\n",
      "Epoch 5/20\n",
      "9018/9018 [==============================] - 81s 9ms/step - loss: 8.9651\n",
      "Epoch 6/20\n",
      "9018/9018 [==============================] - 80s 9ms/step - loss: 8.9502\n",
      "Epoch 7/20\n",
      "9018/9018 [==============================] - 80s 9ms/step - loss: 8.9377\n",
      "Epoch 8/20\n",
      "9018/9018 [==============================] - 81s 9ms/step - loss: 8.9243\n",
      "Epoch 9/20\n",
      "9018/9018 [==============================] - 80s 9ms/step - loss: 8.9063\n",
      "Epoch 10/20\n",
      "9018/9018 [==============================] - 80s 9ms/step - loss: 8.9067\n",
      "Epoch 11/20\n",
      "9018/9018 [==============================] - 81s 9ms/step - loss: 8.8754\n",
      "Epoch 12/20\n",
      "9018/9018 [==============================] - 79s 9ms/step - loss: 8.8227\n",
      "Epoch 13/20\n",
      "9018/9018 [==============================] - 76s 8ms/step - loss: 8.6726\n",
      "Epoch 14/20\n",
      "9018/9018 [==============================] - 78s 9ms/step - loss: 8.4197\n",
      "Epoch 15/20\n",
      "9018/9018 [==============================] - 84s 9ms/step - loss: 8.0849\n",
      "Epoch 16/20\n",
      "9018/9018 [==============================] - 83s 9ms/step - loss: 7.7236\n",
      "Epoch 17/20\n",
      "9018/9018 [==============================] - 87s 10ms/step - loss: 7.3092\n",
      "Epoch 18/20\n",
      "9018/9018 [==============================] - 82s 9ms/step - loss: 6.8886\n",
      "Epoch 19/20\n",
      "9018/9018 [==============================] - 81s 9ms/step - loss: 6.5095\n",
      "Epoch 20/20\n",
      "9018/9018 [==============================] - 80s 9ms/step - loss: 6.1178\n"
     ]
    },
    {
     "data": {
      "text/plain": [
       "<keras.callbacks.History at 0x2ba685b3f98>"
      ]
     },
     "execution_count": 37,
     "metadata": {},
     "output_type": "execute_result"
    }
   ],
   "source": [
    "model.fit(X, y, epochs=20, batch_size=128, callbacks=callbacks_list)"
   ]
  },
  {
   "cell_type": "code",
   "execution_count": 60,
   "metadata": {},
   "outputs": [
    {
     "ename": "AttributeError",
     "evalue": "'NoneType' object has no attribute 'load_weights'",
     "output_type": "error",
     "traceback": [
      "\u001b[1;31m---------------------------------------------------------------------------\u001b[0m",
      "\u001b[1;31mAttributeError\u001b[0m                            Traceback (most recent call last)",
      "\u001b[1;32m<ipython-input-60-289eb8282527>\u001b[0m in \u001b[0;36m<module>\u001b[1;34m()\u001b[0m\n\u001b[0;32m      1\u001b[0m \u001b[1;31m# load the network weights\u001b[0m\u001b[1;33m\u001b[0m\u001b[1;33m\u001b[0m\u001b[0m\n\u001b[0;32m      2\u001b[0m \u001b[0mfilename\u001b[0m \u001b[1;33m=\u001b[0m \u001b[1;34m\"models/weights-improvement-20-6.1178.hdf5.model\"\u001b[0m\u001b[1;33m\u001b[0m\u001b[0m\n\u001b[1;32m----> 3\u001b[1;33m \u001b[0mmodel\u001b[0m\u001b[1;33m.\u001b[0m\u001b[0mload_weights\u001b[0m\u001b[1;33m(\u001b[0m\u001b[0mfilename\u001b[0m\u001b[1;33m)\u001b[0m\u001b[1;33m\u001b[0m\u001b[0m\n\u001b[0m\u001b[0;32m      4\u001b[0m \u001b[0mmodel\u001b[0m\u001b[1;33m.\u001b[0m\u001b[0mcompile\u001b[0m\u001b[1;33m(\u001b[0m\u001b[0mloss\u001b[0m\u001b[1;33m=\u001b[0m\u001b[1;34m'categorical_crossentropy'\u001b[0m\u001b[1;33m,\u001b[0m \u001b[0moptimizer\u001b[0m\u001b[1;33m=\u001b[0m\u001b[1;34m'adam'\u001b[0m\u001b[1;33m)\u001b[0m\u001b[1;33m\u001b[0m\u001b[0m\n",
      "\u001b[1;31mAttributeError\u001b[0m: 'NoneType' object has no attribute 'load_weights'"
     ]
    }
   ],
   "source": [
    "# load the network weights\n",
    "filename = \"models/weights-improvement-20-6.1178.hdf5.model\"\n",
    "model.load_weights(filename)\n",
    "model.compile(loss='categorical_crossentropy', optimizer='adam')"
   ]
  },
  {
   "cell_type": "code",
   "execution_count": 61,
   "metadata": {},
   "outputs": [
    {
     "ename": "AttributeError",
     "evalue": "'NoneType' object has no attribute 'summary'",
     "output_type": "error",
     "traceback": [
      "\u001b[1;31m---------------------------------------------------------------------------\u001b[0m",
      "\u001b[1;31mAttributeError\u001b[0m                            Traceback (most recent call last)",
      "\u001b[1;32m<ipython-input-61-5f15418b3570>\u001b[0m in \u001b[0;36m<module>\u001b[1;34m()\u001b[0m\n\u001b[1;32m----> 1\u001b[1;33m \u001b[0mmodel\u001b[0m\u001b[1;33m.\u001b[0m\u001b[0msummary\u001b[0m\u001b[1;33m(\u001b[0m\u001b[1;33m)\u001b[0m\u001b[1;33m\u001b[0m\u001b[0m\n\u001b[0m",
      "\u001b[1;31mAttributeError\u001b[0m: 'NoneType' object has no attribute 'summary'"
     ]
    }
   ],
   "source": [
    "model.summary()"
   ]
  },
  {
   "cell_type": "code",
   "execution_count": null,
   "metadata": {},
   "outputs": [],
   "source": [
    "int_to_char = dict((i, c) for i, c in enumerate(chars))"
   ]
  },
  {
   "cell_type": "code",
   "execution_count": null,
   "metadata": {},
   "outputs": [],
   "source": [
    "# pick a random seed\n",
    "start = numpy.random.randint(0, len(dataX)-1)\n",
    "pattern = dataX[start]\n",
    "print(\"Seed:\")\n",
    "print (\"\\\"\", ''.join([int_to_char[value] for value in pattern]), \"\\\"\")\n",
    "print(\"-----------------------------\")\n",
    "# generate characters\n",
    "for i in range(1000):\n",
    "    x = numpy.reshape(pattern, (1, len(pattern), 1))\n",
    "    x = x / float(n_vocab)\n",
    "    prediction = model.predict(x, verbose=0)\n",
    "    index = numpy.argmax(prediction)\n",
    "    result = int_to_char[index]\n",
    "    seq_in = [int_to_char[value] for value in pattern]\n",
    "    sys.stdout.write(result)\n",
    "    pattern.append(index)\n",
    "    pattern = pattern[1:len(pattern)]\n",
    "print(\"\\nDone.\")"
   ]
  },
  {
   "cell_type": "code",
   "execution_count": null,
   "metadata": {},
   "outputs": [],
   "source": []
  },
  {
   "cell_type": "code",
   "execution_count": 19,
   "metadata": {},
   "outputs": [
    {
     "data": {
      "text/html": [
       "<div>\n",
       "<style scoped>\n",
       "    .dataframe tbody tr th:only-of-type {\n",
       "        vertical-align: middle;\n",
       "    }\n",
       "\n",
       "    .dataframe tbody tr th {\n",
       "        vertical-align: top;\n",
       "    }\n",
       "\n",
       "    .dataframe thead th {\n",
       "        text-align: right;\n",
       "    }\n",
       "</style>\n",
       "<table border=\"1\" class=\"dataframe\">\n",
       "  <thead>\n",
       "    <tr style=\"text-align: right;\">\n",
       "      <th></th>\n",
       "      <th>title</th>\n",
       "    </tr>\n",
       "  </thead>\n",
       "  <tbody>\n",
       "    <tr>\n",
       "      <th>14</th>\n",
       "      <td>The dendritic cell system and its role in immu...</td>\n",
       "    </tr>\n",
       "    <tr>\n",
       "      <th>15</th>\n",
       "      <td>Immunobiology of dendritic cells</td>\n",
       "    </tr>\n",
       "    <tr>\n",
       "      <th>16</th>\n",
       "      <td>The CD4-centered universe of human T cell subsets</td>\n",
       "    </tr>\n",
       "    <tr>\n",
       "      <th>17</th>\n",
       "      <td>Ligation of CD40 on dendritic cells triggers p...</td>\n",
       "    </tr>\n",
       "    <tr>\n",
       "      <th>18</th>\n",
       "      <td>High level IL-12 production by murine dendriti...</td>\n",
       "    </tr>\n",
       "  </tbody>\n",
       "</table>\n",
       "</div>"
      ],
      "text/plain": [
       "                                                title\n",
       "14  The dendritic cell system and its role in immu...\n",
       "15                   Immunobiology of dendritic cells\n",
       "16  The CD4-centered universe of human T cell subsets\n",
       "17  Ligation of CD40 on dendritic cells triggers p...\n",
       "18  High level IL-12 production by murine dendriti..."
      ]
     },
     "execution_count": 19,
     "metadata": {},
     "output_type": "execute_result"
    }
   ],
   "source": [
    "#df_bibl_titles.drop(df_bibl_titles.head(14).index,inplace=True) # drop last n rows\n",
    "#df_bibl_titles.head()"
   ]
  },
  {
   "cell_type": "markdown",
   "metadata": {},
   "source": [
    "# Sentiment analysis"
   ]
  },
  {
   "cell_type": "code",
   "execution_count": null,
   "metadata": {},
   "outputs": [],
   "source": [
    "nltk.download('vader_lexicon')"
   ]
  },
  {
   "cell_type": "code",
   "execution_count": null,
   "metadata": {},
   "outputs": [],
   "source": [
    "sid = SentimentIntensityAnalyzer()"
   ]
  },
  {
   "cell_type": "code",
   "execution_count": null,
   "metadata": {
    "scrolled": true
   },
   "outputs": [],
   "source": [
    "compound_list = []\n",
    "for x in df_for_series['title']:\n",
    "    ss = sid.polarity_scores(x)\n",
    "    compound_list.append(ss['compound'])"
   ]
  },
  {
   "cell_type": "code",
   "execution_count": null,
   "metadata": {},
   "outputs": [],
   "source": [
    "df_for_series['compound'] = compound_list\n",
    "df_for_series.head()"
   ]
  },
  {
   "cell_type": "code",
   "execution_count": null,
   "metadata": {},
   "outputs": [],
   "source": [
    "df_for_series.tail()"
   ]
  },
  {
   "cell_type": "code",
   "execution_count": null,
   "metadata": {},
   "outputs": [],
   "source": [
    "len(df_for_series)"
   ]
  },
  {
   "cell_type": "code",
   "execution_count": null,
   "metadata": {},
   "outputs": [],
   "source": [
    "#df_for_series = df_for_series[df_for_series.index <= '2020.0']"
   ]
  },
  {
   "cell_type": "code",
   "execution_count": null,
   "metadata": {},
   "outputs": [],
   "source": [
    "df_for_series['year'].describe()"
   ]
  },
  {
   "cell_type": "code",
   "execution_count": null,
   "metadata": {},
   "outputs": [],
   "source": []
  },
  {
   "cell_type": "code",
   "execution_count": null,
   "metadata": {},
   "outputs": [],
   "source": [
    "df_for_series.set_index('year', inplace=True)\n",
    "df_for_series.head()"
   ]
  },
  {
   "cell_type": "code",
   "execution_count": null,
   "metadata": {},
   "outputs": [],
   "source": [
    "df_for_series = df_for_series.sort_index()\n",
    "df_for_series.head()"
   ]
  },
  {
   "cell_type": "code",
   "execution_count": null,
   "metadata": {},
   "outputs": [],
   "source": [
    "df_for_series['compound'].describe()"
   ]
  },
  {
   "cell_type": "code",
   "execution_count": null,
   "metadata": {},
   "outputs": [],
   "source": [
    "target_list = []\n",
    "for x in df_for_series['compound']:\n",
    "    if x < -.25:\n",
    "        target_list.append(-1)\n",
    "    elif x > .25:\n",
    "        target_list.append(1)\n",
    "    else: \n",
    "        target_list.append(0)"
   ]
  },
  {
   "cell_type": "code",
   "execution_count": null,
   "metadata": {},
   "outputs": [],
   "source": [
    "df_for_series['target'] = target_list\n",
    "df_for_series.head(20)"
   ]
  },
  {
   "cell_type": "code",
   "execution_count": null,
   "metadata": {},
   "outputs": [],
   "source": [
    "import seaborn as sns"
   ]
  },
  {
   "cell_type": "code",
   "execution_count": null,
   "metadata": {},
   "outputs": [],
   "source": [
    "sns.distplot(compound_list);"
   ]
  },
  {
   "cell_type": "code",
   "execution_count": null,
   "metadata": {},
   "outputs": [],
   "source": [
    "df_time_series = df_for_series[['compound']].copy()\n",
    "df_time_series.tail()"
   ]
  },
  {
   "cell_type": "markdown",
   "metadata": {},
   "source": [
    "Drop outliers"
   ]
  },
  {
   "cell_type": "code",
   "execution_count": null,
   "metadata": {},
   "outputs": [],
   "source": []
  },
  {
   "cell_type": "code",
   "execution_count": null,
   "metadata": {},
   "outputs": [],
   "source": [
    "#df_time_series = df_time_series.loc[df_time_series.index < '2020.0']"
   ]
  },
  {
   "cell_type": "code",
   "execution_count": null,
   "metadata": {},
   "outputs": [],
   "source": [
    "df_time_series.plot(kind='line', figsize=(12,8))\n",
    "plt.title('Compound/Time', fontsize=28)\n",
    "plt.xlabel('Time', fontsize=24)\n",
    "plt.xticks(fontsize=20)\n",
    "plt.yticks(fontsize=20)\n",
    "plt.ylabel('Compound', fontsize=24)\n",
    "plt.legend(fontsize=20);"
   ]
  },
  {
   "cell_type": "code",
   "execution_count": null,
   "metadata": {},
   "outputs": [],
   "source": [
    "# rolling mean"
   ]
  },
  {
   "cell_type": "markdown",
   "metadata": {},
   "source": [
    "# ARIMA"
   ]
  },
  {
   "cell_type": "code",
   "execution_count": null,
   "metadata": {},
   "outputs": [],
   "source": [
    "df_time_series['date'] = pd.to_datetime(df_time_series.index, unit='M')\n",
    "df_time_series.tail()"
   ]
  },
  {
   "cell_type": "code",
   "execution_count": null,
   "metadata": {},
   "outputs": [],
   "source": [
    "def arimamodel(timeseries):\n",
    "    '''\n",
    "     Creating the model: automatic ARIMA using ADF to test stationarity, \n",
    "     start values for p and q are set to 1, and the crypto data is not assumed to be seasonal \n",
    " \n",
    "     Args: \n",
    "         timeseries: Pandas timeseries with closing price \n",
    "         \n",
    "     Returns: \n",
    "         automodel: automatic ARIMA model\n",
    "    '''\n",
    "    automodel = pm.auto_arima(df, \n",
    "                              start_p=1, \n",
    "                              start_q=1,\n",
    "                              test=\"adf\",\n",
    "                              seasonal=False,\n",
    "                              trace=True)\n",
    "    return automodel"
   ]
  },
  {
   "cell_type": "code",
   "execution_count": null,
   "metadata": {},
   "outputs": [],
   "source": [
    "def plotarima(n_periods, timeseries, automodel):\n",
    "    ''' \n",
    "    Plot ARIMA forecast using statsmodel’s plot_predict, \n",
    "        filling the area between the upper and lower prediction bounds.\n",
    "    \n",
    "    Args: \n",
    "        n_periods: steps for the forecast\n",
    "        timeseries: Pandas timeseries with closing price \n",
    "        automodel: automatic ARIMA model\n",
    "    '''\n",
    "    # Hourly index\n",
    "    fc_ind = pd.date_range(df.index[df.shape[0]-1], \n",
    "                           periods=n_periods, freq=\"h\")\n",
    "    # Forecast series\n",
    "    fc_series = pd.Series(forecast[0], index=fc_ind)\n",
    "    # Upper and lower confidence bounds\n",
    "    lower_series = pd.Series(forecast[2][:,0], index=fc_ind)\n",
    "    upper_series = pd.Series(forecast[2][:,1], index=fc_ind)\n",
    "    # Create plot\n",
    "    plt.figure(figsize=(20,10))\n",
    "    plt.plot(df)\n",
    "    plt.plot(fc_series, color=\"blue\")\n",
    "    plt.xlabel(\"date\")\n",
    "    plt.ylabel(df.name)\n",
    "    plt.fill_between(lower_series.index, \n",
    "                     lower_series, \n",
    "                     upper_series, \n",
    "                     color=\"k\", \n",
    "                     alpha=0.25)\n",
    "    plt.legend((\"past\", \"forecast\", \"95% confidence interval\"),  \n",
    "               loc=\"upper left\")\n",
    "    plt.show();"
   ]
  },
  {
   "cell_type": "code",
   "execution_count": null,
   "metadata": {},
   "outputs": [],
   "source": [
    "automodel = arimamodel(df_time_series)"
   ]
  },
  {
   "cell_type": "code",
   "execution_count": null,
   "metadata": {},
   "outputs": [],
   "source": [
    "# Build Model\n",
    "model = ARIMA(train, order=(0, 1, 0))  \n",
    "model_fit = model.fit()  \n",
    "\n",
    "# Forecast\n",
    "fc, se, conf = model_fit.forecast(steps=72, alpha=0.05)  # 95% conf\n",
    "\n",
    "# Make as pandas series\n",
    "fc_series = pd.Series(fc, index=test.index)\n",
    "lower_series = pd.Series(conf[:, 0], index=test.index)\n",
    "upper_series = pd.Series(conf[:, 1], index=test.index)\n",
    "\n",
    "# Plot\n",
    "plt.figure(figsize=(12,5), dpi=100)\n",
    "plt.xticks(rotation=45)\n",
    "plt.plot(train, label='training')\n",
    "plt.plot(test, label='actual')\n",
    "plt.plot(fc_series, label='forecast')\n",
    "plt.fill_between(lower_series.index, lower_series, upper_series, \n",
    "                 color='k', alpha=.15)\n",
    "plt.title('Forecast vs Actuals')\n",
    "plt.legend(loc='upper left', fontsize=8)\n",
    "plt.show()"
   ]
  },
  {
   "cell_type": "code",
   "execution_count": null,
   "metadata": {},
   "outputs": [],
   "source": [
    "automodel.summary()"
   ]
  },
  {
   "cell_type": "code",
   "execution_count": null,
   "metadata": {},
   "outputs": [],
   "source": [
    "automodel.plot_diagnostics(figsize=(15, 18))\n",
    "plt.show()"
   ]
  },
  {
   "cell_type": "code",
   "execution_count": null,
   "metadata": {},
   "outputs": [],
   "source": [
    "print(model_fit.summary())"
   ]
  },
  {
   "cell_type": "code",
   "execution_count": null,
   "metadata": {},
   "outputs": [],
   "source": []
  },
  {
   "cell_type": "code",
   "execution_count": null,
   "metadata": {},
   "outputs": [],
   "source": []
  },
  {
   "cell_type": "code",
   "execution_count": null,
   "metadata": {},
   "outputs": [],
   "source": []
  },
  {
   "cell_type": "markdown",
   "metadata": {},
   "source": [
    "# Create df for commercial articles"
   ]
  },
  {
   "cell_type": "code",
   "execution_count": null,
   "metadata": {
    "scrolled": true
   },
   "outputs": [],
   "source": [
    "def create_df_text(directory): \n",
    "    \n",
    "    ''' Create df with title, abstract and full text as columns\n",
    "    \n",
    "        Argument: directory: choose the directory needed\n",
    "        \n",
    "        Return: dataframe\n",
    "    \n",
    "    '''\n",
    "    docs = []\n",
    "    for d in directory:\n",
    "        for index, file in enumerate(os.listdir(f\"{d}/{d}\")):\n",
    "            file_path = f\"{d}/{d}/{file}\"\n",
    "            j = json.load(open(file_path, 'rb'))\n",
    "\n",
    "            title = j['metadata']['title']\n",
    "\n",
    "            try:\n",
    "                abstract = j['abstract'][0]['text']\n",
    "            except:\n",
    "                abstract = \"\"\n",
    "\n",
    "            full_text = \"\"   \n",
    "            for text in j['body_text']:\n",
    "                full_text += text['text'] + \"\\n\\n\"\n",
    "\n",
    "\n",
    "            docs.append([title, abstract, full_text])\n",
    "\n",
    "            if index % 10 == 0:\n",
    "                print(index, end=\" \")\n",
    "                \n",
    "    df = pd.DataFrame(docs, columns = ['title', 'abstract', 'full_text'])\n",
    "            \n",
    "    return df"
   ]
  },
  {
   "cell_type": "code",
   "execution_count": null,
   "metadata": {},
   "outputs": [],
   "source": [
    "df_comm = create_df_text(directory)"
   ]
  },
  {
   "cell_type": "code",
   "execution_count": null,
   "metadata": {},
   "outputs": [],
   "source": [
    "df_comm.head()"
   ]
  },
  {
   "cell_type": "code",
   "execution_count": null,
   "metadata": {},
   "outputs": [],
   "source": [
    "df_comm.isnull().any()"
   ]
  },
  {
   "cell_type": "markdown",
   "metadata": {},
   "source": [
    "# Check articles that contain the word incubation"
   ]
  },
  {
   "cell_type": "code",
   "execution_count": null,
   "metadata": {},
   "outputs": [],
   "source": [
    "incubation = df_comm[df_comm['full_text'].str.contains('incubation')]\n",
    "incubation.head()"
   ]
  },
  {
   "cell_type": "markdown",
   "metadata": {},
   "source": [
    "Let's write a regex for capture digits followed by the word day and save in a list."
   ]
  },
  {
   "cell_type": "code",
   "execution_count": null,
   "metadata": {},
   "outputs": [],
   "source": [
    "incubation_time = []\n",
    "texts = incubation['full_text'].values\n",
    "\n",
    "for text in texts:\n",
    "    for sentence in text.split(\". \"):\n",
    "        if \"incubation\" in sentence:\n",
    "            single_day = re.findall(r'( \\d{1,2}(\\.\\d{1,2})? day[s]?)', sentence)\n",
    "            \n",
    "            if len(single_day) == 1:\n",
    "                num = single_day[0][0].split(\" \")\n",
    "                incubation_time.append(float(num[1]))"
   ]
  },
  {
   "cell_type": "code",
   "execution_count": null,
   "metadata": {
    "scrolled": true
   },
   "outputs": [],
   "source": [
    "print(len(incubation_time))\n",
    "print(incubation_time, end=' ')"
   ]
  },
  {
   "cell_type": "markdown",
   "metadata": {},
   "source": [
    "I'm assuming that values over 30 are outliers so I'm gonna remove them."
   ]
  },
  {
   "cell_type": "code",
   "execution_count": null,
   "metadata": {},
   "outputs": [],
   "source": [
    "inc_time = [i for i in incubation_time if i < 30]"
   ]
  },
  {
   "cell_type": "code",
   "execution_count": null,
   "metadata": {},
   "outputs": [],
   "source": [
    "df_inc = pd.DataFrame(inc_time, columns=['Incubation days'])\n",
    "df_inc.head()"
   ]
  },
  {
   "cell_type": "code",
   "execution_count": null,
   "metadata": {},
   "outputs": [],
   "source": [
    "df_inc.describe()"
   ]
  },
  {
   "cell_type": "markdown",
   "metadata": {},
   "source": [
    "### The mean of the commercial articles for the incubation days is 7 days."
   ]
  },
  {
   "cell_type": "code",
   "execution_count": null,
   "metadata": {
    "scrolled": false
   },
   "outputs": [],
   "source": [
    "plt.figure(figsize=(20,10))\n",
    "plt.hist(inc_time)\n",
    "plt.title('Incubatione time', fontsize=24)\n",
    "plt.ylabel('Bin counts', fontsize=20)\n",
    "plt.xlabel('Days', fontsize=20);"
   ]
  },
  {
   "cell_type": "markdown",
   "metadata": {},
   "source": [
    "# Create df for non commercial articles"
   ]
  },
  {
   "cell_type": "code",
   "execution_count": null,
   "metadata": {},
   "outputs": [],
   "source": [
    "directory = ['noncomm_use_subset']"
   ]
  },
  {
   "cell_type": "code",
   "execution_count": null,
   "metadata": {},
   "outputs": [],
   "source": [
    "df_non_comm = create_df_text(directory)"
   ]
  },
  {
   "cell_type": "code",
   "execution_count": null,
   "metadata": {},
   "outputs": [],
   "source": [
    "df_non_comm.head()"
   ]
  },
  {
   "cell_type": "code",
   "execution_count": null,
   "metadata": {},
   "outputs": [],
   "source": [
    "df_non_comm.isnull().any()"
   ]
  },
  {
   "cell_type": "markdown",
   "metadata": {},
   "source": [
    "# Check articles that contain the word incubation"
   ]
  },
  {
   "cell_type": "code",
   "execution_count": null,
   "metadata": {},
   "outputs": [],
   "source": [
    "incubation = df_non_comm[df_non_comm['full_text'].str.contains('incubation')]\n",
    "incubation.head()"
   ]
  },
  {
   "cell_type": "markdown",
   "metadata": {},
   "source": [
    "Let's write a regex for capture digits followed by the word day and save in a list."
   ]
  },
  {
   "cell_type": "code",
   "execution_count": null,
   "metadata": {},
   "outputs": [],
   "source": [
    "incubation_time = []\n",
    "texts = incubation['full_text'].values\n",
    "\n",
    "for text in texts:\n",
    "    for sentence in text.split(\". \"):\n",
    "        if \"incubation\" in sentence:\n",
    "            single_day = re.findall(r'( \\d{1,2}(\\.\\d{1,2})? day[s]?)', sentence)\n",
    "            \n",
    "            if len(single_day) == 1:\n",
    "                num = single_day[0][0].split(\" \")\n",
    "                incubation_time.append(float(num[1]))"
   ]
  },
  {
   "cell_type": "code",
   "execution_count": null,
   "metadata": {
    "scrolled": true
   },
   "outputs": [],
   "source": [
    "print(len(incubation_time))\n",
    "print(incubation_time, end=' ')"
   ]
  },
  {
   "cell_type": "markdown",
   "metadata": {},
   "source": [
    "I'm assuming that values over 30 are outliers so I'm gonna remove them."
   ]
  },
  {
   "cell_type": "code",
   "execution_count": null,
   "metadata": {},
   "outputs": [],
   "source": [
    "inc_time = [i for i in incubation_time if i < 30]"
   ]
  },
  {
   "cell_type": "code",
   "execution_count": null,
   "metadata": {},
   "outputs": [],
   "source": [
    "df_inc = pd.DataFrame(inc_time, columns=['Incubation days'])\n",
    "df_inc.head()"
   ]
  },
  {
   "cell_type": "code",
   "execution_count": null,
   "metadata": {},
   "outputs": [],
   "source": [
    "df_inc.describe()"
   ]
  },
  {
   "cell_type": "markdown",
   "metadata": {},
   "source": [
    "### The mean of the non commercial articles for the incubation days is 9 days."
   ]
  },
  {
   "cell_type": "code",
   "execution_count": null,
   "metadata": {
    "scrolled": false
   },
   "outputs": [],
   "source": [
    "plt.figure(figsize=(20,10))\n",
    "plt.hist(inc_time)\n",
    "plt.title('Incubatione time', fontsize=24)\n",
    "plt.ylabel('Bin counts', fontsize=20)\n",
    "plt.xlabel('Days', fontsize=20);"
   ]
  },
  {
   "cell_type": "markdown",
   "metadata": {},
   "source": [
    "# Preprocessing the Data"
   ]
  },
  {
   "cell_type": "markdown",
   "metadata": {},
   "source": [
    "# Stopword and punctualization"
   ]
  },
  {
   "cell_type": "code",
   "execution_count": null,
   "metadata": {},
   "outputs": [],
   "source": [
    "# Get all the stop words in the English language\n",
    "stopwords_list = stopwords.words('english')\n",
    "stopwords_list = stopwords_list + ['the', 'a', 'in', 'al', 'c', 'et','e', 'study', 'virus', 'b','p', \n",
    "                      'using', 'also', 'infection', 'cell', 'h', 'n', 'protein']"
   ]
  },
  {
   "cell_type": "code",
   "execution_count": null,
   "metadata": {},
   "outputs": [],
   "source": [
    "# Now we have a list that includes all english stopwords, as well as all punctuation\n",
    "stopwords_list += list(string.punctuation)"
   ]
  },
  {
   "cell_type": "markdown",
   "metadata": {},
   "source": [
    "# Tokenizing our Data"
   ]
  },
  {
   "cell_type": "code",
   "execution_count": null,
   "metadata": {},
   "outputs": [],
   "source": [
    "def tokenize(text):\n",
    "    joined_text = ' '.join(text)\n",
    "    tokenized_text = word_tokenize(joined_text)\n",
    "    pattern = \"([a-zA-Z]+(?:'[a-z]+)?)\"\n",
    "    text_tokens_raw = nltk.regexp_tokenize(str(tokenized_text), pattern)\n",
    "    stopped_tokens = [w.lower() for w in text_tokens_raw if w not in stopwords_list]\n",
    "    \n",
    "    return stopped_tokens"
   ]
  },
  {
   "cell_type": "code",
   "execution_count": null,
   "metadata": {},
   "outputs": [],
   "source": [
    "full_txt_list = []\n",
    "for x in df_non_comm['full_text']:\n",
    "    full_txt_list.append(x)"
   ]
  },
  {
   "cell_type": "code",
   "execution_count": null,
   "metadata": {},
   "outputs": [],
   "source": [
    "tokenized_full_txt = tokenize(full_txt_list)"
   ]
  },
  {
   "cell_type": "code",
   "execution_count": null,
   "metadata": {
    "scrolled": true
   },
   "outputs": [],
   "source": [
    "tokenized_full_txt[:10]"
   ]
  },
  {
   "cell_type": "markdown",
   "metadata": {},
   "source": [
    "# Count Vectorization."
   ]
  },
  {
   "cell_type": "code",
   "execution_count": null,
   "metadata": {},
   "outputs": [],
   "source": [
    "def count_vectorize(text, vocab=None):\n",
    "    if vocab:\n",
    "        unique_words = vocab\n",
    "    else:\n",
    "        unique_words = list(set(text))\n",
    "    \n",
    "    txt_dict = {i:0 for i in unique_words}\n",
    "    \n",
    "    for word in text:\n",
    "        txt_dict[word] += 1\n",
    "    \n",
    "    return txt_dict"
   ]
  },
  {
   "cell_type": "code",
   "execution_count": null,
   "metadata": {},
   "outputs": [],
   "source": [
    "test_vectorized = count_vectorize(tokenized_full_txt)\n",
    "print(test_vectorized)"
   ]
  },
  {
   "cell_type": "markdown",
   "metadata": {},
   "source": [
    "# Get the 50 most common words "
   ]
  },
  {
   "cell_type": "code",
   "execution_count": null,
   "metadata": {
    "scrolled": false
   },
   "outputs": [],
   "source": [
    "freqdist = FreqDist(tokenized_full_txt)\n",
    "\n",
    "# get the 50 most common words \n",
    "most_common = freqdist.most_common(50)\n",
    "print(most_common[:20], end = ' ')"
   ]
  },
  {
   "cell_type": "code",
   "execution_count": null,
   "metadata": {},
   "outputs": [],
   "source": [
    "num_to_show = 30\n",
    "\n",
    "labels = [\" \".join(e[0]) for e in freqdist.most_common(num_to_show)]\n",
    "values = [e[1] for e in freqdist.most_common(num_to_show)]\n",
    "\n",
    "indexes = np.arange(len(labels))\n",
    "width = 1\n",
    "plt.figure(figsize=(20,10))\n",
    "plt.barh(indexes, values, width)\n",
    "plt.yticks(indexes + width * 0.2, labels, fontsize=20)\n",
    "plt.show()"
   ]
  },
  {
   "cell_type": "markdown",
   "metadata": {},
   "source": [
    "# Normalized Word Frequency"
   ]
  },
  {
   "cell_type": "code",
   "execution_count": null,
   "metadata": {},
   "outputs": [],
   "source": [
    "total_word_count = sum(freqdist.values())\n",
    "titles_top_200 = freqdist.most_common(200)\n",
    "print('Word\\t\\t\\tNormalized Frequency')\n",
    "for word in titles_top_200:\n",
    "    normalized_frequency = word[1] / total_word_count\n",
    "    print('{} \\t\\t\\t {:.4}'.format(word[0], normalized_frequency))"
   ]
  },
  {
   "cell_type": "markdown",
   "metadata": {},
   "source": [
    "# Bigrams"
   ]
  },
  {
   "cell_type": "code",
   "execution_count": null,
   "metadata": {},
   "outputs": [],
   "source": [
    "bigram_measures = nltk.collocations.BigramAssocMeasures()\n",
    "title_finder = BigramCollocationFinder.from_words(tokenized_full_txt)\n",
    "title_scored = title_finder.score_ngrams(bigram_measures.raw_freq)\n",
    "title_scored[:50]"
   ]
  },
  {
   "cell_type": "markdown",
   "metadata": {},
   "source": [
    "# Pointwise Mutual Information"
   ]
  },
  {
   "cell_type": "code",
   "execution_count": null,
   "metadata": {
    "scrolled": true
   },
   "outputs": [],
   "source": [
    "title_finder.apply_freq_filter(5)\n",
    "title_pmi_scored = title_finder.score_ngrams(bigram_measures.pmi)\n",
    "title_pmi_scored"
   ]
  },
  {
   "cell_type": "markdown",
   "metadata": {},
   "source": [
    "# TF-IDF Vectorization"
   ]
  },
  {
   "cell_type": "markdown",
   "metadata": {},
   "source": [
    "If the word is used often in many other documents, it is not unique, and therefore probably not too useful if we wanted to figure out how this document is unique in relation to other documents. Conversely, if a word is used many times in a document, but rarely in all the other documents we are considering, then it is likely a good indicator for telling us that this word is important to the document in question."
   ]
  },
  {
   "cell_type": "markdown",
   "metadata": {},
   "source": [
    "# TF"
   ]
  },
  {
   "cell_type": "code",
   "execution_count": null,
   "metadata": {},
   "outputs": [],
   "source": [
    "def term_frequency(BoW_dict):\n",
    "    total_word_count = sum(BoW_dict.values())\n",
    "    \n",
    "    for ind, val in BoW_dict.items():\n",
    "        BoW_dict[ind] = val/ total_word_count\n",
    "    \n",
    "    return BoW_dict"
   ]
  },
  {
   "cell_type": "code",
   "execution_count": null,
   "metadata": {},
   "outputs": [],
   "source": [
    "test = term_frequency(test_vectorized)\n",
    "print(list(test)[:20])"
   ]
  },
  {
   "cell_type": "markdown",
   "metadata": {},
   "source": [
    "# IDF"
   ]
  },
  {
   "cell_type": "code",
   "execution_count": null,
   "metadata": {},
   "outputs": [],
   "source": [
    "def inverse_document_frequency(list_of_dicts):\n",
    "    vocab_set = set()\n",
    "    \n",
    "    # Iterate through list of dfs and add index to vocab_set\n",
    "    for d in list_of_dicts:\n",
    "        for word in d.keys():\n",
    "            vocab_set.add(word)\n",
    "    \n",
    "    # Once vocab set is complete, create an empty dictionary with a key for each word and value of 0.\n",
    "    full_vocab_dict = {i:0 for i in vocab_set}\n",
    "    \n",
    "    # Loop through each word in full_vocab_dict\n",
    "    for word, val in full_vocab_dict.items():\n",
    "        docs = 0\n",
    "        \n",
    "        # Loop through list of dicts.  Each time a dictionary contains the word, increment docs by 1\n",
    "        for d in list_of_dicts:\n",
    "            if word in d:\n",
    "                docs += 1\n",
    "        \n",
    "        # Now that we know denominator for equation, compute and set IDF value for word\n",
    "        \n",
    "        full_vocab_dict[word] = np.log((len(list_of_dicts)/ float(docs)))\n",
    "    \n",
    "    return full_vocab_dict"
   ]
  },
  {
   "cell_type": "markdown",
   "metadata": {},
   "source": [
    "# Computing TF-IDF"
   ]
  },
  {
   "cell_type": "code",
   "execution_count": null,
   "metadata": {},
   "outputs": [],
   "source": [
    "def tf_idf(list_of_dicts):\n",
    "    # Create empty dictionary containing full vocabulary of entire corpus\n",
    "    doc_tf_idf = {}\n",
    "    idf = inverse_document_frequency(list_of_dicts)\n",
    "    full_vocab_list = {i:0 for i in list(idf.keys())}\n",
    "    \n",
    "    # Create tf-idf list of dictionaries, containing a dictionary that will be updated for each document\n",
    "    tf_idf_list_of_dicts = []\n",
    "    \n",
    "    # Now, compute tf and then use this to compute and set tf-idf values for each document\n",
    "    for doc in list_of_dicts:\n",
    "        doc_tf = term_frequency(doc)\n",
    "        for word in doc_tf:\n",
    "            doc_tf_idf[word] = doc_tf[word] * idf[word]\n",
    "        tf_idf_list_of_dicts.append(doc_tf_idf)\n",
    "    \n",
    "    return tf_idf_list_of_dicts"
   ]
  },
  {
   "cell_type": "markdown",
   "metadata": {},
   "source": [
    "# Vectorizing All Documents"
   ]
  },
  {
   "cell_type": "code",
   "execution_count": null,
   "metadata": {},
   "outputs": [],
   "source": [
    "count_vectorized_all_documents = []\n",
    "count_vectorized_all_documents.append(test_vectorized)"
   ]
  },
  {
   "cell_type": "code",
   "execution_count": null,
   "metadata": {},
   "outputs": [],
   "source": [
    "tf_idf_all_docs = tf_idf(count_vectorized_all_documents)\n",
    "print(list(tf_idf_all_docs[0])[:20])"
   ]
  },
  {
   "cell_type": "code",
   "execution_count": null,
   "metadata": {},
   "outputs": [],
   "source": [
    "num_dims = len(tf_idf_all_docs[0])\n",
    "print(\"Number of Dimensions: {}\".format(num_dims))"
   ]
  },
  {
   "cell_type": "markdown",
   "metadata": {},
   "source": [
    "# Sentiment analysis title sentences"
   ]
  },
  {
   "cell_type": "code",
   "execution_count": null,
   "metadata": {},
   "outputs": [],
   "source": [
    "title_list = []\n",
    "for x in df_non_comm['title']:\n",
    "    title_list.append(x)"
   ]
  },
  {
   "cell_type": "code",
   "execution_count": null,
   "metadata": {},
   "outputs": [],
   "source": [
    "nltk.download('vader_lexicon')"
   ]
  },
  {
   "cell_type": "code",
   "execution_count": null,
   "metadata": {},
   "outputs": [],
   "source": [
    "sid = SentimentIntensityAnalyzer()"
   ]
  },
  {
   "cell_type": "code",
   "execution_count": null,
   "metadata": {
    "scrolled": true
   },
   "outputs": [],
   "source": [
    "compound_list = []\n",
    "for x in title_list:\n",
    "    ss = sid.polarity_scores(x)\n",
    "    compound_list.append(ss['compound'])"
   ]
  },
  {
   "cell_type": "code",
   "execution_count": null,
   "metadata": {},
   "outputs": [],
   "source": [
    "compound_list"
   ]
  },
  {
   "cell_type": "code",
   "execution_count": null,
   "metadata": {},
   "outputs": [],
   "source": [
    "df_title_compound = pd.DataFrame(title_list,columns=['title'])\n",
    "df_title_compound.head()"
   ]
  },
  {
   "cell_type": "code",
   "execution_count": null,
   "metadata": {},
   "outputs": [],
   "source": [
    "df_title_compound['compound'] = compound_list\n",
    "df_title_compound.head()"
   ]
  },
  {
   "cell_type": "code",
   "execution_count": null,
   "metadata": {},
   "outputs": [],
   "source": [
    "df_title_compound['compound'].describe()"
   ]
  },
  {
   "cell_type": "code",
   "execution_count": null,
   "metadata": {},
   "outputs": [],
   "source": [
    "df_title_compound.isnull().any()"
   ]
  },
  {
   "cell_type": "code",
   "execution_count": null,
   "metadata": {},
   "outputs": [],
   "source": [
    "target_list = []\n",
    "for x in df_title_compound['compound']:\n",
    "    if x < -.25:\n",
    "        target_list.append(-1)\n",
    "    elif x > .25:\n",
    "        target_list.append(1)\n",
    "    else: \n",
    "        target_list.append(0)"
   ]
  },
  {
   "cell_type": "code",
   "execution_count": null,
   "metadata": {},
   "outputs": [],
   "source": [
    "df_title_compound['target'] = target_list\n",
    "df_title_compound.head(20)"
   ]
  },
  {
   "cell_type": "code",
   "execution_count": null,
   "metadata": {},
   "outputs": [],
   "source": [
    "import seaborn as sns"
   ]
  },
  {
   "cell_type": "code",
   "execution_count": null,
   "metadata": {},
   "outputs": [],
   "source": [
    "sns.distplot(compound_list);"
   ]
  },
  {
   "cell_type": "markdown",
   "metadata": {},
   "source": [
    "# word_cloud"
   ]
  },
  {
   "cell_type": "code",
   "execution_count": null,
   "metadata": {},
   "outputs": [],
   "source": [
    "neg_title = df_title_compound[df_title_compound['target'] == -1]\n",
    "neg_title.head()"
   ]
  },
  {
   "cell_type": "code",
   "execution_count": null,
   "metadata": {},
   "outputs": [],
   "source": [
    "neg_string = []\n",
    "for t in neg_title['title']:\n",
    "    neg_string.append(t)\n",
    "neg_string"
   ]
  },
  {
   "cell_type": "markdown",
   "metadata": {},
   "source": [
    "# Negative sentiment"
   ]
  },
  {
   "cell_type": "code",
   "execution_count": null,
   "metadata": {},
   "outputs": [],
   "source": [
    "neg_title = df_title_compound[df_title_compound['target'] == -1]\n",
    "neg_string = []\n",
    "for t in neg_title['title']:\n",
    "    neg_string.append(t)\n",
    "neg_string = pd.Series(neg_string).str.cat(sep=' ')\n",
    "\n",
    "wordcloud = WordCloud(width=1600, height=800,max_font_size=200,colormap='magma').generate(neg_string)\n",
    "plt.figure(figsize=(12,10))\n",
    "plt.imshow(wordcloud, interpolation=\"bilinear\")\n",
    "plt.axis(\"off\")\n",
    "plt.show()"
   ]
  },
  {
   "cell_type": "markdown",
   "metadata": {},
   "source": [
    "# Positive sentiment"
   ]
  },
  {
   "cell_type": "code",
   "execution_count": null,
   "metadata": {},
   "outputs": [],
   "source": [
    "pos_title = df_title_compound[df_title_compound['target'] == 1]\n",
    "pos_string = []\n",
    "for t in pos_title['title']:\n",
    "    pos_string.append(t)\n",
    "pos_string = pd.Series(pos_string).str.cat(sep=' ')\n",
    "\n",
    "wordcloud = WordCloud(width=1600, height=800,max_font_size=200).generate(pos_string)\n",
    "plt.figure(figsize=(12,10))\n",
    "plt.imshow(wordcloud, interpolation=\"bilinear\")\n",
    "plt.axis(\"off\")\n",
    "plt.show()"
   ]
  },
  {
   "cell_type": "markdown",
   "metadata": {},
   "source": [
    "# Neutral sentiment"
   ]
  },
  {
   "cell_type": "code",
   "execution_count": null,
   "metadata": {},
   "outputs": [],
   "source": [
    "neut_title = df_title_compound[df_title_compound['target'] == 0]\n",
    "neut_string = []\n",
    "for t in neut_title['title']:\n",
    "    neut_string.append(t)\n",
    "neut_string = pd.Series(neut_string).str.cat(sep=' ')\n",
    "\n",
    "wordcloud = WordCloud(width=1600, height=800,max_font_size=200).generate(neut_string)\n",
    "plt.figure(figsize=(12,10))\n",
    "plt.imshow(wordcloud, interpolation=\"bilinear\")\n",
    "plt.axis(\"off\")\n",
    "plt.show()"
   ]
  },
  {
   "cell_type": "markdown",
   "metadata": {},
   "source": [
    "# Sentiment analysis words"
   ]
  },
  {
   "cell_type": "code",
   "execution_count": null,
   "metadata": {},
   "outputs": [],
   "source": [
    "sid = SentimentIntensityAnalyzer()"
   ]
  },
  {
   "cell_type": "code",
   "execution_count": null,
   "metadata": {},
   "outputs": [],
   "source": [
    "list_x = []\n",
    "for x in most_common:\n",
    "    print(x[0])"
   ]
  },
  {
   "cell_type": "code",
   "execution_count": null,
   "metadata": {},
   "outputs": [],
   "source": [
    "comp_word_list = []\n",
    "for x in most_common:\n",
    "    ss = sid.polarity_scores(x[0])\n",
    "    comp_word_list.append(ss['compound'])"
   ]
  },
  {
   "cell_type": "code",
   "execution_count": null,
   "metadata": {},
   "outputs": [],
   "source": [
    "comp_word_list"
   ]
  },
  {
   "cell_type": "markdown",
   "metadata": {},
   "source": [
    "# What is known about transmission?"
   ]
  },
  {
   "cell_type": "code",
   "execution_count": null,
   "metadata": {},
   "outputs": [],
   "source": [
    "df = pd.DataFrame(full_txt_list, columns=['full_text'])\n",
    "df.head(20)"
   ]
  },
  {
   "cell_type": "code",
   "execution_count": null,
   "metadata": {},
   "outputs": [],
   "source": [
    "transmission = df[df['full_text'].str.contains('transmission')]\n",
    "len(transmission)"
   ]
  },
  {
   "cell_type": "code",
   "execution_count": null,
   "metadata": {},
   "outputs": [],
   "source": [
    "transm_text = transmission.full_text.values"
   ]
  },
  {
   "cell_type": "code",
   "execution_count": null,
   "metadata": {},
   "outputs": [],
   "source": [
    "transm_list = []\n",
    "for t in transm_text:\n",
    "    if 'transmission' in t:\n",
    "        transm_list.append(t)"
   ]
  },
  {
   "cell_type": "code",
   "execution_count": null,
   "metadata": {},
   "outputs": [],
   "source": [
    "for t in transm_text:\n",
    "    if 'transmission' in t:\n",
    "        transm_list.append(t)"
   ]
  },
  {
   "cell_type": "markdown",
   "metadata": {},
   "source": [
    "# NLP-architect"
   ]
  },
  {
   "cell_type": "code",
   "execution_count": null,
   "metadata": {},
   "outputs": [],
   "source": []
  }
 ],
 "metadata": {
  "kernelspec": {
   "display_name": "Python [conda env:learn-env] *",
   "language": "python",
   "name": "conda-env-learn-env-py"
  },
  "language_info": {
   "codemirror_mode": {
    "name": "ipython",
    "version": 3
   },
   "file_extension": ".py",
   "mimetype": "text/x-python",
   "name": "python",
   "nbconvert_exporter": "python",
   "pygments_lexer": "ipython3",
   "version": "3.6.6"
  }
 },
 "nbformat": 4,
 "nbformat_minor": 2
}
